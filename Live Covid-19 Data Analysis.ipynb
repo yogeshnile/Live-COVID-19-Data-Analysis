{
 "cells": [
  {
   "cell_type": "code",
   "execution_count": 1,
   "metadata": {},
   "outputs": [],
   "source": [
    "#Get live data from Website\n",
    "from bs4 import BeautifulSoup\n",
    "import lxml\n",
    "import requests\n",
    "import urllib.request\n",
    "\n",
    "#Data Processing\n",
    "import pandas as pd\n",
    "\n",
    "#data Visualization\n",
    "import matplotlib.pyplot as plt\n",
    "from matplotlib import style\n",
    "style.use('ggplot')\n",
    "import chart_studio\n",
    "import plotly\n",
    "import plotly.express as px\n",
    "import plotly.graph_objects as go\n",
    "import cufflinks as cf\n",
    "import plotly.offline as pyo\n",
    "from plotly.offline import init_notebook_mode,plot,iplot\n",
    "\n",
    "#For Map Visualization\n",
    "import folium"
   ]
  },
  {
   "cell_type": "code",
   "execution_count": 2,
   "metadata": {},
   "outputs": [
    {
     "data": {
      "text/html": [
       "        <script type=\"text/javascript\">\n",
       "        window.PlotlyConfig = {MathJaxConfig: 'local'};\n",
       "        if (window.MathJax) {MathJax.Hub.Config({SVG: {font: \"STIX-Web\"}});}\n",
       "        if (typeof require !== 'undefined') {\n",
       "        require.undef(\"plotly\");\n",
       "        requirejs.config({\n",
       "            paths: {\n",
       "                'plotly': ['https://cdn.plot.ly/plotly-latest.min']\n",
       "            }\n",
       "        });\n",
       "        require(['plotly'], function(Plotly) {\n",
       "            window._Plotly = Plotly;\n",
       "        });\n",
       "        }\n",
       "        </script>\n",
       "        "
      ]
     },
     "metadata": {},
     "output_type": "display_data"
    },
    {
     "data": {
      "text/html": [
       "        <script type=\"text/javascript\">\n",
       "        window.PlotlyConfig = {MathJaxConfig: 'local'};\n",
       "        if (window.MathJax) {MathJax.Hub.Config({SVG: {font: \"STIX-Web\"}});}\n",
       "        if (typeof require !== 'undefined') {\n",
       "        require.undef(\"plotly\");\n",
       "        requirejs.config({\n",
       "            paths: {\n",
       "                'plotly': ['https://cdn.plot.ly/plotly-latest.min']\n",
       "            }\n",
       "        });\n",
       "        require(['plotly'], function(Plotly) {\n",
       "            window._Plotly = Plotly;\n",
       "        });\n",
       "        }\n",
       "        </script>\n",
       "        "
      ]
     },
     "metadata": {},
     "output_type": "display_data"
    }
   ],
   "source": [
    "pyo.init_notebook_mode(connected=True)\n",
    "cf.go_offline()"
   ]
  },
  {
   "cell_type": "markdown",
   "metadata": {},
   "source": [
    "## Get Live Data from website"
   ]
  },
  {
   "cell_type": "code",
   "execution_count": 3,
   "metadata": {},
   "outputs": [],
   "source": [
    "demo = urllib.request.urlopen('https://www.mygov.in/corona-data/covid19-statewise-status')\n",
    "soup = BeautifulSoup(demo,\"lxml\")"
   ]
  },
  {
   "cell_type": "markdown",
   "metadata": {},
   "source": [
    "## Get Time of Retrive a data"
   ]
  },
  {
   "cell_type": "code",
   "execution_count": 4,
   "metadata": {},
   "outputs": [
    {
     "name": "stdout",
     "output_type": "stream",
     "text": [
      "The Covid-19 data updated on 21 April 2020, 08:00 GMT+5:30\n"
     ]
    }
   ],
   "source": [
    "tabledata = soup.find('div', class_='content clearfix')\n",
    "time = tabledata.find('div', class_='field-item')\n",
    "print('The Covid-19 data updated on',time.text)"
   ]
  },
  {
   "cell_type": "markdown",
   "metadata": {},
   "source": [
    "### Create a list to Store a data"
   ]
  },
  {
   "cell_type": "code",
   "execution_count": 5,
   "metadata": {},
   "outputs": [],
   "source": [
    "State_Name = ['demo']\n",
    "Total_confirmed = ['demo']\n",
    "Cured = ['demo']\n",
    "Death = ['demo']"
   ]
  },
  {
   "cell_type": "markdown",
   "metadata": {},
   "source": [
    "## Save data in List"
   ]
  },
  {
   "cell_type": "code",
   "execution_count": 6,
   "metadata": {},
   "outputs": [],
   "source": [
    "for con in tabledata.find_all('div', class_='content'):\n",
    "    \n",
    "    item1 = con.find('div', class_='field field-name-field-select-state field-type-list-text field-label-above')\n",
    "    data_state = item1.find('div', class_='field-items')\n",
    "    State_Name.append(data_state.text)\n",
    "\n",
    "\n",
    "    item2 = con.find('div', \n",
    "                     class_='field field-name-field-total-confirmed-indians field-type-number-integer field-label-above')\n",
    "    data_cases = item2.find('div', class_='field-items')\n",
    "    Total_confirmed.append(data_cases.text)\n",
    "\n",
    "\n",
    "    item3 = con.find('div', \n",
    "                     class_='field field-name-field-cured field-type-number-integer field-label-above')\n",
    "    data_cured = item3.find('div', class_='field-items')\n",
    "    Cured.append(data_cured.text)\n",
    "\n",
    "\n",
    "    item4 = con.find('div', \n",
    "                     class_='field field-name-field-deaths field-type-number-integer field-label-above')\n",
    "    data_death = item4.find('div', class_='field-items')\n",
    "    Death.append(data_death.text)"
   ]
  },
  {
   "cell_type": "markdown",
   "metadata": {},
   "source": [
    "## Create a DataFrame form list"
   ]
  },
  {
   "cell_type": "code",
   "execution_count": 7,
   "metadata": {},
   "outputs": [],
   "source": [
    "Data_table = {'STATE NAME':State_Name, 'TOTAL CONFIRMED':Total_confirmed, 'CURED/DISCHARGED/MIGRATED':Cured,\n",
    "             'DEATH':Death}"
   ]
  },
  {
   "cell_type": "code",
   "execution_count": 8,
   "metadata": {},
   "outputs": [],
   "source": [
    "covid_india = pd.DataFrame(Data_table)"
   ]
  },
  {
   "cell_type": "code",
   "execution_count": 9,
   "metadata": {},
   "outputs": [],
   "source": [
    "covid_india = covid_india.drop(0)\n",
    "covid_india = covid_india.reset_index(drop=True)"
   ]
  },
  {
   "cell_type": "code",
   "execution_count": 10,
   "metadata": {},
   "outputs": [
    {
     "data": {
      "text/plain": [
       "STATE NAME                   object\n",
       "TOTAL CONFIRMED              object\n",
       "CURED/DISCHARGED/MIGRATED    object\n",
       "DEATH                        object\n",
       "dtype: object"
      ]
     },
     "execution_count": 10,
     "metadata": {},
     "output_type": "execute_result"
    }
   ],
   "source": [
    "covid_india.dtypes"
   ]
  },
  {
   "cell_type": "code",
   "execution_count": 11,
   "metadata": {},
   "outputs": [],
   "source": [
    "covid_india['TOTAL CONFIRMED'] = covid_india['TOTAL CONFIRMED'].astype(int)\n",
    "covid_india['CURED/DISCHARGED/MIGRATED'] = covid_india['CURED/DISCHARGED/MIGRATED'].astype(int)\n",
    "covid_india['DEATH'] = covid_india['DEATH'].astype(int)"
   ]
  },
  {
   "cell_type": "code",
   "execution_count": 12,
   "metadata": {},
   "outputs": [
    {
     "data": {
      "text/html": [
       "<div>\n",
       "<style scoped>\n",
       "    .dataframe tbody tr th:only-of-type {\n",
       "        vertical-align: middle;\n",
       "    }\n",
       "\n",
       "    .dataframe tbody tr th {\n",
       "        vertical-align: top;\n",
       "    }\n",
       "\n",
       "    .dataframe thead th {\n",
       "        text-align: right;\n",
       "    }\n",
       "</style>\n",
       "<table border=\"1\" class=\"dataframe\">\n",
       "  <thead>\n",
       "    <tr style=\"text-align: right;\">\n",
       "      <th></th>\n",
       "      <th>STATE NAME</th>\n",
       "      <th>TOTAL CONFIRMED</th>\n",
       "      <th>CURED/DISCHARGED/MIGRATED</th>\n",
       "      <th>DEATH</th>\n",
       "    </tr>\n",
       "  </thead>\n",
       "  <tbody>\n",
       "    <tr>\n",
       "      <th>0</th>\n",
       "      <td>AndhraPradesh</td>\n",
       "      <td>722</td>\n",
       "      <td>92</td>\n",
       "      <td>20</td>\n",
       "    </tr>\n",
       "    <tr>\n",
       "      <th>1</th>\n",
       "      <td>AndamanNicobar</td>\n",
       "      <td>16</td>\n",
       "      <td>11</td>\n",
       "      <td>0</td>\n",
       "    </tr>\n",
       "    <tr>\n",
       "      <th>2</th>\n",
       "      <td>Bihar</td>\n",
       "      <td>113</td>\n",
       "      <td>42</td>\n",
       "      <td>2</td>\n",
       "    </tr>\n",
       "    <tr>\n",
       "      <th>3</th>\n",
       "      <td>Chandigarh</td>\n",
       "      <td>26</td>\n",
       "      <td>13</td>\n",
       "      <td>0</td>\n",
       "    </tr>\n",
       "    <tr>\n",
       "      <th>4</th>\n",
       "      <td>Chhattisgarh</td>\n",
       "      <td>36</td>\n",
       "      <td>25</td>\n",
       "      <td>0</td>\n",
       "    </tr>\n",
       "  </tbody>\n",
       "</table>\n",
       "</div>"
      ],
      "text/plain": [
       "       STATE NAME  TOTAL CONFIRMED  CURED/DISCHARGED/MIGRATED  DEATH\n",
       "0   AndhraPradesh              722                         92     20\n",
       "1  AndamanNicobar               16                         11      0\n",
       "2           Bihar              113                         42      2\n",
       "3      Chandigarh               26                         13      0\n",
       "4    Chhattisgarh               36                         25      0"
      ]
     },
     "execution_count": 12,
     "metadata": {},
     "output_type": "execute_result"
    }
   ],
   "source": [
    "covid_india.head()"
   ]
  },
  {
   "cell_type": "code",
   "execution_count": 13,
   "metadata": {},
   "outputs": [],
   "source": [
    "covid_india['ACTIVE CASES'] = covid_india['TOTAL CONFIRMED'] - covid_india['CURED/DISCHARGED/MIGRATED'] - covid_india['DEATH']"
   ]
  },
  {
   "cell_type": "code",
   "execution_count": 14,
   "metadata": {},
   "outputs": [
    {
     "data": {
      "text/html": [
       "<div>\n",
       "<style scoped>\n",
       "    .dataframe tbody tr th:only-of-type {\n",
       "        vertical-align: middle;\n",
       "    }\n",
       "\n",
       "    .dataframe tbody tr th {\n",
       "        vertical-align: top;\n",
       "    }\n",
       "\n",
       "    .dataframe thead th {\n",
       "        text-align: right;\n",
       "    }\n",
       "</style>\n",
       "<table border=\"1\" class=\"dataframe\">\n",
       "  <thead>\n",
       "    <tr style=\"text-align: right;\">\n",
       "      <th></th>\n",
       "      <th>STATE NAME</th>\n",
       "      <th>TOTAL CONFIRMED</th>\n",
       "      <th>CURED/DISCHARGED/MIGRATED</th>\n",
       "      <th>DEATH</th>\n",
       "      <th>ACTIVE CASES</th>\n",
       "    </tr>\n",
       "  </thead>\n",
       "  <tbody>\n",
       "    <tr>\n",
       "      <th>0</th>\n",
       "      <td>AndhraPradesh</td>\n",
       "      <td>722</td>\n",
       "      <td>92</td>\n",
       "      <td>20</td>\n",
       "      <td>610</td>\n",
       "    </tr>\n",
       "    <tr>\n",
       "      <th>1</th>\n",
       "      <td>AndamanNicobar</td>\n",
       "      <td>16</td>\n",
       "      <td>11</td>\n",
       "      <td>0</td>\n",
       "      <td>5</td>\n",
       "    </tr>\n",
       "    <tr>\n",
       "      <th>2</th>\n",
       "      <td>Bihar</td>\n",
       "      <td>113</td>\n",
       "      <td>42</td>\n",
       "      <td>2</td>\n",
       "      <td>69</td>\n",
       "    </tr>\n",
       "    <tr>\n",
       "      <th>3</th>\n",
       "      <td>Chandigarh</td>\n",
       "      <td>26</td>\n",
       "      <td>13</td>\n",
       "      <td>0</td>\n",
       "      <td>13</td>\n",
       "    </tr>\n",
       "    <tr>\n",
       "      <th>4</th>\n",
       "      <td>Chhattisgarh</td>\n",
       "      <td>36</td>\n",
       "      <td>25</td>\n",
       "      <td>0</td>\n",
       "      <td>11</td>\n",
       "    </tr>\n",
       "  </tbody>\n",
       "</table>\n",
       "</div>"
      ],
      "text/plain": [
       "       STATE NAME  TOTAL CONFIRMED  CURED/DISCHARGED/MIGRATED  DEATH  \\\n",
       "0   AndhraPradesh              722                         92     20   \n",
       "1  AndamanNicobar               16                         11      0   \n",
       "2           Bihar              113                         42      2   \n",
       "3      Chandigarh               26                         13      0   \n",
       "4    Chhattisgarh               36                         25      0   \n",
       "\n",
       "   ACTIVE CASES  \n",
       "0           610  \n",
       "1             5  \n",
       "2            69  \n",
       "3            13  \n",
       "4            11  "
      ]
     },
     "execution_count": 14,
     "metadata": {},
     "output_type": "execute_result"
    }
   ],
   "source": [
    "covid_india.head()"
   ]
  },
  {
   "cell_type": "markdown",
   "metadata": {},
   "source": [
    "## Analysis Data in Numerical Format"
   ]
  },
  {
   "cell_type": "code",
   "execution_count": 15,
   "metadata": {},
   "outputs": [
    {
     "data": {
      "text/html": [
       "<style  type=\"text/css\" >\n",
       "    #T_79e17fd2_83a5_11ea_9a54_0019995a1c18row0_col1 {\n",
       "            background-color:  #fed8c7;\n",
       "            color:  #000000;\n",
       "        }    #T_79e17fd2_83a5_11ea_9a54_0019995a1c18row0_col2 {\n",
       "            background-color:  #fdd5c4;\n",
       "            color:  #000000;\n",
       "        }    #T_79e17fd2_83a5_11ea_9a54_0019995a1c18row0_col3 {\n",
       "            background-color:  #fee7db;\n",
       "            color:  #000000;\n",
       "        }    #T_79e17fd2_83a5_11ea_9a54_0019995a1c18row0_col4 {\n",
       "            background-color:  #fdd7c6;\n",
       "            color:  #000000;\n",
       "        }    #T_79e17fd2_83a5_11ea_9a54_0019995a1c18row1_col1 {\n",
       "            background-color:  #fff5f0;\n",
       "            color:  #000000;\n",
       "        }    #T_79e17fd2_83a5_11ea_9a54_0019995a1c18row1_col2 {\n",
       "            background-color:  #fff2ec;\n",
       "            color:  #000000;\n",
       "        }    #T_79e17fd2_83a5_11ea_9a54_0019995a1c18row1_col3 {\n",
       "            background-color:  #fff5f0;\n",
       "            color:  #000000;\n",
       "        }    #T_79e17fd2_83a5_11ea_9a54_0019995a1c18row1_col4 {\n",
       "            background-color:  #fff5f0;\n",
       "            color:  #000000;\n",
       "        }    #T_79e17fd2_83a5_11ea_9a54_0019995a1c18row2_col1 {\n",
       "            background-color:  #fff1ea;\n",
       "            color:  #000000;\n",
       "        }    #T_79e17fd2_83a5_11ea_9a54_0019995a1c18row2_col2 {\n",
       "            background-color:  #fee9df;\n",
       "            color:  #000000;\n",
       "        }    #T_79e17fd2_83a5_11ea_9a54_0019995a1c18row2_col3 {\n",
       "            background-color:  #fff4ee;\n",
       "            color:  #000000;\n",
       "        }    #T_79e17fd2_83a5_11ea_9a54_0019995a1c18row2_col4 {\n",
       "            background-color:  #fff2ec;\n",
       "            color:  #000000;\n",
       "        }    #T_79e17fd2_83a5_11ea_9a54_0019995a1c18row3_col1 {\n",
       "            background-color:  #fff4ef;\n",
       "            color:  #000000;\n",
       "        }    #T_79e17fd2_83a5_11ea_9a54_0019995a1c18row3_col2 {\n",
       "            background-color:  #fff2eb;\n",
       "            color:  #000000;\n",
       "        }    #T_79e17fd2_83a5_11ea_9a54_0019995a1c18row3_col3 {\n",
       "            background-color:  #fff5f0;\n",
       "            color:  #000000;\n",
       "        }    #T_79e17fd2_83a5_11ea_9a54_0019995a1c18row3_col4 {\n",
       "            background-color:  #fff5f0;\n",
       "            color:  #000000;\n",
       "        }    #T_79e17fd2_83a5_11ea_9a54_0019995a1c18row4_col1 {\n",
       "            background-color:  #fff4ef;\n",
       "            color:  #000000;\n",
       "        }    #T_79e17fd2_83a5_11ea_9a54_0019995a1c18row4_col2 {\n",
       "            background-color:  #ffeee6;\n",
       "            color:  #000000;\n",
       "        }    #T_79e17fd2_83a5_11ea_9a54_0019995a1c18row4_col3 {\n",
       "            background-color:  #fff5f0;\n",
       "            color:  #000000;\n",
       "        }    #T_79e17fd2_83a5_11ea_9a54_0019995a1c18row4_col4 {\n",
       "            background-color:  #fff5f0;\n",
       "            color:  #000000;\n",
       "        }    #T_79e17fd2_83a5_11ea_9a54_0019995a1c18row5_col1 {\n",
       "            background-color:  #fb7b5b;\n",
       "            color:  #000000;\n",
       "        }    #T_79e17fd2_83a5_11ea_9a54_0019995a1c18row5_col2 {\n",
       "            background-color:  #ca181d;\n",
       "            color:  #f1f1f1;\n",
       "        }    #T_79e17fd2_83a5_11ea_9a54_0019995a1c18row5_col3 {\n",
       "            background-color:  #fdcab5;\n",
       "            color:  #000000;\n",
       "        }    #T_79e17fd2_83a5_11ea_9a54_0019995a1c18row5_col4 {\n",
       "            background-color:  #fc8565;\n",
       "            color:  #000000;\n",
       "        }    #T_79e17fd2_83a5_11ea_9a54_0019995a1c18row6_col1 {\n",
       "            background-color:  #fff5f0;\n",
       "            color:  #000000;\n",
       "        }    #T_79e17fd2_83a5_11ea_9a54_0019995a1c18row6_col2 {\n",
       "            background-color:  #fff3ed;\n",
       "            color:  #000000;\n",
       "        }    #T_79e17fd2_83a5_11ea_9a54_0019995a1c18row6_col3 {\n",
       "            background-color:  #fff5f0;\n",
       "            color:  #000000;\n",
       "        }    #T_79e17fd2_83a5_11ea_9a54_0019995a1c18row6_col4 {\n",
       "            background-color:  #fff5f0;\n",
       "            color:  #000000;\n",
       "        }    #T_79e17fd2_83a5_11ea_9a54_0019995a1c18row7_col1 {\n",
       "            background-color:  #fc8565;\n",
       "            color:  #000000;\n",
       "        }    #T_79e17fd2_83a5_11ea_9a54_0019995a1c18row7_col2 {\n",
       "            background-color:  #fcc2aa;\n",
       "            color:  #000000;\n",
       "        }    #T_79e17fd2_83a5_11ea_9a54_0019995a1c18row7_col3 {\n",
       "            background-color:  #fca98c;\n",
       "            color:  #000000;\n",
       "        }    #T_79e17fd2_83a5_11ea_9a54_0019995a1c18row7_col4 {\n",
       "            background-color:  #fb7a5a;\n",
       "            color:  #000000;\n",
       "        }    #T_79e17fd2_83a5_11ea_9a54_0019995a1c18row8_col1 {\n",
       "            background-color:  #ffece4;\n",
       "            color:  #000000;\n",
       "        }    #T_79e17fd2_83a5_11ea_9a54_0019995a1c18row8_col2 {\n",
       "            background-color:  #fcc4ad;\n",
       "            color:  #000000;\n",
       "        }    #T_79e17fd2_83a5_11ea_9a54_0019995a1c18row8_col3 {\n",
       "            background-color:  #fff3ed;\n",
       "            color:  #000000;\n",
       "        }    #T_79e17fd2_83a5_11ea_9a54_0019995a1c18row8_col4 {\n",
       "            background-color:  #fff0e8;\n",
       "            color:  #000000;\n",
       "        }    #T_79e17fd2_83a5_11ea_9a54_0019995a1c18row9_col1 {\n",
       "            background-color:  #fff4ee;\n",
       "            color:  #000000;\n",
       "        }    #T_79e17fd2_83a5_11ea_9a54_0019995a1c18row9_col2 {\n",
       "            background-color:  #fff0e9;\n",
       "            color:  #000000;\n",
       "        }    #T_79e17fd2_83a5_11ea_9a54_0019995a1c18row9_col3 {\n",
       "            background-color:  #fff4ef;\n",
       "            color:  #000000;\n",
       "        }    #T_79e17fd2_83a5_11ea_9a54_0019995a1c18row9_col4 {\n",
       "            background-color:  #fff4ef;\n",
       "            color:  #000000;\n",
       "        }    #T_79e17fd2_83a5_11ea_9a54_0019995a1c18row10_col1 {\n",
       "            background-color:  #fee8dd;\n",
       "            color:  #000000;\n",
       "        }    #T_79e17fd2_83a5_11ea_9a54_0019995a1c18row10_col2 {\n",
       "            background-color:  #fee1d3;\n",
       "            color:  #000000;\n",
       "        }    #T_79e17fd2_83a5_11ea_9a54_0019995a1c18row10_col3 {\n",
       "            background-color:  #fff2eb;\n",
       "            color:  #000000;\n",
       "        }    #T_79e17fd2_83a5_11ea_9a54_0019995a1c18row10_col4 {\n",
       "            background-color:  #fee8de;\n",
       "            color:  #000000;\n",
       "        }    #T_79e17fd2_83a5_11ea_9a54_0019995a1c18row11_col1 {\n",
       "            background-color:  #fee7db;\n",
       "            color:  #000000;\n",
       "        }    #T_79e17fd2_83a5_11ea_9a54_0019995a1c18row11_col2 {\n",
       "            background-color:  #fdcbb6;\n",
       "            color:  #000000;\n",
       "        }    #T_79e17fd2_83a5_11ea_9a54_0019995a1c18row11_col3 {\n",
       "            background-color:  #feeae0;\n",
       "            color:  #000000;\n",
       "        }    #T_79e17fd2_83a5_11ea_9a54_0019995a1c18row11_col4 {\n",
       "            background-color:  #fee9df;\n",
       "            color:  #000000;\n",
       "        }    #T_79e17fd2_83a5_11ea_9a54_0019995a1c18row12_col1 {\n",
       "            background-color:  #fee7db;\n",
       "            color:  #000000;\n",
       "        }    #T_79e17fd2_83a5_11ea_9a54_0019995a1c18row12_col2 {\n",
       "            background-color:  #fa6648;\n",
       "            color:  #000000;\n",
       "        }    #T_79e17fd2_83a5_11ea_9a54_0019995a1c18row12_col3 {\n",
       "            background-color:  #fff3ed;\n",
       "            color:  #000000;\n",
       "        }    #T_79e17fd2_83a5_11ea_9a54_0019995a1c18row12_col4 {\n",
       "            background-color:  #fff0e9;\n",
       "            color:  #000000;\n",
       "        }    #T_79e17fd2_83a5_11ea_9a54_0019995a1c18row13_col1 {\n",
       "            background-color:  #fff5f0;\n",
       "            color:  #000000;\n",
       "        }    #T_79e17fd2_83a5_11ea_9a54_0019995a1c18row13_col2 {\n",
       "            background-color:  #fff1ea;\n",
       "            color:  #000000;\n",
       "        }    #T_79e17fd2_83a5_11ea_9a54_0019995a1c18row13_col3 {\n",
       "            background-color:  #fff5f0;\n",
       "            color:  #000000;\n",
       "        }    #T_79e17fd2_83a5_11ea_9a54_0019995a1c18row13_col4 {\n",
       "            background-color:  #fff5f0;\n",
       "            color:  #000000;\n",
       "        }    #T_79e17fd2_83a5_11ea_9a54_0019995a1c18row14_col1 {\n",
       "            background-color:  #fca588;\n",
       "            color:  #000000;\n",
       "        }    #T_79e17fd2_83a5_11ea_9a54_0019995a1c18row14_col2 {\n",
       "            background-color:  #fcc4ad;\n",
       "            color:  #000000;\n",
       "        }    #T_79e17fd2_83a5_11ea_9a54_0019995a1c18row14_col3 {\n",
       "            background-color:  #fca588;\n",
       "            color:  #000000;\n",
       "        }    #T_79e17fd2_83a5_11ea_9a54_0019995a1c18row14_col4 {\n",
       "            background-color:  #fca082;\n",
       "            color:  #000000;\n",
       "        }    #T_79e17fd2_83a5_11ea_9a54_0019995a1c18row15_col1 {\n",
       "            background-color:  #67000d;\n",
       "            color:  #f1f1f1;\n",
       "        }    #T_79e17fd2_83a5_11ea_9a54_0019995a1c18row15_col2 {\n",
       "            background-color:  #67000d;\n",
       "            color:  #f1f1f1;\n",
       "        }    #T_79e17fd2_83a5_11ea_9a54_0019995a1c18row15_col3 {\n",
       "            background-color:  #67000d;\n",
       "            color:  #f1f1f1;\n",
       "        }    #T_79e17fd2_83a5_11ea_9a54_0019995a1c18row15_col4 {\n",
       "            background-color:  #67000d;\n",
       "            color:  #f1f1f1;\n",
       "        }    #T_79e17fd2_83a5_11ea_9a54_0019995a1c18row16_col1 {\n",
       "            background-color:  #fff5f0;\n",
       "            color:  #000000;\n",
       "        }    #T_79e17fd2_83a5_11ea_9a54_0019995a1c18row16_col2 {\n",
       "            background-color:  #fff5f0;\n",
       "            color:  #000000;\n",
       "        }    #T_79e17fd2_83a5_11ea_9a54_0019995a1c18row16_col3 {\n",
       "            background-color:  #fff5f0;\n",
       "            color:  #000000;\n",
       "        }    #T_79e17fd2_83a5_11ea_9a54_0019995a1c18row16_col4 {\n",
       "            background-color:  #fff5f0;\n",
       "            color:  #000000;\n",
       "        }    #T_79e17fd2_83a5_11ea_9a54_0019995a1c18row17_col1 {\n",
       "            background-color:  #fff5f0;\n",
       "            color:  #000000;\n",
       "        }    #T_79e17fd2_83a5_11ea_9a54_0019995a1c18row17_col2 {\n",
       "            background-color:  #fff5f0;\n",
       "            color:  #000000;\n",
       "        }    #T_79e17fd2_83a5_11ea_9a54_0019995a1c18row17_col3 {\n",
       "            background-color:  #fff5f0;\n",
       "            color:  #000000;\n",
       "        }    #T_79e17fd2_83a5_11ea_9a54_0019995a1c18row17_col4 {\n",
       "            background-color:  #fff5f0;\n",
       "            color:  #000000;\n",
       "        }    #T_79e17fd2_83a5_11ea_9a54_0019995a1c18row18_col1 {\n",
       "            background-color:  #fff2ec;\n",
       "            color:  #000000;\n",
       "        }    #T_79e17fd2_83a5_11ea_9a54_0019995a1c18row18_col2 {\n",
       "            background-color:  #ffeee7;\n",
       "            color:  #000000;\n",
       "        }    #T_79e17fd2_83a5_11ea_9a54_0019995a1c18row18_col3 {\n",
       "            background-color:  #fff4ef;\n",
       "            color:  #000000;\n",
       "        }    #T_79e17fd2_83a5_11ea_9a54_0019995a1c18row18_col4 {\n",
       "            background-color:  #fff3ed;\n",
       "            color:  #000000;\n",
       "        }    #T_79e17fd2_83a5_11ea_9a54_0019995a1c18row19_col1 {\n",
       "            background-color:  #fff5f0;\n",
       "            color:  #000000;\n",
       "        }    #T_79e17fd2_83a5_11ea_9a54_0019995a1c18row19_col2 {\n",
       "            background-color:  #fff4ef;\n",
       "            color:  #000000;\n",
       "        }    #T_79e17fd2_83a5_11ea_9a54_0019995a1c18row19_col3 {\n",
       "            background-color:  #fff5f0;\n",
       "            color:  #000000;\n",
       "        }    #T_79e17fd2_83a5_11ea_9a54_0019995a1c18row19_col4 {\n",
       "            background-color:  #fff5f0;\n",
       "            color:  #000000;\n",
       "        }    #T_79e17fd2_83a5_11ea_9a54_0019995a1c18row20_col1 {\n",
       "            background-color:  #ffece4;\n",
       "            color:  #000000;\n",
       "        }    #T_79e17fd2_83a5_11ea_9a54_0019995a1c18row20_col2 {\n",
       "            background-color:  #feeae0;\n",
       "            color:  #000000;\n",
       "        }    #T_79e17fd2_83a5_11ea_9a54_0019995a1c18row20_col3 {\n",
       "            background-color:  #feeae0;\n",
       "            color:  #000000;\n",
       "        }    #T_79e17fd2_83a5_11ea_9a54_0019995a1c18row20_col4 {\n",
       "            background-color:  #ffede5;\n",
       "            color:  #000000;\n",
       "        }    #T_79e17fd2_83a5_11ea_9a54_0019995a1c18row21_col1 {\n",
       "            background-color:  #fc9e80;\n",
       "            color:  #000000;\n",
       "        }    #T_79e17fd2_83a5_11ea_9a54_0019995a1c18row21_col2 {\n",
       "            background-color:  #fc9879;\n",
       "            color:  #000000;\n",
       "        }    #T_79e17fd2_83a5_11ea_9a54_0019995a1c18row21_col3 {\n",
       "            background-color:  #fee3d7;\n",
       "            color:  #000000;\n",
       "        }    #T_79e17fd2_83a5_11ea_9a54_0019995a1c18row21_col4 {\n",
       "            background-color:  #fc9b7c;\n",
       "            color:  #000000;\n",
       "        }    #T_79e17fd2_83a5_11ea_9a54_0019995a1c18row22_col1 {\n",
       "            background-color:  #fca285;\n",
       "            color:  #000000;\n",
       "        }    #T_79e17fd2_83a5_11ea_9a54_0019995a1c18row22_col2 {\n",
       "            background-color:  #bc141a;\n",
       "            color:  #f1f1f1;\n",
       "        }    #T_79e17fd2_83a5_11ea_9a54_0019995a1c18row22_col3 {\n",
       "            background-color:  #fee9df;\n",
       "            color:  #000000;\n",
       "        }    #T_79e17fd2_83a5_11ea_9a54_0019995a1c18row22_col4 {\n",
       "            background-color:  #fcb499;\n",
       "            color:  #000000;\n",
       "        }    #T_79e17fd2_83a5_11ea_9a54_0019995a1c18row23_col1 {\n",
       "            background-color:  #fdcebb;\n",
       "            color:  #000000;\n",
       "        }    #T_79e17fd2_83a5_11ea_9a54_0019995a1c18row23_col2 {\n",
       "            background-color:  #fca082;\n",
       "            color:  #000000;\n",
       "        }    #T_79e17fd2_83a5_11ea_9a54_0019995a1c18row23_col3 {\n",
       "            background-color:  #fee5d8;\n",
       "            color:  #000000;\n",
       "        }    #T_79e17fd2_83a5_11ea_9a54_0019995a1c18row23_col4 {\n",
       "            background-color:  #fdd3c1;\n",
       "            color:  #000000;\n",
       "        }    #T_79e17fd2_83a5_11ea_9a54_0019995a1c18row24_col1 {\n",
       "            background-color:  #fff4ee;\n",
       "            color:  #000000;\n",
       "        }    #T_79e17fd2_83a5_11ea_9a54_0019995a1c18row24_col2 {\n",
       "            background-color:  #fff0e8;\n",
       "            color:  #000000;\n",
       "        }    #T_79e17fd2_83a5_11ea_9a54_0019995a1c18row24_col3 {\n",
       "            background-color:  #fff5f0;\n",
       "            color:  #000000;\n",
       "        }    #T_79e17fd2_83a5_11ea_9a54_0019995a1c18row24_col4 {\n",
       "            background-color:  #fff4ef;\n",
       "            color:  #000000;\n",
       "        }    #T_79e17fd2_83a5_11ea_9a54_0019995a1c18row25_col1 {\n",
       "            background-color:  #fcbba1;\n",
       "            color:  #000000;\n",
       "        }    #T_79e17fd2_83a5_11ea_9a54_0019995a1c18row25_col2 {\n",
       "            background-color:  #fcbda4;\n",
       "            color:  #000000;\n",
       "        }    #T_79e17fd2_83a5_11ea_9a54_0019995a1c18row25_col3 {\n",
       "            background-color:  #fee8de;\n",
       "            color:  #000000;\n",
       "        }    #T_79e17fd2_83a5_11ea_9a54_0019995a1c18row25_col4 {\n",
       "            background-color:  #fcb69b;\n",
       "            color:  #000000;\n",
       "        }    #T_79e17fd2_83a5_11ea_9a54_0019995a1c18row26_col1 {\n",
       "            background-color:  #fee7dc;\n",
       "            color:  #000000;\n",
       "        }    #T_79e17fd2_83a5_11ea_9a54_0019995a1c18row26_col2 {\n",
       "            background-color:  #fee0d2;\n",
       "            color:  #000000;\n",
       "        }    #T_79e17fd2_83a5_11ea_9a54_0019995a1c18row26_col3 {\n",
       "            background-color:  #ffece4;\n",
       "            color:  #000000;\n",
       "        }    #T_79e17fd2_83a5_11ea_9a54_0019995a1c18row26_col4 {\n",
       "            background-color:  #fee8dd;\n",
       "            color:  #000000;\n",
       "        }    #T_79e17fd2_83a5_11ea_9a54_0019995a1c18row27_col1 {\n",
       "            background-color:  #fff4ef;\n",
       "            color:  #000000;\n",
       "        }    #T_79e17fd2_83a5_11ea_9a54_0019995a1c18row27_col2 {\n",
       "            background-color:  #fff0e8;\n",
       "            color:  #000000;\n",
       "        }    #T_79e17fd2_83a5_11ea_9a54_0019995a1c18row27_col3 {\n",
       "            background-color:  #fff4ef;\n",
       "            color:  #000000;\n",
       "        }    #T_79e17fd2_83a5_11ea_9a54_0019995a1c18row27_col4 {\n",
       "            background-color:  #fff5f0;\n",
       "            color:  #000000;\n",
       "        }    #T_79e17fd2_83a5_11ea_9a54_0019995a1c18row28_col1 {\n",
       "            background-color:  #fff4ee;\n",
       "            color:  #000000;\n",
       "        }    #T_79e17fd2_83a5_11ea_9a54_0019995a1c18row28_col2 {\n",
       "            background-color:  #fff5f0;\n",
       "            color:  #000000;\n",
       "        }    #T_79e17fd2_83a5_11ea_9a54_0019995a1c18row28_col3 {\n",
       "            background-color:  #fff4ee;\n",
       "            color:  #000000;\n",
       "        }    #T_79e17fd2_83a5_11ea_9a54_0019995a1c18row28_col4 {\n",
       "            background-color:  #fff4ee;\n",
       "            color:  #000000;\n",
       "        }    #T_79e17fd2_83a5_11ea_9a54_0019995a1c18row29_col1 {\n",
       "            background-color:  #fff5f0;\n",
       "            color:  #000000;\n",
       "        }    #T_79e17fd2_83a5_11ea_9a54_0019995a1c18row29_col2 {\n",
       "            background-color:  #fff5f0;\n",
       "            color:  #000000;\n",
       "        }    #T_79e17fd2_83a5_11ea_9a54_0019995a1c18row29_col3 {\n",
       "            background-color:  #fff5f0;\n",
       "            color:  #000000;\n",
       "        }    #T_79e17fd2_83a5_11ea_9a54_0019995a1c18row29_col4 {\n",
       "            background-color:  #fff5f0;\n",
       "            color:  #000000;\n",
       "        }    #T_79e17fd2_83a5_11ea_9a54_0019995a1c18row30_col1 {\n",
       "            background-color:  #fff5f0;\n",
       "            color:  #000000;\n",
       "        }    #T_79e17fd2_83a5_11ea_9a54_0019995a1c18row30_col2 {\n",
       "            background-color:  #fff5f0;\n",
       "            color:  #000000;\n",
       "        }    #T_79e17fd2_83a5_11ea_9a54_0019995a1c18row30_col3 {\n",
       "            background-color:  #fff5f0;\n",
       "            color:  #000000;\n",
       "        }    #T_79e17fd2_83a5_11ea_9a54_0019995a1c18row30_col4 {\n",
       "            background-color:  #fff5f0;\n",
       "            color:  #000000;\n",
       "        }    #T_79e17fd2_83a5_11ea_9a54_0019995a1c18row31_col1 {\n",
       "            background-color:  #fff5f0;\n",
       "            color:  #000000;\n",
       "        }    #T_79e17fd2_83a5_11ea_9a54_0019995a1c18row31_col2 {\n",
       "            background-color:  #fff5f0;\n",
       "            color:  #000000;\n",
       "        }    #T_79e17fd2_83a5_11ea_9a54_0019995a1c18row31_col3 {\n",
       "            background-color:  #fff4ef;\n",
       "            color:  #000000;\n",
       "        }    #T_79e17fd2_83a5_11ea_9a54_0019995a1c18row31_col4 {\n",
       "            background-color:  #fff5f0;\n",
       "            color:  #000000;\n",
       "        }</style><table id=\"T_79e17fd2_83a5_11ea_9a54_0019995a1c18\" ><thead>    <tr>        <th class=\"blank level0\" ></th>        <th class=\"col_heading level0 col0\" >STATE NAME</th>        <th class=\"col_heading level0 col1\" >TOTAL CONFIRMED</th>        <th class=\"col_heading level0 col2\" >CURED/DISCHARGED/MIGRATED</th>        <th class=\"col_heading level0 col3\" >DEATH</th>        <th class=\"col_heading level0 col4\" >ACTIVE CASES</th>    </tr></thead><tbody>\n",
       "                <tr>\n",
       "                        <th id=\"T_79e17fd2_83a5_11ea_9a54_0019995a1c18level0_row0\" class=\"row_heading level0 row0\" >0</th>\n",
       "                        <td id=\"T_79e17fd2_83a5_11ea_9a54_0019995a1c18row0_col0\" class=\"data row0 col0\" >AndhraPradesh</td>\n",
       "                        <td id=\"T_79e17fd2_83a5_11ea_9a54_0019995a1c18row0_col1\" class=\"data row0 col1\" >722</td>\n",
       "                        <td id=\"T_79e17fd2_83a5_11ea_9a54_0019995a1c18row0_col2\" class=\"data row0 col2\" >92</td>\n",
       "                        <td id=\"T_79e17fd2_83a5_11ea_9a54_0019995a1c18row0_col3\" class=\"data row0 col3\" >20</td>\n",
       "                        <td id=\"T_79e17fd2_83a5_11ea_9a54_0019995a1c18row0_col4\" class=\"data row0 col4\" >610</td>\n",
       "            </tr>\n",
       "            <tr>\n",
       "                        <th id=\"T_79e17fd2_83a5_11ea_9a54_0019995a1c18level0_row1\" class=\"row_heading level0 row1\" >1</th>\n",
       "                        <td id=\"T_79e17fd2_83a5_11ea_9a54_0019995a1c18row1_col0\" class=\"data row1 col0\" >AndamanNicobar</td>\n",
       "                        <td id=\"T_79e17fd2_83a5_11ea_9a54_0019995a1c18row1_col1\" class=\"data row1 col1\" >16</td>\n",
       "                        <td id=\"T_79e17fd2_83a5_11ea_9a54_0019995a1c18row1_col2\" class=\"data row1 col2\" >11</td>\n",
       "                        <td id=\"T_79e17fd2_83a5_11ea_9a54_0019995a1c18row1_col3\" class=\"data row1 col3\" >0</td>\n",
       "                        <td id=\"T_79e17fd2_83a5_11ea_9a54_0019995a1c18row1_col4\" class=\"data row1 col4\" >5</td>\n",
       "            </tr>\n",
       "            <tr>\n",
       "                        <th id=\"T_79e17fd2_83a5_11ea_9a54_0019995a1c18level0_row2\" class=\"row_heading level0 row2\" >2</th>\n",
       "                        <td id=\"T_79e17fd2_83a5_11ea_9a54_0019995a1c18row2_col0\" class=\"data row2 col0\" >Bihar</td>\n",
       "                        <td id=\"T_79e17fd2_83a5_11ea_9a54_0019995a1c18row2_col1\" class=\"data row2 col1\" >113</td>\n",
       "                        <td id=\"T_79e17fd2_83a5_11ea_9a54_0019995a1c18row2_col2\" class=\"data row2 col2\" >42</td>\n",
       "                        <td id=\"T_79e17fd2_83a5_11ea_9a54_0019995a1c18row2_col3\" class=\"data row2 col3\" >2</td>\n",
       "                        <td id=\"T_79e17fd2_83a5_11ea_9a54_0019995a1c18row2_col4\" class=\"data row2 col4\" >69</td>\n",
       "            </tr>\n",
       "            <tr>\n",
       "                        <th id=\"T_79e17fd2_83a5_11ea_9a54_0019995a1c18level0_row3\" class=\"row_heading level0 row3\" >3</th>\n",
       "                        <td id=\"T_79e17fd2_83a5_11ea_9a54_0019995a1c18row3_col0\" class=\"data row3 col0\" >Chandigarh</td>\n",
       "                        <td id=\"T_79e17fd2_83a5_11ea_9a54_0019995a1c18row3_col1\" class=\"data row3 col1\" >26</td>\n",
       "                        <td id=\"T_79e17fd2_83a5_11ea_9a54_0019995a1c18row3_col2\" class=\"data row3 col2\" >13</td>\n",
       "                        <td id=\"T_79e17fd2_83a5_11ea_9a54_0019995a1c18row3_col3\" class=\"data row3 col3\" >0</td>\n",
       "                        <td id=\"T_79e17fd2_83a5_11ea_9a54_0019995a1c18row3_col4\" class=\"data row3 col4\" >13</td>\n",
       "            </tr>\n",
       "            <tr>\n",
       "                        <th id=\"T_79e17fd2_83a5_11ea_9a54_0019995a1c18level0_row4\" class=\"row_heading level0 row4\" >4</th>\n",
       "                        <td id=\"T_79e17fd2_83a5_11ea_9a54_0019995a1c18row4_col0\" class=\"data row4 col0\" >Chhattisgarh</td>\n",
       "                        <td id=\"T_79e17fd2_83a5_11ea_9a54_0019995a1c18row4_col1\" class=\"data row4 col1\" >36</td>\n",
       "                        <td id=\"T_79e17fd2_83a5_11ea_9a54_0019995a1c18row4_col2\" class=\"data row4 col2\" >25</td>\n",
       "                        <td id=\"T_79e17fd2_83a5_11ea_9a54_0019995a1c18row4_col3\" class=\"data row4 col3\" >0</td>\n",
       "                        <td id=\"T_79e17fd2_83a5_11ea_9a54_0019995a1c18row4_col4\" class=\"data row4 col4\" >11</td>\n",
       "            </tr>\n",
       "            <tr>\n",
       "                        <th id=\"T_79e17fd2_83a5_11ea_9a54_0019995a1c18level0_row5\" class=\"row_heading level0 row5\" >5</th>\n",
       "                        <td id=\"T_79e17fd2_83a5_11ea_9a54_0019995a1c18row5_col0\" class=\"data row5 col0\" >Delhi</td>\n",
       "                        <td id=\"T_79e17fd2_83a5_11ea_9a54_0019995a1c18row5_col1\" class=\"data row5 col1\" >2081</td>\n",
       "                        <td id=\"T_79e17fd2_83a5_11ea_9a54_0019995a1c18row5_col2\" class=\"data row5 col2\" >431</td>\n",
       "                        <td id=\"T_79e17fd2_83a5_11ea_9a54_0019995a1c18row5_col3\" class=\"data row5 col3\" >47</td>\n",
       "                        <td id=\"T_79e17fd2_83a5_11ea_9a54_0019995a1c18row5_col4\" class=\"data row5 col4\" >1603</td>\n",
       "            </tr>\n",
       "            <tr>\n",
       "                        <th id=\"T_79e17fd2_83a5_11ea_9a54_0019995a1c18level0_row6\" class=\"row_heading level0 row6\" >6</th>\n",
       "                        <td id=\"T_79e17fd2_83a5_11ea_9a54_0019995a1c18row6_col0\" class=\"data row6 col0\" >Goa</td>\n",
       "                        <td id=\"T_79e17fd2_83a5_11ea_9a54_0019995a1c18row6_col1\" class=\"data row6 col1\" >7</td>\n",
       "                        <td id=\"T_79e17fd2_83a5_11ea_9a54_0019995a1c18row6_col2\" class=\"data row6 col2\" >7</td>\n",
       "                        <td id=\"T_79e17fd2_83a5_11ea_9a54_0019995a1c18row6_col3\" class=\"data row6 col3\" >0</td>\n",
       "                        <td id=\"T_79e17fd2_83a5_11ea_9a54_0019995a1c18row6_col4\" class=\"data row6 col4\" >0</td>\n",
       "            </tr>\n",
       "            <tr>\n",
       "                        <th id=\"T_79e17fd2_83a5_11ea_9a54_0019995a1c18level0_row7\" class=\"row_heading level0 row7\" >7</th>\n",
       "                        <td id=\"T_79e17fd2_83a5_11ea_9a54_0019995a1c18row7_col0\" class=\"data row7 col0\" >Gujarat</td>\n",
       "                        <td id=\"T_79e17fd2_83a5_11ea_9a54_0019995a1c18row7_col1\" class=\"data row7 col1\" >1939</td>\n",
       "                        <td id=\"T_79e17fd2_83a5_11ea_9a54_0019995a1c18row7_col2\" class=\"data row7 col2\" >131</td>\n",
       "                        <td id=\"T_79e17fd2_83a5_11ea_9a54_0019995a1c18row7_col3\" class=\"data row7 col3\" >71</td>\n",
       "                        <td id=\"T_79e17fd2_83a5_11ea_9a54_0019995a1c18row7_col4\" class=\"data row7 col4\" >1737</td>\n",
       "            </tr>\n",
       "            <tr>\n",
       "                        <th id=\"T_79e17fd2_83a5_11ea_9a54_0019995a1c18level0_row8\" class=\"row_heading level0 row8\" >8</th>\n",
       "                        <td id=\"T_79e17fd2_83a5_11ea_9a54_0019995a1c18row8_col0\" class=\"data row8 col0\" >Haryana</td>\n",
       "                        <td id=\"T_79e17fd2_83a5_11ea_9a54_0019995a1c18row8_col1\" class=\"data row8 col1\" >254</td>\n",
       "                        <td id=\"T_79e17fd2_83a5_11ea_9a54_0019995a1c18row8_col2\" class=\"data row8 col2\" >127</td>\n",
       "                        <td id=\"T_79e17fd2_83a5_11ea_9a54_0019995a1c18row8_col3\" class=\"data row8 col3\" >3</td>\n",
       "                        <td id=\"T_79e17fd2_83a5_11ea_9a54_0019995a1c18row8_col4\" class=\"data row8 col4\" >124</td>\n",
       "            </tr>\n",
       "            <tr>\n",
       "                        <th id=\"T_79e17fd2_83a5_11ea_9a54_0019995a1c18level0_row9\" class=\"row_heading level0 row9\" >9</th>\n",
       "                        <td id=\"T_79e17fd2_83a5_11ea_9a54_0019995a1c18row9_col0\" class=\"data row9 col0\" >HimachalPradesh</td>\n",
       "                        <td id=\"T_79e17fd2_83a5_11ea_9a54_0019995a1c18row9_col1\" class=\"data row9 col1\" >39</td>\n",
       "                        <td id=\"T_79e17fd2_83a5_11ea_9a54_0019995a1c18row9_col2\" class=\"data row9 col2\" >16</td>\n",
       "                        <td id=\"T_79e17fd2_83a5_11ea_9a54_0019995a1c18row9_col3\" class=\"data row9 col3\" >1</td>\n",
       "                        <td id=\"T_79e17fd2_83a5_11ea_9a54_0019995a1c18row9_col4\" class=\"data row9 col4\" >22</td>\n",
       "            </tr>\n",
       "            <tr>\n",
       "                        <th id=\"T_79e17fd2_83a5_11ea_9a54_0019995a1c18level0_row10\" class=\"row_heading level0 row10\" >10</th>\n",
       "                        <td id=\"T_79e17fd2_83a5_11ea_9a54_0019995a1c18row10_col0\" class=\"data row10 col0\" >J & K</td>\n",
       "                        <td id=\"T_79e17fd2_83a5_11ea_9a54_0019995a1c18row10_col1\" class=\"data row10 col1\" >368</td>\n",
       "                        <td id=\"T_79e17fd2_83a5_11ea_9a54_0019995a1c18row10_col2\" class=\"data row10 col2\" >71</td>\n",
       "                        <td id=\"T_79e17fd2_83a5_11ea_9a54_0019995a1c18row10_col3\" class=\"data row10 col3\" >5</td>\n",
       "                        <td id=\"T_79e17fd2_83a5_11ea_9a54_0019995a1c18row10_col4\" class=\"data row10 col4\" >292</td>\n",
       "            </tr>\n",
       "            <tr>\n",
       "                        <th id=\"T_79e17fd2_83a5_11ea_9a54_0019995a1c18level0_row11\" class=\"row_heading level0 row11\" >11</th>\n",
       "                        <td id=\"T_79e17fd2_83a5_11ea_9a54_0019995a1c18row11_col0\" class=\"data row11 col0\" >Karnataka</td>\n",
       "                        <td id=\"T_79e17fd2_83a5_11ea_9a54_0019995a1c18row11_col1\" class=\"data row11 col1\" >408</td>\n",
       "                        <td id=\"T_79e17fd2_83a5_11ea_9a54_0019995a1c18row11_col2\" class=\"data row11 col2\" >112</td>\n",
       "                        <td id=\"T_79e17fd2_83a5_11ea_9a54_0019995a1c18row11_col3\" class=\"data row11 col3\" >16</td>\n",
       "                        <td id=\"T_79e17fd2_83a5_11ea_9a54_0019995a1c18row11_col4\" class=\"data row11 col4\" >280</td>\n",
       "            </tr>\n",
       "            <tr>\n",
       "                        <th id=\"T_79e17fd2_83a5_11ea_9a54_0019995a1c18level0_row12\" class=\"row_heading level0 row12\" >12</th>\n",
       "                        <td id=\"T_79e17fd2_83a5_11ea_9a54_0019995a1c18row12_col0\" class=\"data row12 col0\" >Kerala</td>\n",
       "                        <td id=\"T_79e17fd2_83a5_11ea_9a54_0019995a1c18row12_col1\" class=\"data row12 col1\" >408</td>\n",
       "                        <td id=\"T_79e17fd2_83a5_11ea_9a54_0019995a1c18row12_col2\" class=\"data row12 col2\" >291</td>\n",
       "                        <td id=\"T_79e17fd2_83a5_11ea_9a54_0019995a1c18row12_col3\" class=\"data row12 col3\" >3</td>\n",
       "                        <td id=\"T_79e17fd2_83a5_11ea_9a54_0019995a1c18row12_col4\" class=\"data row12 col4\" >114</td>\n",
       "            </tr>\n",
       "            <tr>\n",
       "                        <th id=\"T_79e17fd2_83a5_11ea_9a54_0019995a1c18level0_row13\" class=\"row_heading level0 row13\" >13</th>\n",
       "                        <td id=\"T_79e17fd2_83a5_11ea_9a54_0019995a1c18row13_col0\" class=\"data row13 col0\" >Ladakh</td>\n",
       "                        <td id=\"T_79e17fd2_83a5_11ea_9a54_0019995a1c18row13_col1\" class=\"data row13 col1\" >18</td>\n",
       "                        <td id=\"T_79e17fd2_83a5_11ea_9a54_0019995a1c18row13_col2\" class=\"data row13 col2\" >14</td>\n",
       "                        <td id=\"T_79e17fd2_83a5_11ea_9a54_0019995a1c18row13_col3\" class=\"data row13 col3\" >0</td>\n",
       "                        <td id=\"T_79e17fd2_83a5_11ea_9a54_0019995a1c18row13_col4\" class=\"data row13 col4\" >4</td>\n",
       "            </tr>\n",
       "            <tr>\n",
       "                        <th id=\"T_79e17fd2_83a5_11ea_9a54_0019995a1c18level0_row14\" class=\"row_heading level0 row14\" >14</th>\n",
       "                        <td id=\"T_79e17fd2_83a5_11ea_9a54_0019995a1c18row14_col0\" class=\"data row14 col0\" >MP</td>\n",
       "                        <td id=\"T_79e17fd2_83a5_11ea_9a54_0019995a1c18row14_col1\" class=\"data row14 col1\" >1485</td>\n",
       "                        <td id=\"T_79e17fd2_83a5_11ea_9a54_0019995a1c18row14_col2\" class=\"data row14 col2\" >127</td>\n",
       "                        <td id=\"T_79e17fd2_83a5_11ea_9a54_0019995a1c18row14_col3\" class=\"data row14 col3\" >74</td>\n",
       "                        <td id=\"T_79e17fd2_83a5_11ea_9a54_0019995a1c18row14_col4\" class=\"data row14 col4\" >1284</td>\n",
       "            </tr>\n",
       "            <tr>\n",
       "                        <th id=\"T_79e17fd2_83a5_11ea_9a54_0019995a1c18level0_row15\" class=\"row_heading level0 row15\" >15</th>\n",
       "                        <td id=\"T_79e17fd2_83a5_11ea_9a54_0019995a1c18row15_col0\" class=\"data row15 col0\" >Maharashtra</td>\n",
       "                        <td id=\"T_79e17fd2_83a5_11ea_9a54_0019995a1c18row15_col1\" class=\"data row15 col1\" >4666</td>\n",
       "                        <td id=\"T_79e17fd2_83a5_11ea_9a54_0019995a1c18row15_col2\" class=\"data row15 col2\" >572</td>\n",
       "                        <td id=\"T_79e17fd2_83a5_11ea_9a54_0019995a1c18row15_col3\" class=\"data row15 col3\" >232</td>\n",
       "                        <td id=\"T_79e17fd2_83a5_11ea_9a54_0019995a1c18row15_col4\" class=\"data row15 col4\" >3862</td>\n",
       "            </tr>\n",
       "            <tr>\n",
       "                        <th id=\"T_79e17fd2_83a5_11ea_9a54_0019995a1c18level0_row16\" class=\"row_heading level0 row16\" >16</th>\n",
       "                        <td id=\"T_79e17fd2_83a5_11ea_9a54_0019995a1c18row16_col0\" class=\"data row16 col0\" >Manipur</td>\n",
       "                        <td id=\"T_79e17fd2_83a5_11ea_9a54_0019995a1c18row16_col1\" class=\"data row16 col1\" >2</td>\n",
       "                        <td id=\"T_79e17fd2_83a5_11ea_9a54_0019995a1c18row16_col2\" class=\"data row16 col2\" >2</td>\n",
       "                        <td id=\"T_79e17fd2_83a5_11ea_9a54_0019995a1c18row16_col3\" class=\"data row16 col3\" >0</td>\n",
       "                        <td id=\"T_79e17fd2_83a5_11ea_9a54_0019995a1c18row16_col4\" class=\"data row16 col4\" >0</td>\n",
       "            </tr>\n",
       "            <tr>\n",
       "                        <th id=\"T_79e17fd2_83a5_11ea_9a54_0019995a1c18level0_row17\" class=\"row_heading level0 row17\" >17</th>\n",
       "                        <td id=\"T_79e17fd2_83a5_11ea_9a54_0019995a1c18row17_col0\" class=\"data row17 col0\" >Mizoram</td>\n",
       "                        <td id=\"T_79e17fd2_83a5_11ea_9a54_0019995a1c18row17_col1\" class=\"data row17 col1\" >1</td>\n",
       "                        <td id=\"T_79e17fd2_83a5_11ea_9a54_0019995a1c18row17_col2\" class=\"data row17 col2\" >0</td>\n",
       "                        <td id=\"T_79e17fd2_83a5_11ea_9a54_0019995a1c18row17_col3\" class=\"data row17 col3\" >0</td>\n",
       "                        <td id=\"T_79e17fd2_83a5_11ea_9a54_0019995a1c18row17_col4\" class=\"data row17 col4\" >1</td>\n",
       "            </tr>\n",
       "            <tr>\n",
       "                        <th id=\"T_79e17fd2_83a5_11ea_9a54_0019995a1c18level0_row18\" class=\"row_heading level0 row18\" >18</th>\n",
       "                        <td id=\"T_79e17fd2_83a5_11ea_9a54_0019995a1c18row18_col0\" class=\"data row18 col0\" >Odisha</td>\n",
       "                        <td id=\"T_79e17fd2_83a5_11ea_9a54_0019995a1c18row18_col1\" class=\"data row18 col1\" >74</td>\n",
       "                        <td id=\"T_79e17fd2_83a5_11ea_9a54_0019995a1c18row18_col2\" class=\"data row18 col2\" >24</td>\n",
       "                        <td id=\"T_79e17fd2_83a5_11ea_9a54_0019995a1c18row18_col3\" class=\"data row18 col3\" >1</td>\n",
       "                        <td id=\"T_79e17fd2_83a5_11ea_9a54_0019995a1c18row18_col4\" class=\"data row18 col4\" >49</td>\n",
       "            </tr>\n",
       "            <tr>\n",
       "                        <th id=\"T_79e17fd2_83a5_11ea_9a54_0019995a1c18level0_row19\" class=\"row_heading level0 row19\" >19</th>\n",
       "                        <td id=\"T_79e17fd2_83a5_11ea_9a54_0019995a1c18row19_col0\" class=\"data row19 col0\" >Puducherry</td>\n",
       "                        <td id=\"T_79e17fd2_83a5_11ea_9a54_0019995a1c18row19_col1\" class=\"data row19 col1\" >7</td>\n",
       "                        <td id=\"T_79e17fd2_83a5_11ea_9a54_0019995a1c18row19_col2\" class=\"data row19 col2\" >3</td>\n",
       "                        <td id=\"T_79e17fd2_83a5_11ea_9a54_0019995a1c18row19_col3\" class=\"data row19 col3\" >0</td>\n",
       "                        <td id=\"T_79e17fd2_83a5_11ea_9a54_0019995a1c18row19_col4\" class=\"data row19 col4\" >4</td>\n",
       "            </tr>\n",
       "            <tr>\n",
       "                        <th id=\"T_79e17fd2_83a5_11ea_9a54_0019995a1c18level0_row20\" class=\"row_heading level0 row20\" >20</th>\n",
       "                        <td id=\"T_79e17fd2_83a5_11ea_9a54_0019995a1c18row20_col0\" class=\"data row20 col0\" >Punjab</td>\n",
       "                        <td id=\"T_79e17fd2_83a5_11ea_9a54_0019995a1c18row20_col1\" class=\"data row20 col1\" >245</td>\n",
       "                        <td id=\"T_79e17fd2_83a5_11ea_9a54_0019995a1c18row20_col2\" class=\"data row20 col2\" >38</td>\n",
       "                        <td id=\"T_79e17fd2_83a5_11ea_9a54_0019995a1c18row20_col3\" class=\"data row20 col3\" >16</td>\n",
       "                        <td id=\"T_79e17fd2_83a5_11ea_9a54_0019995a1c18row20_col4\" class=\"data row20 col4\" >191</td>\n",
       "            </tr>\n",
       "            <tr>\n",
       "                        <th id=\"T_79e17fd2_83a5_11ea_9a54_0019995a1c18level0_row21\" class=\"row_heading level0 row21\" >21</th>\n",
       "                        <td id=\"T_79e17fd2_83a5_11ea_9a54_0019995a1c18row21_col0\" class=\"data row21 col0\" >Rajasthan</td>\n",
       "                        <td id=\"T_79e17fd2_83a5_11ea_9a54_0019995a1c18row21_col1\" class=\"data row21 col1\" >1576</td>\n",
       "                        <td id=\"T_79e17fd2_83a5_11ea_9a54_0019995a1c18row21_col2\" class=\"data row21 col2\" >205</td>\n",
       "                        <td id=\"T_79e17fd2_83a5_11ea_9a54_0019995a1c18row21_col3\" class=\"data row21 col3\" >25</td>\n",
       "                        <td id=\"T_79e17fd2_83a5_11ea_9a54_0019995a1c18row21_col4\" class=\"data row21 col4\" >1346</td>\n",
       "            </tr>\n",
       "            <tr>\n",
       "                        <th id=\"T_79e17fd2_83a5_11ea_9a54_0019995a1c18level0_row22\" class=\"row_heading level0 row22\" >22</th>\n",
       "                        <td id=\"T_79e17fd2_83a5_11ea_9a54_0019995a1c18row22_col0\" class=\"data row22 col0\" >TamilNadu</td>\n",
       "                        <td id=\"T_79e17fd2_83a5_11ea_9a54_0019995a1c18row22_col1\" class=\"data row22 col1\" >1520</td>\n",
       "                        <td id=\"T_79e17fd2_83a5_11ea_9a54_0019995a1c18row22_col2\" class=\"data row22 col2\" >457</td>\n",
       "                        <td id=\"T_79e17fd2_83a5_11ea_9a54_0019995a1c18row22_col3\" class=\"data row22 col3\" >17</td>\n",
       "                        <td id=\"T_79e17fd2_83a5_11ea_9a54_0019995a1c18row22_col4\" class=\"data row22 col4\" >1046</td>\n",
       "            </tr>\n",
       "            <tr>\n",
       "                        <th id=\"T_79e17fd2_83a5_11ea_9a54_0019995a1c18level0_row23\" class=\"row_heading level0 row23\" >23</th>\n",
       "                        <td id=\"T_79e17fd2_83a5_11ea_9a54_0019995a1c18row23_col0\" class=\"data row23 col0\" >Telengana</td>\n",
       "                        <td id=\"T_79e17fd2_83a5_11ea_9a54_0019995a1c18row23_col1\" class=\"data row23 col1\" >873</td>\n",
       "                        <td id=\"T_79e17fd2_83a5_11ea_9a54_0019995a1c18row23_col2\" class=\"data row23 col2\" >190</td>\n",
       "                        <td id=\"T_79e17fd2_83a5_11ea_9a54_0019995a1c18row23_col3\" class=\"data row23 col3\" >23</td>\n",
       "                        <td id=\"T_79e17fd2_83a5_11ea_9a54_0019995a1c18row23_col4\" class=\"data row23 col4\" >660</td>\n",
       "            </tr>\n",
       "            <tr>\n",
       "                        <th id=\"T_79e17fd2_83a5_11ea_9a54_0019995a1c18level0_row24\" class=\"row_heading level0 row24\" >24</th>\n",
       "                        <td id=\"T_79e17fd2_83a5_11ea_9a54_0019995a1c18row24_col0\" class=\"data row24 col0\" >Uttarakhand</td>\n",
       "                        <td id=\"T_79e17fd2_83a5_11ea_9a54_0019995a1c18row24_col1\" class=\"data row24 col1\" >46</td>\n",
       "                        <td id=\"T_79e17fd2_83a5_11ea_9a54_0019995a1c18row24_col2\" class=\"data row24 col2\" >18</td>\n",
       "                        <td id=\"T_79e17fd2_83a5_11ea_9a54_0019995a1c18row24_col3\" class=\"data row24 col3\" >0</td>\n",
       "                        <td id=\"T_79e17fd2_83a5_11ea_9a54_0019995a1c18row24_col4\" class=\"data row24 col4\" >28</td>\n",
       "            </tr>\n",
       "            <tr>\n",
       "                        <th id=\"T_79e17fd2_83a5_11ea_9a54_0019995a1c18level0_row25\" class=\"row_heading level0 row25\" >25</th>\n",
       "                        <td id=\"T_79e17fd2_83a5_11ea_9a54_0019995a1c18row25_col0\" class=\"data row25 col0\" >UttarPradesh</td>\n",
       "                        <td id=\"T_79e17fd2_83a5_11ea_9a54_0019995a1c18row25_col1\" class=\"data row25 col1\" >1184</td>\n",
       "                        <td id=\"T_79e17fd2_83a5_11ea_9a54_0019995a1c18row25_col2\" class=\"data row25 col2\" >140</td>\n",
       "                        <td id=\"T_79e17fd2_83a5_11ea_9a54_0019995a1c18row25_col3\" class=\"data row25 col3\" >18</td>\n",
       "                        <td id=\"T_79e17fd2_83a5_11ea_9a54_0019995a1c18row25_col4\" class=\"data row25 col4\" >1026</td>\n",
       "            </tr>\n",
       "            <tr>\n",
       "                        <th id=\"T_79e17fd2_83a5_11ea_9a54_0019995a1c18level0_row26\" class=\"row_heading level0 row26\" >26</th>\n",
       "                        <td id=\"T_79e17fd2_83a5_11ea_9a54_0019995a1c18row26_col0\" class=\"data row26 col0\" >West Bengal</td>\n",
       "                        <td id=\"T_79e17fd2_83a5_11ea_9a54_0019995a1c18row26_col1\" class=\"data row26 col1\" >392</td>\n",
       "                        <td id=\"T_79e17fd2_83a5_11ea_9a54_0019995a1c18row26_col2\" class=\"data row26 col2\" >73</td>\n",
       "                        <td id=\"T_79e17fd2_83a5_11ea_9a54_0019995a1c18row26_col3\" class=\"data row26 col3\" >12</td>\n",
       "                        <td id=\"T_79e17fd2_83a5_11ea_9a54_0019995a1c18row26_col4\" class=\"data row26 col4\" >307</td>\n",
       "            </tr>\n",
       "            <tr>\n",
       "                        <th id=\"T_79e17fd2_83a5_11ea_9a54_0019995a1c18level0_row27\" class=\"row_heading level0 row27\" >27</th>\n",
       "                        <td id=\"T_79e17fd2_83a5_11ea_9a54_0019995a1c18row27_col0\" class=\"data row27 col0\" >Assam</td>\n",
       "                        <td id=\"T_79e17fd2_83a5_11ea_9a54_0019995a1c18row27_col1\" class=\"data row27 col1\" >35</td>\n",
       "                        <td id=\"T_79e17fd2_83a5_11ea_9a54_0019995a1c18row27_col2\" class=\"data row27 col2\" >19</td>\n",
       "                        <td id=\"T_79e17fd2_83a5_11ea_9a54_0019995a1c18row27_col3\" class=\"data row27 col3\" >1</td>\n",
       "                        <td id=\"T_79e17fd2_83a5_11ea_9a54_0019995a1c18row27_col4\" class=\"data row27 col4\" >15</td>\n",
       "            </tr>\n",
       "            <tr>\n",
       "                        <th id=\"T_79e17fd2_83a5_11ea_9a54_0019995a1c18level0_row28\" class=\"row_heading level0 row28\" >28</th>\n",
       "                        <td id=\"T_79e17fd2_83a5_11ea_9a54_0019995a1c18row28_col0\" class=\"data row28 col0\" >Jharkhand</td>\n",
       "                        <td id=\"T_79e17fd2_83a5_11ea_9a54_0019995a1c18row28_col1\" class=\"data row28 col1\" >46</td>\n",
       "                        <td id=\"T_79e17fd2_83a5_11ea_9a54_0019995a1c18row28_col2\" class=\"data row28 col2\" >0</td>\n",
       "                        <td id=\"T_79e17fd2_83a5_11ea_9a54_0019995a1c18row28_col3\" class=\"data row28 col3\" >2</td>\n",
       "                        <td id=\"T_79e17fd2_83a5_11ea_9a54_0019995a1c18row28_col4\" class=\"data row28 col4\" >44</td>\n",
       "            </tr>\n",
       "            <tr>\n",
       "                        <th id=\"T_79e17fd2_83a5_11ea_9a54_0019995a1c18level0_row29\" class=\"row_heading level0 row29\" >29</th>\n",
       "                        <td id=\"T_79e17fd2_83a5_11ea_9a54_0019995a1c18row29_col0\" class=\"data row29 col0\" >Arunachal Pradesh</td>\n",
       "                        <td id=\"T_79e17fd2_83a5_11ea_9a54_0019995a1c18row29_col1\" class=\"data row29 col1\" >1</td>\n",
       "                        <td id=\"T_79e17fd2_83a5_11ea_9a54_0019995a1c18row29_col2\" class=\"data row29 col2\" >0</td>\n",
       "                        <td id=\"T_79e17fd2_83a5_11ea_9a54_0019995a1c18row29_col3\" class=\"data row29 col3\" >0</td>\n",
       "                        <td id=\"T_79e17fd2_83a5_11ea_9a54_0019995a1c18row29_col4\" class=\"data row29 col4\" >1</td>\n",
       "            </tr>\n",
       "            <tr>\n",
       "                        <th id=\"T_79e17fd2_83a5_11ea_9a54_0019995a1c18level0_row30\" class=\"row_heading level0 row30\" >30</th>\n",
       "                        <td id=\"T_79e17fd2_83a5_11ea_9a54_0019995a1c18row30_col0\" class=\"data row30 col0\" >Tripura</td>\n",
       "                        <td id=\"T_79e17fd2_83a5_11ea_9a54_0019995a1c18row30_col1\" class=\"data row30 col1\" >2</td>\n",
       "                        <td id=\"T_79e17fd2_83a5_11ea_9a54_0019995a1c18row30_col2\" class=\"data row30 col2\" >1</td>\n",
       "                        <td id=\"T_79e17fd2_83a5_11ea_9a54_0019995a1c18row30_col3\" class=\"data row30 col3\" >0</td>\n",
       "                        <td id=\"T_79e17fd2_83a5_11ea_9a54_0019995a1c18row30_col4\" class=\"data row30 col4\" >1</td>\n",
       "            </tr>\n",
       "            <tr>\n",
       "                        <th id=\"T_79e17fd2_83a5_11ea_9a54_0019995a1c18level0_row31\" class=\"row_heading level0 row31\" >31</th>\n",
       "                        <td id=\"T_79e17fd2_83a5_11ea_9a54_0019995a1c18row31_col0\" class=\"data row31 col0\" >Meghalaya</td>\n",
       "                        <td id=\"T_79e17fd2_83a5_11ea_9a54_0019995a1c18row31_col1\" class=\"data row31 col1\" >11</td>\n",
       "                        <td id=\"T_79e17fd2_83a5_11ea_9a54_0019995a1c18row31_col2\" class=\"data row31 col2\" >0</td>\n",
       "                        <td id=\"T_79e17fd2_83a5_11ea_9a54_0019995a1c18row31_col3\" class=\"data row31 col3\" >1</td>\n",
       "                        <td id=\"T_79e17fd2_83a5_11ea_9a54_0019995a1c18row31_col4\" class=\"data row31 col4\" >10</td>\n",
       "            </tr>\n",
       "    </tbody></table>"
      ],
      "text/plain": [
       "<pandas.io.formats.style.Styler at 0x10532b08>"
      ]
     },
     "execution_count": 15,
     "metadata": {},
     "output_type": "execute_result"
    }
   ],
   "source": [
    "covid_india.style.background_gradient(cmap = 'Reds')"
   ]
  },
  {
   "cell_type": "code",
   "execution_count": 16,
   "metadata": {},
   "outputs": [
    {
     "data": {
      "text/html": [
       "<div>\n",
       "<style scoped>\n",
       "    .dataframe tbody tr th:only-of-type {\n",
       "        vertical-align: middle;\n",
       "    }\n",
       "\n",
       "    .dataframe tbody tr th {\n",
       "        vertical-align: top;\n",
       "    }\n",
       "\n",
       "    .dataframe thead th {\n",
       "        text-align: right;\n",
       "    }\n",
       "</style>\n",
       "<table border=\"1\" class=\"dataframe\">\n",
       "  <thead>\n",
       "    <tr style=\"text-align: right;\">\n",
       "      <th></th>\n",
       "      <th>TOTAL CONFIRMED</th>\n",
       "    </tr>\n",
       "    <tr>\n",
       "      <th>STATE NAME</th>\n",
       "      <th></th>\n",
       "    </tr>\n",
       "  </thead>\n",
       "  <tbody>\n",
       "    <tr>\n",
       "      <th>Maharashtra</th>\n",
       "      <td>4666</td>\n",
       "    </tr>\n",
       "    <tr>\n",
       "      <th>Delhi</th>\n",
       "      <td>2081</td>\n",
       "    </tr>\n",
       "    <tr>\n",
       "      <th>Gujarat</th>\n",
       "      <td>1939</td>\n",
       "    </tr>\n",
       "    <tr>\n",
       "      <th>Rajasthan</th>\n",
       "      <td>1576</td>\n",
       "    </tr>\n",
       "    <tr>\n",
       "      <th>TamilNadu</th>\n",
       "      <td>1520</td>\n",
       "    </tr>\n",
       "  </tbody>\n",
       "</table>\n",
       "</div>"
      ],
      "text/plain": [
       "             TOTAL CONFIRMED\n",
       "STATE NAME                  \n",
       "Maharashtra             4666\n",
       "Delhi                   2081\n",
       "Gujarat                 1939\n",
       "Rajasthan               1576\n",
       "TamilNadu               1520"
      ]
     },
     "execution_count": 16,
     "metadata": {},
     "output_type": "execute_result"
    }
   ],
   "source": [
    "total_active = covid_india.groupby('STATE NAME')['TOTAL CONFIRMED'].sum().sort_values(ascending = False).to_frame()\n",
    "\n",
    "total_active.head()"
   ]
  },
  {
   "cell_type": "code",
   "execution_count": 17,
   "metadata": {},
   "outputs": [
    {
     "data": {
      "text/html": [
       "<style  type=\"text/css\" >\n",
       "    #T_79fdc28c_83a5_11ea_86c4_0019995a1c18row0_col0 {\n",
       "            background-color:  #67000d;\n",
       "            color:  #f1f1f1;\n",
       "        }    #T_79fdc28c_83a5_11ea_86c4_0019995a1c18row1_col0 {\n",
       "            background-color:  #fb7b5b;\n",
       "            color:  #000000;\n",
       "        }    #T_79fdc28c_83a5_11ea_86c4_0019995a1c18row2_col0 {\n",
       "            background-color:  #fc8565;\n",
       "            color:  #000000;\n",
       "        }    #T_79fdc28c_83a5_11ea_86c4_0019995a1c18row3_col0 {\n",
       "            background-color:  #fc9e80;\n",
       "            color:  #000000;\n",
       "        }    #T_79fdc28c_83a5_11ea_86c4_0019995a1c18row4_col0 {\n",
       "            background-color:  #fca285;\n",
       "            color:  #000000;\n",
       "        }    #T_79fdc28c_83a5_11ea_86c4_0019995a1c18row5_col0 {\n",
       "            background-color:  #fca588;\n",
       "            color:  #000000;\n",
       "        }    #T_79fdc28c_83a5_11ea_86c4_0019995a1c18row6_col0 {\n",
       "            background-color:  #fcbba1;\n",
       "            color:  #000000;\n",
       "        }    #T_79fdc28c_83a5_11ea_86c4_0019995a1c18row7_col0 {\n",
       "            background-color:  #fdcebb;\n",
       "            color:  #000000;\n",
       "        }    #T_79fdc28c_83a5_11ea_86c4_0019995a1c18row8_col0 {\n",
       "            background-color:  #fed8c7;\n",
       "            color:  #000000;\n",
       "        }    #T_79fdc28c_83a5_11ea_86c4_0019995a1c18row9_col0 {\n",
       "            background-color:  #fee7db;\n",
       "            color:  #000000;\n",
       "        }    #T_79fdc28c_83a5_11ea_86c4_0019995a1c18row10_col0 {\n",
       "            background-color:  #fee7db;\n",
       "            color:  #000000;\n",
       "        }    #T_79fdc28c_83a5_11ea_86c4_0019995a1c18row11_col0 {\n",
       "            background-color:  #fee7dc;\n",
       "            color:  #000000;\n",
       "        }    #T_79fdc28c_83a5_11ea_86c4_0019995a1c18row12_col0 {\n",
       "            background-color:  #fee8dd;\n",
       "            color:  #000000;\n",
       "        }    #T_79fdc28c_83a5_11ea_86c4_0019995a1c18row13_col0 {\n",
       "            background-color:  #ffece4;\n",
       "            color:  #000000;\n",
       "        }    #T_79fdc28c_83a5_11ea_86c4_0019995a1c18row14_col0 {\n",
       "            background-color:  #ffece4;\n",
       "            color:  #000000;\n",
       "        }    #T_79fdc28c_83a5_11ea_86c4_0019995a1c18row15_col0 {\n",
       "            background-color:  #fff1ea;\n",
       "            color:  #000000;\n",
       "        }    #T_79fdc28c_83a5_11ea_86c4_0019995a1c18row16_col0 {\n",
       "            background-color:  #fff2ec;\n",
       "            color:  #000000;\n",
       "        }    #T_79fdc28c_83a5_11ea_86c4_0019995a1c18row17_col0 {\n",
       "            background-color:  #fff4ee;\n",
       "            color:  #000000;\n",
       "        }    #T_79fdc28c_83a5_11ea_86c4_0019995a1c18row18_col0 {\n",
       "            background-color:  #fff4ee;\n",
       "            color:  #000000;\n",
       "        }    #T_79fdc28c_83a5_11ea_86c4_0019995a1c18row19_col0 {\n",
       "            background-color:  #fff4ee;\n",
       "            color:  #000000;\n",
       "        }    #T_79fdc28c_83a5_11ea_86c4_0019995a1c18row20_col0 {\n",
       "            background-color:  #fff4ef;\n",
       "            color:  #000000;\n",
       "        }    #T_79fdc28c_83a5_11ea_86c4_0019995a1c18row21_col0 {\n",
       "            background-color:  #fff4ef;\n",
       "            color:  #000000;\n",
       "        }    #T_79fdc28c_83a5_11ea_86c4_0019995a1c18row22_col0 {\n",
       "            background-color:  #fff4ef;\n",
       "            color:  #000000;\n",
       "        }    #T_79fdc28c_83a5_11ea_86c4_0019995a1c18row23_col0 {\n",
       "            background-color:  #fff5f0;\n",
       "            color:  #000000;\n",
       "        }    #T_79fdc28c_83a5_11ea_86c4_0019995a1c18row24_col0 {\n",
       "            background-color:  #fff5f0;\n",
       "            color:  #000000;\n",
       "        }    #T_79fdc28c_83a5_11ea_86c4_0019995a1c18row25_col0 {\n",
       "            background-color:  #fff5f0;\n",
       "            color:  #000000;\n",
       "        }    #T_79fdc28c_83a5_11ea_86c4_0019995a1c18row26_col0 {\n",
       "            background-color:  #fff5f0;\n",
       "            color:  #000000;\n",
       "        }    #T_79fdc28c_83a5_11ea_86c4_0019995a1c18row27_col0 {\n",
       "            background-color:  #fff5f0;\n",
       "            color:  #000000;\n",
       "        }    #T_79fdc28c_83a5_11ea_86c4_0019995a1c18row28_col0 {\n",
       "            background-color:  #fff5f0;\n",
       "            color:  #000000;\n",
       "        }    #T_79fdc28c_83a5_11ea_86c4_0019995a1c18row29_col0 {\n",
       "            background-color:  #fff5f0;\n",
       "            color:  #000000;\n",
       "        }    #T_79fdc28c_83a5_11ea_86c4_0019995a1c18row30_col0 {\n",
       "            background-color:  #fff5f0;\n",
       "            color:  #000000;\n",
       "        }    #T_79fdc28c_83a5_11ea_86c4_0019995a1c18row31_col0 {\n",
       "            background-color:  #fff5f0;\n",
       "            color:  #000000;\n",
       "        }</style><table id=\"T_79fdc28c_83a5_11ea_86c4_0019995a1c18\" ><thead>    <tr>        <th class=\"blank level0\" ></th>        <th class=\"col_heading level0 col0\" >TOTAL CONFIRMED</th>    </tr>    <tr>        <th class=\"index_name level0\" >STATE NAME</th>        <th class=\"blank\" ></th>    </tr></thead><tbody>\n",
       "                <tr>\n",
       "                        <th id=\"T_79fdc28c_83a5_11ea_86c4_0019995a1c18level0_row0\" class=\"row_heading level0 row0\" >Maharashtra</th>\n",
       "                        <td id=\"T_79fdc28c_83a5_11ea_86c4_0019995a1c18row0_col0\" class=\"data row0 col0\" >4666</td>\n",
       "            </tr>\n",
       "            <tr>\n",
       "                        <th id=\"T_79fdc28c_83a5_11ea_86c4_0019995a1c18level0_row1\" class=\"row_heading level0 row1\" >Delhi</th>\n",
       "                        <td id=\"T_79fdc28c_83a5_11ea_86c4_0019995a1c18row1_col0\" class=\"data row1 col0\" >2081</td>\n",
       "            </tr>\n",
       "            <tr>\n",
       "                        <th id=\"T_79fdc28c_83a5_11ea_86c4_0019995a1c18level0_row2\" class=\"row_heading level0 row2\" >Gujarat</th>\n",
       "                        <td id=\"T_79fdc28c_83a5_11ea_86c4_0019995a1c18row2_col0\" class=\"data row2 col0\" >1939</td>\n",
       "            </tr>\n",
       "            <tr>\n",
       "                        <th id=\"T_79fdc28c_83a5_11ea_86c4_0019995a1c18level0_row3\" class=\"row_heading level0 row3\" >Rajasthan</th>\n",
       "                        <td id=\"T_79fdc28c_83a5_11ea_86c4_0019995a1c18row3_col0\" class=\"data row3 col0\" >1576</td>\n",
       "            </tr>\n",
       "            <tr>\n",
       "                        <th id=\"T_79fdc28c_83a5_11ea_86c4_0019995a1c18level0_row4\" class=\"row_heading level0 row4\" >TamilNadu</th>\n",
       "                        <td id=\"T_79fdc28c_83a5_11ea_86c4_0019995a1c18row4_col0\" class=\"data row4 col0\" >1520</td>\n",
       "            </tr>\n",
       "            <tr>\n",
       "                        <th id=\"T_79fdc28c_83a5_11ea_86c4_0019995a1c18level0_row5\" class=\"row_heading level0 row5\" >MP</th>\n",
       "                        <td id=\"T_79fdc28c_83a5_11ea_86c4_0019995a1c18row5_col0\" class=\"data row5 col0\" >1485</td>\n",
       "            </tr>\n",
       "            <tr>\n",
       "                        <th id=\"T_79fdc28c_83a5_11ea_86c4_0019995a1c18level0_row6\" class=\"row_heading level0 row6\" >UttarPradesh</th>\n",
       "                        <td id=\"T_79fdc28c_83a5_11ea_86c4_0019995a1c18row6_col0\" class=\"data row6 col0\" >1184</td>\n",
       "            </tr>\n",
       "            <tr>\n",
       "                        <th id=\"T_79fdc28c_83a5_11ea_86c4_0019995a1c18level0_row7\" class=\"row_heading level0 row7\" >Telengana</th>\n",
       "                        <td id=\"T_79fdc28c_83a5_11ea_86c4_0019995a1c18row7_col0\" class=\"data row7 col0\" >873</td>\n",
       "            </tr>\n",
       "            <tr>\n",
       "                        <th id=\"T_79fdc28c_83a5_11ea_86c4_0019995a1c18level0_row8\" class=\"row_heading level0 row8\" >AndhraPradesh</th>\n",
       "                        <td id=\"T_79fdc28c_83a5_11ea_86c4_0019995a1c18row8_col0\" class=\"data row8 col0\" >722</td>\n",
       "            </tr>\n",
       "            <tr>\n",
       "                        <th id=\"T_79fdc28c_83a5_11ea_86c4_0019995a1c18level0_row9\" class=\"row_heading level0 row9\" >Kerala</th>\n",
       "                        <td id=\"T_79fdc28c_83a5_11ea_86c4_0019995a1c18row9_col0\" class=\"data row9 col0\" >408</td>\n",
       "            </tr>\n",
       "            <tr>\n",
       "                        <th id=\"T_79fdc28c_83a5_11ea_86c4_0019995a1c18level0_row10\" class=\"row_heading level0 row10\" >Karnataka</th>\n",
       "                        <td id=\"T_79fdc28c_83a5_11ea_86c4_0019995a1c18row10_col0\" class=\"data row10 col0\" >408</td>\n",
       "            </tr>\n",
       "            <tr>\n",
       "                        <th id=\"T_79fdc28c_83a5_11ea_86c4_0019995a1c18level0_row11\" class=\"row_heading level0 row11\" >West Bengal</th>\n",
       "                        <td id=\"T_79fdc28c_83a5_11ea_86c4_0019995a1c18row11_col0\" class=\"data row11 col0\" >392</td>\n",
       "            </tr>\n",
       "            <tr>\n",
       "                        <th id=\"T_79fdc28c_83a5_11ea_86c4_0019995a1c18level0_row12\" class=\"row_heading level0 row12\" >J & K</th>\n",
       "                        <td id=\"T_79fdc28c_83a5_11ea_86c4_0019995a1c18row12_col0\" class=\"data row12 col0\" >368</td>\n",
       "            </tr>\n",
       "            <tr>\n",
       "                        <th id=\"T_79fdc28c_83a5_11ea_86c4_0019995a1c18level0_row13\" class=\"row_heading level0 row13\" >Haryana</th>\n",
       "                        <td id=\"T_79fdc28c_83a5_11ea_86c4_0019995a1c18row13_col0\" class=\"data row13 col0\" >254</td>\n",
       "            </tr>\n",
       "            <tr>\n",
       "                        <th id=\"T_79fdc28c_83a5_11ea_86c4_0019995a1c18level0_row14\" class=\"row_heading level0 row14\" >Punjab</th>\n",
       "                        <td id=\"T_79fdc28c_83a5_11ea_86c4_0019995a1c18row14_col0\" class=\"data row14 col0\" >245</td>\n",
       "            </tr>\n",
       "            <tr>\n",
       "                        <th id=\"T_79fdc28c_83a5_11ea_86c4_0019995a1c18level0_row15\" class=\"row_heading level0 row15\" >Bihar</th>\n",
       "                        <td id=\"T_79fdc28c_83a5_11ea_86c4_0019995a1c18row15_col0\" class=\"data row15 col0\" >113</td>\n",
       "            </tr>\n",
       "            <tr>\n",
       "                        <th id=\"T_79fdc28c_83a5_11ea_86c4_0019995a1c18level0_row16\" class=\"row_heading level0 row16\" >Odisha</th>\n",
       "                        <td id=\"T_79fdc28c_83a5_11ea_86c4_0019995a1c18row16_col0\" class=\"data row16 col0\" >74</td>\n",
       "            </tr>\n",
       "            <tr>\n",
       "                        <th id=\"T_79fdc28c_83a5_11ea_86c4_0019995a1c18level0_row17\" class=\"row_heading level0 row17\" >Uttarakhand</th>\n",
       "                        <td id=\"T_79fdc28c_83a5_11ea_86c4_0019995a1c18row17_col0\" class=\"data row17 col0\" >46</td>\n",
       "            </tr>\n",
       "            <tr>\n",
       "                        <th id=\"T_79fdc28c_83a5_11ea_86c4_0019995a1c18level0_row18\" class=\"row_heading level0 row18\" >Jharkhand</th>\n",
       "                        <td id=\"T_79fdc28c_83a5_11ea_86c4_0019995a1c18row18_col0\" class=\"data row18 col0\" >46</td>\n",
       "            </tr>\n",
       "            <tr>\n",
       "                        <th id=\"T_79fdc28c_83a5_11ea_86c4_0019995a1c18level0_row19\" class=\"row_heading level0 row19\" >HimachalPradesh</th>\n",
       "                        <td id=\"T_79fdc28c_83a5_11ea_86c4_0019995a1c18row19_col0\" class=\"data row19 col0\" >39</td>\n",
       "            </tr>\n",
       "            <tr>\n",
       "                        <th id=\"T_79fdc28c_83a5_11ea_86c4_0019995a1c18level0_row20\" class=\"row_heading level0 row20\" >Chhattisgarh</th>\n",
       "                        <td id=\"T_79fdc28c_83a5_11ea_86c4_0019995a1c18row20_col0\" class=\"data row20 col0\" >36</td>\n",
       "            </tr>\n",
       "            <tr>\n",
       "                        <th id=\"T_79fdc28c_83a5_11ea_86c4_0019995a1c18level0_row21\" class=\"row_heading level0 row21\" >Assam</th>\n",
       "                        <td id=\"T_79fdc28c_83a5_11ea_86c4_0019995a1c18row21_col0\" class=\"data row21 col0\" >35</td>\n",
       "            </tr>\n",
       "            <tr>\n",
       "                        <th id=\"T_79fdc28c_83a5_11ea_86c4_0019995a1c18level0_row22\" class=\"row_heading level0 row22\" >Chandigarh</th>\n",
       "                        <td id=\"T_79fdc28c_83a5_11ea_86c4_0019995a1c18row22_col0\" class=\"data row22 col0\" >26</td>\n",
       "            </tr>\n",
       "            <tr>\n",
       "                        <th id=\"T_79fdc28c_83a5_11ea_86c4_0019995a1c18level0_row23\" class=\"row_heading level0 row23\" >Ladakh</th>\n",
       "                        <td id=\"T_79fdc28c_83a5_11ea_86c4_0019995a1c18row23_col0\" class=\"data row23 col0\" >18</td>\n",
       "            </tr>\n",
       "            <tr>\n",
       "                        <th id=\"T_79fdc28c_83a5_11ea_86c4_0019995a1c18level0_row24\" class=\"row_heading level0 row24\" >AndamanNicobar</th>\n",
       "                        <td id=\"T_79fdc28c_83a5_11ea_86c4_0019995a1c18row24_col0\" class=\"data row24 col0\" >16</td>\n",
       "            </tr>\n",
       "            <tr>\n",
       "                        <th id=\"T_79fdc28c_83a5_11ea_86c4_0019995a1c18level0_row25\" class=\"row_heading level0 row25\" >Meghalaya</th>\n",
       "                        <td id=\"T_79fdc28c_83a5_11ea_86c4_0019995a1c18row25_col0\" class=\"data row25 col0\" >11</td>\n",
       "            </tr>\n",
       "            <tr>\n",
       "                        <th id=\"T_79fdc28c_83a5_11ea_86c4_0019995a1c18level0_row26\" class=\"row_heading level0 row26\" >Puducherry</th>\n",
       "                        <td id=\"T_79fdc28c_83a5_11ea_86c4_0019995a1c18row26_col0\" class=\"data row26 col0\" >7</td>\n",
       "            </tr>\n",
       "            <tr>\n",
       "                        <th id=\"T_79fdc28c_83a5_11ea_86c4_0019995a1c18level0_row27\" class=\"row_heading level0 row27\" >Goa</th>\n",
       "                        <td id=\"T_79fdc28c_83a5_11ea_86c4_0019995a1c18row27_col0\" class=\"data row27 col0\" >7</td>\n",
       "            </tr>\n",
       "            <tr>\n",
       "                        <th id=\"T_79fdc28c_83a5_11ea_86c4_0019995a1c18level0_row28\" class=\"row_heading level0 row28\" >Tripura</th>\n",
       "                        <td id=\"T_79fdc28c_83a5_11ea_86c4_0019995a1c18row28_col0\" class=\"data row28 col0\" >2</td>\n",
       "            </tr>\n",
       "            <tr>\n",
       "                        <th id=\"T_79fdc28c_83a5_11ea_86c4_0019995a1c18level0_row29\" class=\"row_heading level0 row29\" >Manipur</th>\n",
       "                        <td id=\"T_79fdc28c_83a5_11ea_86c4_0019995a1c18row29_col0\" class=\"data row29 col0\" >2</td>\n",
       "            </tr>\n",
       "            <tr>\n",
       "                        <th id=\"T_79fdc28c_83a5_11ea_86c4_0019995a1c18level0_row30\" class=\"row_heading level0 row30\" >Mizoram</th>\n",
       "                        <td id=\"T_79fdc28c_83a5_11ea_86c4_0019995a1c18row30_col0\" class=\"data row30 col0\" >1</td>\n",
       "            </tr>\n",
       "            <tr>\n",
       "                        <th id=\"T_79fdc28c_83a5_11ea_86c4_0019995a1c18level0_row31\" class=\"row_heading level0 row31\" >Arunachal Pradesh</th>\n",
       "                        <td id=\"T_79fdc28c_83a5_11ea_86c4_0019995a1c18row31_col0\" class=\"data row31 col0\" >1</td>\n",
       "            </tr>\n",
       "    </tbody></table>"
      ],
      "text/plain": [
       "<pandas.io.formats.style.Styler at 0x107a38c8>"
      ]
     },
     "execution_count": 17,
     "metadata": {},
     "output_type": "execute_result"
    }
   ],
   "source": [
    "total_active.style.background_gradient(cmap = 'Reds')"
   ]
  },
  {
   "cell_type": "markdown",
   "metadata": {},
   "source": [
    "## Analysis Data in Graph Format"
   ]
  },
  {
   "cell_type": "code",
   "execution_count": 18,
   "metadata": {},
   "outputs": [
    {
     "data": {
      "application/vnd.plotly.v1+json": {
       "config": {
        "linkText": "Export to plot.ly",
        "plotlyServerURL": "https://plot.ly",
        "showLink": true
       },
       "data": [
        {
         "marker": {
          "color": "rgba(255, 153, 51, 0.6)",
          "line": {
           "color": "rgba(255, 153, 51, 1.0)",
           "width": 1
          }
         },
         "name": "TOTAL CONFIRMED",
         "orientation": "v",
         "text": "",
         "type": "bar",
         "x": [
          "AndhraPradesh",
          "AndamanNicobar",
          "Bihar",
          "Chandigarh",
          "Chhattisgarh",
          "Delhi",
          "Goa",
          "Gujarat",
          "Haryana",
          "HimachalPradesh",
          "J & K",
          "Karnataka",
          "Kerala",
          "Ladakh",
          "MP",
          "Maharashtra",
          "Manipur",
          "Mizoram",
          "Odisha",
          "Puducherry",
          "Punjab",
          "Rajasthan",
          "TamilNadu",
          "Telengana",
          "Uttarakhand",
          "UttarPradesh",
          "West Bengal",
          "Assam",
          "Jharkhand",
          "Arunachal Pradesh",
          "Tripura",
          "Meghalaya"
         ],
         "y": [
          722,
          16,
          113,
          26,
          36,
          2081,
          7,
          1939,
          254,
          39,
          368,
          408,
          408,
          18,
          1485,
          4666,
          2,
          1,
          74,
          7,
          245,
          1576,
          1520,
          873,
          46,
          1184,
          392,
          35,
          46,
          1,
          2,
          11
         ]
        }
       ],
       "layout": {
        "legend": {
         "bgcolor": "#F5F6F9",
         "font": {
          "color": "#4D5663"
         }
        },
        "paper_bgcolor": "#F5F6F9",
        "plot_bgcolor": "#F5F6F9",
        "template": {
         "data": {
          "bar": [
           {
            "error_x": {
             "color": "#2a3f5f"
            },
            "error_y": {
             "color": "#2a3f5f"
            },
            "marker": {
             "line": {
              "color": "#E5ECF6",
              "width": 0.5
             }
            },
            "type": "bar"
           }
          ],
          "barpolar": [
           {
            "marker": {
             "line": {
              "color": "#E5ECF6",
              "width": 0.5
             }
            },
            "type": "barpolar"
           }
          ],
          "carpet": [
           {
            "aaxis": {
             "endlinecolor": "#2a3f5f",
             "gridcolor": "white",
             "linecolor": "white",
             "minorgridcolor": "white",
             "startlinecolor": "#2a3f5f"
            },
            "baxis": {
             "endlinecolor": "#2a3f5f",
             "gridcolor": "white",
             "linecolor": "white",
             "minorgridcolor": "white",
             "startlinecolor": "#2a3f5f"
            },
            "type": "carpet"
           }
          ],
          "choropleth": [
           {
            "colorbar": {
             "outlinewidth": 0,
             "ticks": ""
            },
            "type": "choropleth"
           }
          ],
          "contour": [
           {
            "colorbar": {
             "outlinewidth": 0,
             "ticks": ""
            },
            "colorscale": [
             [
              0,
              "#0d0887"
             ],
             [
              0.1111111111111111,
              "#46039f"
             ],
             [
              0.2222222222222222,
              "#7201a8"
             ],
             [
              0.3333333333333333,
              "#9c179e"
             ],
             [
              0.4444444444444444,
              "#bd3786"
             ],
             [
              0.5555555555555556,
              "#d8576b"
             ],
             [
              0.6666666666666666,
              "#ed7953"
             ],
             [
              0.7777777777777778,
              "#fb9f3a"
             ],
             [
              0.8888888888888888,
              "#fdca26"
             ],
             [
              1,
              "#f0f921"
             ]
            ],
            "type": "contour"
           }
          ],
          "contourcarpet": [
           {
            "colorbar": {
             "outlinewidth": 0,
             "ticks": ""
            },
            "type": "contourcarpet"
           }
          ],
          "heatmap": [
           {
            "colorbar": {
             "outlinewidth": 0,
             "ticks": ""
            },
            "colorscale": [
             [
              0,
              "#0d0887"
             ],
             [
              0.1111111111111111,
              "#46039f"
             ],
             [
              0.2222222222222222,
              "#7201a8"
             ],
             [
              0.3333333333333333,
              "#9c179e"
             ],
             [
              0.4444444444444444,
              "#bd3786"
             ],
             [
              0.5555555555555556,
              "#d8576b"
             ],
             [
              0.6666666666666666,
              "#ed7953"
             ],
             [
              0.7777777777777778,
              "#fb9f3a"
             ],
             [
              0.8888888888888888,
              "#fdca26"
             ],
             [
              1,
              "#f0f921"
             ]
            ],
            "type": "heatmap"
           }
          ],
          "heatmapgl": [
           {
            "colorbar": {
             "outlinewidth": 0,
             "ticks": ""
            },
            "colorscale": [
             [
              0,
              "#0d0887"
             ],
             [
              0.1111111111111111,
              "#46039f"
             ],
             [
              0.2222222222222222,
              "#7201a8"
             ],
             [
              0.3333333333333333,
              "#9c179e"
             ],
             [
              0.4444444444444444,
              "#bd3786"
             ],
             [
              0.5555555555555556,
              "#d8576b"
             ],
             [
              0.6666666666666666,
              "#ed7953"
             ],
             [
              0.7777777777777778,
              "#fb9f3a"
             ],
             [
              0.8888888888888888,
              "#fdca26"
             ],
             [
              1,
              "#f0f921"
             ]
            ],
            "type": "heatmapgl"
           }
          ],
          "histogram": [
           {
            "marker": {
             "colorbar": {
              "outlinewidth": 0,
              "ticks": ""
             }
            },
            "type": "histogram"
           }
          ],
          "histogram2d": [
           {
            "colorbar": {
             "outlinewidth": 0,
             "ticks": ""
            },
            "colorscale": [
             [
              0,
              "#0d0887"
             ],
             [
              0.1111111111111111,
              "#46039f"
             ],
             [
              0.2222222222222222,
              "#7201a8"
             ],
             [
              0.3333333333333333,
              "#9c179e"
             ],
             [
              0.4444444444444444,
              "#bd3786"
             ],
             [
              0.5555555555555556,
              "#d8576b"
             ],
             [
              0.6666666666666666,
              "#ed7953"
             ],
             [
              0.7777777777777778,
              "#fb9f3a"
             ],
             [
              0.8888888888888888,
              "#fdca26"
             ],
             [
              1,
              "#f0f921"
             ]
            ],
            "type": "histogram2d"
           }
          ],
          "histogram2dcontour": [
           {
            "colorbar": {
             "outlinewidth": 0,
             "ticks": ""
            },
            "colorscale": [
             [
              0,
              "#0d0887"
             ],
             [
              0.1111111111111111,
              "#46039f"
             ],
             [
              0.2222222222222222,
              "#7201a8"
             ],
             [
              0.3333333333333333,
              "#9c179e"
             ],
             [
              0.4444444444444444,
              "#bd3786"
             ],
             [
              0.5555555555555556,
              "#d8576b"
             ],
             [
              0.6666666666666666,
              "#ed7953"
             ],
             [
              0.7777777777777778,
              "#fb9f3a"
             ],
             [
              0.8888888888888888,
              "#fdca26"
             ],
             [
              1,
              "#f0f921"
             ]
            ],
            "type": "histogram2dcontour"
           }
          ],
          "mesh3d": [
           {
            "colorbar": {
             "outlinewidth": 0,
             "ticks": ""
            },
            "type": "mesh3d"
           }
          ],
          "parcoords": [
           {
            "line": {
             "colorbar": {
              "outlinewidth": 0,
              "ticks": ""
             }
            },
            "type": "parcoords"
           }
          ],
          "pie": [
           {
            "automargin": true,
            "type": "pie"
           }
          ],
          "scatter": [
           {
            "marker": {
             "colorbar": {
              "outlinewidth": 0,
              "ticks": ""
             }
            },
            "type": "scatter"
           }
          ],
          "scatter3d": [
           {
            "line": {
             "colorbar": {
              "outlinewidth": 0,
              "ticks": ""
             }
            },
            "marker": {
             "colorbar": {
              "outlinewidth": 0,
              "ticks": ""
             }
            },
            "type": "scatter3d"
           }
          ],
          "scattercarpet": [
           {
            "marker": {
             "colorbar": {
              "outlinewidth": 0,
              "ticks": ""
             }
            },
            "type": "scattercarpet"
           }
          ],
          "scattergeo": [
           {
            "marker": {
             "colorbar": {
              "outlinewidth": 0,
              "ticks": ""
             }
            },
            "type": "scattergeo"
           }
          ],
          "scattergl": [
           {
            "marker": {
             "colorbar": {
              "outlinewidth": 0,
              "ticks": ""
             }
            },
            "type": "scattergl"
           }
          ],
          "scattermapbox": [
           {
            "marker": {
             "colorbar": {
              "outlinewidth": 0,
              "ticks": ""
             }
            },
            "type": "scattermapbox"
           }
          ],
          "scatterpolar": [
           {
            "marker": {
             "colorbar": {
              "outlinewidth": 0,
              "ticks": ""
             }
            },
            "type": "scatterpolar"
           }
          ],
          "scatterpolargl": [
           {
            "marker": {
             "colorbar": {
              "outlinewidth": 0,
              "ticks": ""
             }
            },
            "type": "scatterpolargl"
           }
          ],
          "scatterternary": [
           {
            "marker": {
             "colorbar": {
              "outlinewidth": 0,
              "ticks": ""
             }
            },
            "type": "scatterternary"
           }
          ],
          "surface": [
           {
            "colorbar": {
             "outlinewidth": 0,
             "ticks": ""
            },
            "colorscale": [
             [
              0,
              "#0d0887"
             ],
             [
              0.1111111111111111,
              "#46039f"
             ],
             [
              0.2222222222222222,
              "#7201a8"
             ],
             [
              0.3333333333333333,
              "#9c179e"
             ],
             [
              0.4444444444444444,
              "#bd3786"
             ],
             [
              0.5555555555555556,
              "#d8576b"
             ],
             [
              0.6666666666666666,
              "#ed7953"
             ],
             [
              0.7777777777777778,
              "#fb9f3a"
             ],
             [
              0.8888888888888888,
              "#fdca26"
             ],
             [
              1,
              "#f0f921"
             ]
            ],
            "type": "surface"
           }
          ],
          "table": [
           {
            "cells": {
             "fill": {
              "color": "#EBF0F8"
             },
             "line": {
              "color": "white"
             }
            },
            "header": {
             "fill": {
              "color": "#C8D4E3"
             },
             "line": {
              "color": "white"
             }
            },
            "type": "table"
           }
          ]
         },
         "layout": {
          "annotationdefaults": {
           "arrowcolor": "#2a3f5f",
           "arrowhead": 0,
           "arrowwidth": 1
          },
          "coloraxis": {
           "colorbar": {
            "outlinewidth": 0,
            "ticks": ""
           }
          },
          "colorscale": {
           "diverging": [
            [
             0,
             "#8e0152"
            ],
            [
             0.1,
             "#c51b7d"
            ],
            [
             0.2,
             "#de77ae"
            ],
            [
             0.3,
             "#f1b6da"
            ],
            [
             0.4,
             "#fde0ef"
            ],
            [
             0.5,
             "#f7f7f7"
            ],
            [
             0.6,
             "#e6f5d0"
            ],
            [
             0.7,
             "#b8e186"
            ],
            [
             0.8,
             "#7fbc41"
            ],
            [
             0.9,
             "#4d9221"
            ],
            [
             1,
             "#276419"
            ]
           ],
           "sequential": [
            [
             0,
             "#0d0887"
            ],
            [
             0.1111111111111111,
             "#46039f"
            ],
            [
             0.2222222222222222,
             "#7201a8"
            ],
            [
             0.3333333333333333,
             "#9c179e"
            ],
            [
             0.4444444444444444,
             "#bd3786"
            ],
            [
             0.5555555555555556,
             "#d8576b"
            ],
            [
             0.6666666666666666,
             "#ed7953"
            ],
            [
             0.7777777777777778,
             "#fb9f3a"
            ],
            [
             0.8888888888888888,
             "#fdca26"
            ],
            [
             1,
             "#f0f921"
            ]
           ],
           "sequentialminus": [
            [
             0,
             "#0d0887"
            ],
            [
             0.1111111111111111,
             "#46039f"
            ],
            [
             0.2222222222222222,
             "#7201a8"
            ],
            [
             0.3333333333333333,
             "#9c179e"
            ],
            [
             0.4444444444444444,
             "#bd3786"
            ],
            [
             0.5555555555555556,
             "#d8576b"
            ],
            [
             0.6666666666666666,
             "#ed7953"
            ],
            [
             0.7777777777777778,
             "#fb9f3a"
            ],
            [
             0.8888888888888888,
             "#fdca26"
            ],
            [
             1,
             "#f0f921"
            ]
           ]
          },
          "colorway": [
           "#636efa",
           "#EF553B",
           "#00cc96",
           "#ab63fa",
           "#FFA15A",
           "#19d3f3",
           "#FF6692",
           "#B6E880",
           "#FF97FF",
           "#FECB52"
          ],
          "font": {
           "color": "#2a3f5f"
          },
          "geo": {
           "bgcolor": "white",
           "lakecolor": "white",
           "landcolor": "#E5ECF6",
           "showlakes": true,
           "showland": true,
           "subunitcolor": "white"
          },
          "hoverlabel": {
           "align": "left"
          },
          "hovermode": "closest",
          "mapbox": {
           "style": "light"
          },
          "paper_bgcolor": "white",
          "plot_bgcolor": "#E5ECF6",
          "polar": {
           "angularaxis": {
            "gridcolor": "white",
            "linecolor": "white",
            "ticks": ""
           },
           "bgcolor": "#E5ECF6",
           "radialaxis": {
            "gridcolor": "white",
            "linecolor": "white",
            "ticks": ""
           }
          },
          "scene": {
           "xaxis": {
            "backgroundcolor": "#E5ECF6",
            "gridcolor": "white",
            "gridwidth": 2,
            "linecolor": "white",
            "showbackground": true,
            "ticks": "",
            "zerolinecolor": "white"
           },
           "yaxis": {
            "backgroundcolor": "#E5ECF6",
            "gridcolor": "white",
            "gridwidth": 2,
            "linecolor": "white",
            "showbackground": true,
            "ticks": "",
            "zerolinecolor": "white"
           },
           "zaxis": {
            "backgroundcolor": "#E5ECF6",
            "gridcolor": "white",
            "gridwidth": 2,
            "linecolor": "white",
            "showbackground": true,
            "ticks": "",
            "zerolinecolor": "white"
           }
          },
          "shapedefaults": {
           "line": {
            "color": "#2a3f5f"
           }
          },
          "ternary": {
           "aaxis": {
            "gridcolor": "white",
            "linecolor": "white",
            "ticks": ""
           },
           "baxis": {
            "gridcolor": "white",
            "linecolor": "white",
            "ticks": ""
           },
           "bgcolor": "#E5ECF6",
           "caxis": {
            "gridcolor": "white",
            "linecolor": "white",
            "ticks": ""
           }
          },
          "title": {
           "x": 0.05
          },
          "xaxis": {
           "automargin": true,
           "gridcolor": "white",
           "linecolor": "white",
           "ticks": "",
           "title": {
            "standoff": 15
           },
           "zerolinecolor": "white",
           "zerolinewidth": 2
          },
          "yaxis": {
           "automargin": true,
           "gridcolor": "white",
           "linecolor": "white",
           "ticks": "",
           "title": {
            "standoff": 15
           },
           "zerolinecolor": "white",
           "zerolinewidth": 2
          }
         }
        },
        "title": {
         "font": {
          "color": "#4D5663"
         },
         "text": "State wise Covid-19 Cases"
        },
        "xaxis": {
         "gridcolor": "#E1E5ED",
         "showgrid": true,
         "tickfont": {
          "color": "#4D5663"
         },
         "title": {
          "font": {
           "color": "#4D5663"
          },
          "text": "State"
         },
         "zerolinecolor": "#E1E5ED"
        },
        "yaxis": {
         "gridcolor": "#E1E5ED",
         "showgrid": true,
         "tickfont": {
          "color": "#4D5663"
         },
         "title": {
          "font": {
           "color": "#4D5663"
          },
          "text": "Total Cases"
         },
         "zerolinecolor": "#E1E5ED"
        }
       }
      },
      "text/html": [
       "<div>\n",
       "        \n",
       "        \n",
       "            <div id=\"12e0b341-cc7e-4f2a-af68-613b7ccff38e\" class=\"plotly-graph-div\" style=\"height:525px; width:100%;\"></div>\n",
       "            <script type=\"text/javascript\">\n",
       "                require([\"plotly\"], function(Plotly) {\n",
       "                    window.PLOTLYENV=window.PLOTLYENV || {};\n",
       "                    window.PLOTLYENV.BASE_URL='https://plot.ly';\n",
       "                    \n",
       "                if (document.getElementById(\"12e0b341-cc7e-4f2a-af68-613b7ccff38e\")) {\n",
       "                    Plotly.newPlot(\n",
       "                        '12e0b341-cc7e-4f2a-af68-613b7ccff38e',\n",
       "                        [{\"marker\": {\"color\": \"rgba(255, 153, 51, 0.6)\", \"line\": {\"color\": \"rgba(255, 153, 51, 1.0)\", \"width\": 1}}, \"name\": \"TOTAL CONFIRMED\", \"orientation\": \"v\", \"text\": \"\", \"type\": \"bar\", \"x\": [\"AndhraPradesh\", \"AndamanNicobar\", \"Bihar\", \"Chandigarh\", \"Chhattisgarh\", \"Delhi\", \"Goa\", \"Gujarat\", \"Haryana\", \"HimachalPradesh\", \"J & K\", \"Karnataka\", \"Kerala\", \"Ladakh\", \"MP\", \"Maharashtra\", \"Manipur\", \"Mizoram\", \"Odisha\", \"Puducherry\", \"Punjab\", \"Rajasthan\", \"TamilNadu\", \"Telengana\", \"Uttarakhand\", \"UttarPradesh\", \"West Bengal\", \"Assam\", \"Jharkhand\", \"Arunachal Pradesh\", \"Tripura\", \"Meghalaya\"], \"y\": [722, 16, 113, 26, 36, 2081, 7, 1939, 254, 39, 368, 408, 408, 18, 1485, 4666, 2, 1, 74, 7, 245, 1576, 1520, 873, 46, 1184, 392, 35, 46, 1, 2, 11]}],\n",
       "                        {\"legend\": {\"bgcolor\": \"#F5F6F9\", \"font\": {\"color\": \"#4D5663\"}}, \"paper_bgcolor\": \"#F5F6F9\", \"plot_bgcolor\": \"#F5F6F9\", \"template\": {\"data\": {\"bar\": [{\"error_x\": {\"color\": \"#2a3f5f\"}, \"error_y\": {\"color\": \"#2a3f5f\"}, \"marker\": {\"line\": {\"color\": \"#E5ECF6\", \"width\": 0.5}}, \"type\": \"bar\"}], \"barpolar\": [{\"marker\": {\"line\": {\"color\": \"#E5ECF6\", \"width\": 0.5}}, \"type\": \"barpolar\"}], \"carpet\": [{\"aaxis\": {\"endlinecolor\": \"#2a3f5f\", \"gridcolor\": \"white\", \"linecolor\": \"white\", \"minorgridcolor\": \"white\", \"startlinecolor\": \"#2a3f5f\"}, \"baxis\": {\"endlinecolor\": \"#2a3f5f\", \"gridcolor\": \"white\", \"linecolor\": \"white\", \"minorgridcolor\": \"white\", \"startlinecolor\": \"#2a3f5f\"}, \"type\": \"carpet\"}], \"choropleth\": [{\"colorbar\": {\"outlinewidth\": 0, \"ticks\": \"\"}, \"type\": \"choropleth\"}], \"contour\": [{\"colorbar\": {\"outlinewidth\": 0, \"ticks\": \"\"}, \"colorscale\": [[0.0, \"#0d0887\"], [0.1111111111111111, \"#46039f\"], [0.2222222222222222, \"#7201a8\"], [0.3333333333333333, \"#9c179e\"], [0.4444444444444444, \"#bd3786\"], [0.5555555555555556, \"#d8576b\"], [0.6666666666666666, \"#ed7953\"], [0.7777777777777778, \"#fb9f3a\"], [0.8888888888888888, \"#fdca26\"], [1.0, \"#f0f921\"]], \"type\": \"contour\"}], \"contourcarpet\": [{\"colorbar\": {\"outlinewidth\": 0, \"ticks\": \"\"}, \"type\": \"contourcarpet\"}], \"heatmap\": [{\"colorbar\": {\"outlinewidth\": 0, \"ticks\": \"\"}, \"colorscale\": [[0.0, \"#0d0887\"], [0.1111111111111111, \"#46039f\"], [0.2222222222222222, \"#7201a8\"], [0.3333333333333333, \"#9c179e\"], [0.4444444444444444, \"#bd3786\"], [0.5555555555555556, \"#d8576b\"], [0.6666666666666666, \"#ed7953\"], [0.7777777777777778, \"#fb9f3a\"], [0.8888888888888888, \"#fdca26\"], [1.0, \"#f0f921\"]], \"type\": \"heatmap\"}], \"heatmapgl\": [{\"colorbar\": {\"outlinewidth\": 0, \"ticks\": \"\"}, \"colorscale\": [[0.0, \"#0d0887\"], [0.1111111111111111, \"#46039f\"], [0.2222222222222222, \"#7201a8\"], [0.3333333333333333, \"#9c179e\"], [0.4444444444444444, \"#bd3786\"], [0.5555555555555556, \"#d8576b\"], [0.6666666666666666, \"#ed7953\"], [0.7777777777777778, \"#fb9f3a\"], [0.8888888888888888, \"#fdca26\"], [1.0, \"#f0f921\"]], \"type\": \"heatmapgl\"}], \"histogram\": [{\"marker\": {\"colorbar\": {\"outlinewidth\": 0, \"ticks\": \"\"}}, \"type\": \"histogram\"}], \"histogram2d\": [{\"colorbar\": {\"outlinewidth\": 0, \"ticks\": \"\"}, \"colorscale\": [[0.0, \"#0d0887\"], [0.1111111111111111, \"#46039f\"], [0.2222222222222222, \"#7201a8\"], [0.3333333333333333, \"#9c179e\"], [0.4444444444444444, \"#bd3786\"], [0.5555555555555556, \"#d8576b\"], [0.6666666666666666, \"#ed7953\"], [0.7777777777777778, \"#fb9f3a\"], [0.8888888888888888, \"#fdca26\"], [1.0, \"#f0f921\"]], \"type\": \"histogram2d\"}], \"histogram2dcontour\": [{\"colorbar\": {\"outlinewidth\": 0, \"ticks\": \"\"}, \"colorscale\": [[0.0, \"#0d0887\"], [0.1111111111111111, \"#46039f\"], [0.2222222222222222, \"#7201a8\"], [0.3333333333333333, \"#9c179e\"], [0.4444444444444444, \"#bd3786\"], [0.5555555555555556, \"#d8576b\"], [0.6666666666666666, \"#ed7953\"], [0.7777777777777778, \"#fb9f3a\"], [0.8888888888888888, \"#fdca26\"], [1.0, \"#f0f921\"]], \"type\": \"histogram2dcontour\"}], \"mesh3d\": [{\"colorbar\": {\"outlinewidth\": 0, \"ticks\": \"\"}, \"type\": \"mesh3d\"}], \"parcoords\": [{\"line\": {\"colorbar\": {\"outlinewidth\": 0, \"ticks\": \"\"}}, \"type\": \"parcoords\"}], \"pie\": [{\"automargin\": true, \"type\": \"pie\"}], \"scatter\": [{\"marker\": {\"colorbar\": {\"outlinewidth\": 0, \"ticks\": \"\"}}, \"type\": \"scatter\"}], \"scatter3d\": [{\"line\": {\"colorbar\": {\"outlinewidth\": 0, \"ticks\": \"\"}}, \"marker\": {\"colorbar\": {\"outlinewidth\": 0, \"ticks\": \"\"}}, \"type\": \"scatter3d\"}], \"scattercarpet\": [{\"marker\": {\"colorbar\": {\"outlinewidth\": 0, \"ticks\": \"\"}}, \"type\": \"scattercarpet\"}], \"scattergeo\": [{\"marker\": {\"colorbar\": {\"outlinewidth\": 0, \"ticks\": \"\"}}, \"type\": \"scattergeo\"}], \"scattergl\": [{\"marker\": {\"colorbar\": {\"outlinewidth\": 0, \"ticks\": \"\"}}, \"type\": \"scattergl\"}], \"scattermapbox\": [{\"marker\": {\"colorbar\": {\"outlinewidth\": 0, \"ticks\": \"\"}}, \"type\": \"scattermapbox\"}], \"scatterpolar\": [{\"marker\": {\"colorbar\": {\"outlinewidth\": 0, \"ticks\": \"\"}}, \"type\": \"scatterpolar\"}], \"scatterpolargl\": [{\"marker\": {\"colorbar\": {\"outlinewidth\": 0, \"ticks\": \"\"}}, \"type\": \"scatterpolargl\"}], \"scatterternary\": [{\"marker\": {\"colorbar\": {\"outlinewidth\": 0, \"ticks\": \"\"}}, \"type\": \"scatterternary\"}], \"surface\": [{\"colorbar\": {\"outlinewidth\": 0, \"ticks\": \"\"}, \"colorscale\": [[0.0, \"#0d0887\"], [0.1111111111111111, \"#46039f\"], [0.2222222222222222, \"#7201a8\"], [0.3333333333333333, \"#9c179e\"], [0.4444444444444444, \"#bd3786\"], [0.5555555555555556, \"#d8576b\"], [0.6666666666666666, \"#ed7953\"], [0.7777777777777778, \"#fb9f3a\"], [0.8888888888888888, \"#fdca26\"], [1.0, \"#f0f921\"]], \"type\": \"surface\"}], \"table\": [{\"cells\": {\"fill\": {\"color\": \"#EBF0F8\"}, \"line\": {\"color\": \"white\"}}, \"header\": {\"fill\": {\"color\": \"#C8D4E3\"}, \"line\": {\"color\": \"white\"}}, \"type\": \"table\"}]}, \"layout\": {\"annotationdefaults\": {\"arrowcolor\": \"#2a3f5f\", \"arrowhead\": 0, \"arrowwidth\": 1}, \"coloraxis\": {\"colorbar\": {\"outlinewidth\": 0, \"ticks\": \"\"}}, \"colorscale\": {\"diverging\": [[0, \"#8e0152\"], [0.1, \"#c51b7d\"], [0.2, \"#de77ae\"], [0.3, \"#f1b6da\"], [0.4, \"#fde0ef\"], [0.5, \"#f7f7f7\"], [0.6, \"#e6f5d0\"], [0.7, \"#b8e186\"], [0.8, \"#7fbc41\"], [0.9, \"#4d9221\"], [1, \"#276419\"]], \"sequential\": [[0.0, \"#0d0887\"], [0.1111111111111111, \"#46039f\"], [0.2222222222222222, \"#7201a8\"], [0.3333333333333333, \"#9c179e\"], [0.4444444444444444, \"#bd3786\"], [0.5555555555555556, \"#d8576b\"], [0.6666666666666666, \"#ed7953\"], [0.7777777777777778, \"#fb9f3a\"], [0.8888888888888888, \"#fdca26\"], [1.0, \"#f0f921\"]], \"sequentialminus\": [[0.0, \"#0d0887\"], [0.1111111111111111, \"#46039f\"], [0.2222222222222222, \"#7201a8\"], [0.3333333333333333, \"#9c179e\"], [0.4444444444444444, \"#bd3786\"], [0.5555555555555556, \"#d8576b\"], [0.6666666666666666, \"#ed7953\"], [0.7777777777777778, \"#fb9f3a\"], [0.8888888888888888, \"#fdca26\"], [1.0, \"#f0f921\"]]}, \"colorway\": [\"#636efa\", \"#EF553B\", \"#00cc96\", \"#ab63fa\", \"#FFA15A\", \"#19d3f3\", \"#FF6692\", \"#B6E880\", \"#FF97FF\", \"#FECB52\"], \"font\": {\"color\": \"#2a3f5f\"}, \"geo\": {\"bgcolor\": \"white\", \"lakecolor\": \"white\", \"landcolor\": \"#E5ECF6\", \"showlakes\": true, \"showland\": true, \"subunitcolor\": \"white\"}, \"hoverlabel\": {\"align\": \"left\"}, \"hovermode\": \"closest\", \"mapbox\": {\"style\": \"light\"}, \"paper_bgcolor\": \"white\", \"plot_bgcolor\": \"#E5ECF6\", \"polar\": {\"angularaxis\": {\"gridcolor\": \"white\", \"linecolor\": \"white\", \"ticks\": \"\"}, \"bgcolor\": \"#E5ECF6\", \"radialaxis\": {\"gridcolor\": \"white\", \"linecolor\": \"white\", \"ticks\": \"\"}}, \"scene\": {\"xaxis\": {\"backgroundcolor\": \"#E5ECF6\", \"gridcolor\": \"white\", \"gridwidth\": 2, \"linecolor\": \"white\", \"showbackground\": true, \"ticks\": \"\", \"zerolinecolor\": \"white\"}, \"yaxis\": {\"backgroundcolor\": \"#E5ECF6\", \"gridcolor\": \"white\", \"gridwidth\": 2, \"linecolor\": \"white\", \"showbackground\": true, \"ticks\": \"\", \"zerolinecolor\": \"white\"}, \"zaxis\": {\"backgroundcolor\": \"#E5ECF6\", \"gridcolor\": \"white\", \"gridwidth\": 2, \"linecolor\": \"white\", \"showbackground\": true, \"ticks\": \"\", \"zerolinecolor\": \"white\"}}, \"shapedefaults\": {\"line\": {\"color\": \"#2a3f5f\"}}, \"ternary\": {\"aaxis\": {\"gridcolor\": \"white\", \"linecolor\": \"white\", \"ticks\": \"\"}, \"baxis\": {\"gridcolor\": \"white\", \"linecolor\": \"white\", \"ticks\": \"\"}, \"bgcolor\": \"#E5ECF6\", \"caxis\": {\"gridcolor\": \"white\", \"linecolor\": \"white\", \"ticks\": \"\"}}, \"title\": {\"x\": 0.05}, \"xaxis\": {\"automargin\": true, \"gridcolor\": \"white\", \"linecolor\": \"white\", \"ticks\": \"\", \"title\": {\"standoff\": 15}, \"zerolinecolor\": \"white\", \"zerolinewidth\": 2}, \"yaxis\": {\"automargin\": true, \"gridcolor\": \"white\", \"linecolor\": \"white\", \"ticks\": \"\", \"title\": {\"standoff\": 15}, \"zerolinecolor\": \"white\", \"zerolinewidth\": 2}}}, \"title\": {\"font\": {\"color\": \"#4D5663\"}, \"text\": \"State wise Covid-19 Cases\"}, \"xaxis\": {\"gridcolor\": \"#E1E5ED\", \"showgrid\": true, \"tickfont\": {\"color\": \"#4D5663\"}, \"title\": {\"font\": {\"color\": \"#4D5663\"}, \"text\": \"State\"}, \"zerolinecolor\": \"#E1E5ED\"}, \"yaxis\": {\"gridcolor\": \"#E1E5ED\", \"showgrid\": true, \"tickfont\": {\"color\": \"#4D5663\"}, \"title\": {\"font\": {\"color\": \"#4D5663\"}, \"text\": \"Total Cases\"}, \"zerolinecolor\": \"#E1E5ED\"}},\n",
       "                        {\"showLink\": true, \"linkText\": \"Export to plot.ly\", \"plotlyServerURL\": \"https://plot.ly\", \"responsive\": true}\n",
       "                    ).then(function(){\n",
       "                            \n",
       "var gd = document.getElementById('12e0b341-cc7e-4f2a-af68-613b7ccff38e');\n",
       "var x = new MutationObserver(function (mutations, observer) {{\n",
       "        var display = window.getComputedStyle(gd).display;\n",
       "        if (!display || display === 'none') {{\n",
       "            console.log([gd, 'removed!']);\n",
       "            Plotly.purge(gd);\n",
       "            observer.disconnect();\n",
       "        }}\n",
       "}});\n",
       "\n",
       "// Listen for the removal of the full notebook cells\n",
       "var notebookContainer = gd.closest('#notebook-container');\n",
       "if (notebookContainer) {{\n",
       "    x.observe(notebookContainer, {childList: true});\n",
       "}}\n",
       "\n",
       "// Listen for the clearing of the current output cell\n",
       "var outputEl = gd.closest('.output');\n",
       "if (outputEl) {{\n",
       "    x.observe(outputEl, {childList: true});\n",
       "}}\n",
       "\n",
       "                        })\n",
       "                };\n",
       "                });\n",
       "            </script>\n",
       "        </div>"
      ]
     },
     "metadata": {},
     "output_type": "display_data"
    }
   ],
   "source": [
    "covid_india.iplot(kind='bar',x='STATE NAME',y='TOTAL CONFIRMED',\n",
    "                  title='State wise Covid-19 Cases',xTitle='State',yTitle='Total Cases')"
   ]
  },
  {
   "cell_type": "code",
   "execution_count": 19,
   "metadata": {},
   "outputs": [
    {
     "data": {
      "application/vnd.plotly.v1+json": {
       "config": {
        "plotlyServerURL": "https://plot.ly"
       },
       "data": [
        {
         "alignmentgroup": "True",
         "hovertemplate": "STATE NAME=%{x}<br>TOTAL CONFIRMED=%{marker.color}<extra></extra>",
         "legendgroup": "",
         "marker": {
          "color": [
           722,
           16,
           113,
           26,
           36,
           2081,
           7,
           1939,
           254,
           39,
           368,
           408,
           408,
           18,
           1485,
           4666,
           2,
           1,
           74,
           7,
           245,
           1576,
           1520,
           873,
           46,
           1184,
           392,
           35,
           46,
           1,
           2,
           11
          ],
          "coloraxis": "coloraxis"
         },
         "name": "",
         "offsetgroup": "",
         "orientation": "v",
         "showlegend": false,
         "textposition": "auto",
         "type": "bar",
         "x": [
          "AndhraPradesh",
          "AndamanNicobar",
          "Bihar",
          "Chandigarh",
          "Chhattisgarh",
          "Delhi",
          "Goa",
          "Gujarat",
          "Haryana",
          "HimachalPradesh",
          "J & K",
          "Karnataka",
          "Kerala",
          "Ladakh",
          "MP",
          "Maharashtra",
          "Manipur",
          "Mizoram",
          "Odisha",
          "Puducherry",
          "Punjab",
          "Rajasthan",
          "TamilNadu",
          "Telengana",
          "Uttarakhand",
          "UttarPradesh",
          "West Bengal",
          "Assam",
          "Jharkhand",
          "Arunachal Pradesh",
          "Tripura",
          "Meghalaya"
         ],
         "xaxis": "x",
         "y": [
          722,
          16,
          113,
          26,
          36,
          2081,
          7,
          1939,
          254,
          39,
          368,
          408,
          408,
          18,
          1485,
          4666,
          2,
          1,
          74,
          7,
          245,
          1576,
          1520,
          873,
          46,
          1184,
          392,
          35,
          46,
          1,
          2,
          11
         ],
         "yaxis": "y"
        }
       ],
       "layout": {
        "barmode": "relative",
        "coloraxis": {
         "colorbar": {
          "title": {
           "text": "TOTAL CONFIRMED"
          }
         },
         "colorscale": [
          [
           0,
           "#0d0887"
          ],
          [
           0.1111111111111111,
           "#46039f"
          ],
          [
           0.2222222222222222,
           "#7201a8"
          ],
          [
           0.3333333333333333,
           "#9c179e"
          ],
          [
           0.4444444444444444,
           "#bd3786"
          ],
          [
           0.5555555555555556,
           "#d8576b"
          ],
          [
           0.6666666666666666,
           "#ed7953"
          ],
          [
           0.7777777777777778,
           "#fb9f3a"
          ],
          [
           0.8888888888888888,
           "#fdca26"
          ],
          [
           1,
           "#f0f921"
          ]
         ]
        },
        "legend": {
         "tracegroupgap": 0
        },
        "template": {
         "data": {
          "bar": [
           {
            "error_x": {
             "color": "#2a3f5f"
            },
            "error_y": {
             "color": "#2a3f5f"
            },
            "marker": {
             "line": {
              "color": "#E5ECF6",
              "width": 0.5
             }
            },
            "type": "bar"
           }
          ],
          "barpolar": [
           {
            "marker": {
             "line": {
              "color": "#E5ECF6",
              "width": 0.5
             }
            },
            "type": "barpolar"
           }
          ],
          "carpet": [
           {
            "aaxis": {
             "endlinecolor": "#2a3f5f",
             "gridcolor": "white",
             "linecolor": "white",
             "minorgridcolor": "white",
             "startlinecolor": "#2a3f5f"
            },
            "baxis": {
             "endlinecolor": "#2a3f5f",
             "gridcolor": "white",
             "linecolor": "white",
             "minorgridcolor": "white",
             "startlinecolor": "#2a3f5f"
            },
            "type": "carpet"
           }
          ],
          "choropleth": [
           {
            "colorbar": {
             "outlinewidth": 0,
             "ticks": ""
            },
            "type": "choropleth"
           }
          ],
          "contour": [
           {
            "colorbar": {
             "outlinewidth": 0,
             "ticks": ""
            },
            "colorscale": [
             [
              0,
              "#0d0887"
             ],
             [
              0.1111111111111111,
              "#46039f"
             ],
             [
              0.2222222222222222,
              "#7201a8"
             ],
             [
              0.3333333333333333,
              "#9c179e"
             ],
             [
              0.4444444444444444,
              "#bd3786"
             ],
             [
              0.5555555555555556,
              "#d8576b"
             ],
             [
              0.6666666666666666,
              "#ed7953"
             ],
             [
              0.7777777777777778,
              "#fb9f3a"
             ],
             [
              0.8888888888888888,
              "#fdca26"
             ],
             [
              1,
              "#f0f921"
             ]
            ],
            "type": "contour"
           }
          ],
          "contourcarpet": [
           {
            "colorbar": {
             "outlinewidth": 0,
             "ticks": ""
            },
            "type": "contourcarpet"
           }
          ],
          "heatmap": [
           {
            "colorbar": {
             "outlinewidth": 0,
             "ticks": ""
            },
            "colorscale": [
             [
              0,
              "#0d0887"
             ],
             [
              0.1111111111111111,
              "#46039f"
             ],
             [
              0.2222222222222222,
              "#7201a8"
             ],
             [
              0.3333333333333333,
              "#9c179e"
             ],
             [
              0.4444444444444444,
              "#bd3786"
             ],
             [
              0.5555555555555556,
              "#d8576b"
             ],
             [
              0.6666666666666666,
              "#ed7953"
             ],
             [
              0.7777777777777778,
              "#fb9f3a"
             ],
             [
              0.8888888888888888,
              "#fdca26"
             ],
             [
              1,
              "#f0f921"
             ]
            ],
            "type": "heatmap"
           }
          ],
          "heatmapgl": [
           {
            "colorbar": {
             "outlinewidth": 0,
             "ticks": ""
            },
            "colorscale": [
             [
              0,
              "#0d0887"
             ],
             [
              0.1111111111111111,
              "#46039f"
             ],
             [
              0.2222222222222222,
              "#7201a8"
             ],
             [
              0.3333333333333333,
              "#9c179e"
             ],
             [
              0.4444444444444444,
              "#bd3786"
             ],
             [
              0.5555555555555556,
              "#d8576b"
             ],
             [
              0.6666666666666666,
              "#ed7953"
             ],
             [
              0.7777777777777778,
              "#fb9f3a"
             ],
             [
              0.8888888888888888,
              "#fdca26"
             ],
             [
              1,
              "#f0f921"
             ]
            ],
            "type": "heatmapgl"
           }
          ],
          "histogram": [
           {
            "marker": {
             "colorbar": {
              "outlinewidth": 0,
              "ticks": ""
             }
            },
            "type": "histogram"
           }
          ],
          "histogram2d": [
           {
            "colorbar": {
             "outlinewidth": 0,
             "ticks": ""
            },
            "colorscale": [
             [
              0,
              "#0d0887"
             ],
             [
              0.1111111111111111,
              "#46039f"
             ],
             [
              0.2222222222222222,
              "#7201a8"
             ],
             [
              0.3333333333333333,
              "#9c179e"
             ],
             [
              0.4444444444444444,
              "#bd3786"
             ],
             [
              0.5555555555555556,
              "#d8576b"
             ],
             [
              0.6666666666666666,
              "#ed7953"
             ],
             [
              0.7777777777777778,
              "#fb9f3a"
             ],
             [
              0.8888888888888888,
              "#fdca26"
             ],
             [
              1,
              "#f0f921"
             ]
            ],
            "type": "histogram2d"
           }
          ],
          "histogram2dcontour": [
           {
            "colorbar": {
             "outlinewidth": 0,
             "ticks": ""
            },
            "colorscale": [
             [
              0,
              "#0d0887"
             ],
             [
              0.1111111111111111,
              "#46039f"
             ],
             [
              0.2222222222222222,
              "#7201a8"
             ],
             [
              0.3333333333333333,
              "#9c179e"
             ],
             [
              0.4444444444444444,
              "#bd3786"
             ],
             [
              0.5555555555555556,
              "#d8576b"
             ],
             [
              0.6666666666666666,
              "#ed7953"
             ],
             [
              0.7777777777777778,
              "#fb9f3a"
             ],
             [
              0.8888888888888888,
              "#fdca26"
             ],
             [
              1,
              "#f0f921"
             ]
            ],
            "type": "histogram2dcontour"
           }
          ],
          "mesh3d": [
           {
            "colorbar": {
             "outlinewidth": 0,
             "ticks": ""
            },
            "type": "mesh3d"
           }
          ],
          "parcoords": [
           {
            "line": {
             "colorbar": {
              "outlinewidth": 0,
              "ticks": ""
             }
            },
            "type": "parcoords"
           }
          ],
          "pie": [
           {
            "automargin": true,
            "type": "pie"
           }
          ],
          "scatter": [
           {
            "marker": {
             "colorbar": {
              "outlinewidth": 0,
              "ticks": ""
             }
            },
            "type": "scatter"
           }
          ],
          "scatter3d": [
           {
            "line": {
             "colorbar": {
              "outlinewidth": 0,
              "ticks": ""
             }
            },
            "marker": {
             "colorbar": {
              "outlinewidth": 0,
              "ticks": ""
             }
            },
            "type": "scatter3d"
           }
          ],
          "scattercarpet": [
           {
            "marker": {
             "colorbar": {
              "outlinewidth": 0,
              "ticks": ""
             }
            },
            "type": "scattercarpet"
           }
          ],
          "scattergeo": [
           {
            "marker": {
             "colorbar": {
              "outlinewidth": 0,
              "ticks": ""
             }
            },
            "type": "scattergeo"
           }
          ],
          "scattergl": [
           {
            "marker": {
             "colorbar": {
              "outlinewidth": 0,
              "ticks": ""
             }
            },
            "type": "scattergl"
           }
          ],
          "scattermapbox": [
           {
            "marker": {
             "colorbar": {
              "outlinewidth": 0,
              "ticks": ""
             }
            },
            "type": "scattermapbox"
           }
          ],
          "scatterpolar": [
           {
            "marker": {
             "colorbar": {
              "outlinewidth": 0,
              "ticks": ""
             }
            },
            "type": "scatterpolar"
           }
          ],
          "scatterpolargl": [
           {
            "marker": {
             "colorbar": {
              "outlinewidth": 0,
              "ticks": ""
             }
            },
            "type": "scatterpolargl"
           }
          ],
          "scatterternary": [
           {
            "marker": {
             "colorbar": {
              "outlinewidth": 0,
              "ticks": ""
             }
            },
            "type": "scatterternary"
           }
          ],
          "surface": [
           {
            "colorbar": {
             "outlinewidth": 0,
             "ticks": ""
            },
            "colorscale": [
             [
              0,
              "#0d0887"
             ],
             [
              0.1111111111111111,
              "#46039f"
             ],
             [
              0.2222222222222222,
              "#7201a8"
             ],
             [
              0.3333333333333333,
              "#9c179e"
             ],
             [
              0.4444444444444444,
              "#bd3786"
             ],
             [
              0.5555555555555556,
              "#d8576b"
             ],
             [
              0.6666666666666666,
              "#ed7953"
             ],
             [
              0.7777777777777778,
              "#fb9f3a"
             ],
             [
              0.8888888888888888,
              "#fdca26"
             ],
             [
              1,
              "#f0f921"
             ]
            ],
            "type": "surface"
           }
          ],
          "table": [
           {
            "cells": {
             "fill": {
              "color": "#EBF0F8"
             },
             "line": {
              "color": "white"
             }
            },
            "header": {
             "fill": {
              "color": "#C8D4E3"
             },
             "line": {
              "color": "white"
             }
            },
            "type": "table"
           }
          ]
         },
         "layout": {
          "annotationdefaults": {
           "arrowcolor": "#2a3f5f",
           "arrowhead": 0,
           "arrowwidth": 1
          },
          "coloraxis": {
           "colorbar": {
            "outlinewidth": 0,
            "ticks": ""
           }
          },
          "colorscale": {
           "diverging": [
            [
             0,
             "#8e0152"
            ],
            [
             0.1,
             "#c51b7d"
            ],
            [
             0.2,
             "#de77ae"
            ],
            [
             0.3,
             "#f1b6da"
            ],
            [
             0.4,
             "#fde0ef"
            ],
            [
             0.5,
             "#f7f7f7"
            ],
            [
             0.6,
             "#e6f5d0"
            ],
            [
             0.7,
             "#b8e186"
            ],
            [
             0.8,
             "#7fbc41"
            ],
            [
             0.9,
             "#4d9221"
            ],
            [
             1,
             "#276419"
            ]
           ],
           "sequential": [
            [
             0,
             "#0d0887"
            ],
            [
             0.1111111111111111,
             "#46039f"
            ],
            [
             0.2222222222222222,
             "#7201a8"
            ],
            [
             0.3333333333333333,
             "#9c179e"
            ],
            [
             0.4444444444444444,
             "#bd3786"
            ],
            [
             0.5555555555555556,
             "#d8576b"
            ],
            [
             0.6666666666666666,
             "#ed7953"
            ],
            [
             0.7777777777777778,
             "#fb9f3a"
            ],
            [
             0.8888888888888888,
             "#fdca26"
            ],
            [
             1,
             "#f0f921"
            ]
           ],
           "sequentialminus": [
            [
             0,
             "#0d0887"
            ],
            [
             0.1111111111111111,
             "#46039f"
            ],
            [
             0.2222222222222222,
             "#7201a8"
            ],
            [
             0.3333333333333333,
             "#9c179e"
            ],
            [
             0.4444444444444444,
             "#bd3786"
            ],
            [
             0.5555555555555556,
             "#d8576b"
            ],
            [
             0.6666666666666666,
             "#ed7953"
            ],
            [
             0.7777777777777778,
             "#fb9f3a"
            ],
            [
             0.8888888888888888,
             "#fdca26"
            ],
            [
             1,
             "#f0f921"
            ]
           ]
          },
          "colorway": [
           "#636efa",
           "#EF553B",
           "#00cc96",
           "#ab63fa",
           "#FFA15A",
           "#19d3f3",
           "#FF6692",
           "#B6E880",
           "#FF97FF",
           "#FECB52"
          ],
          "font": {
           "color": "#2a3f5f"
          },
          "geo": {
           "bgcolor": "white",
           "lakecolor": "white",
           "landcolor": "#E5ECF6",
           "showlakes": true,
           "showland": true,
           "subunitcolor": "white"
          },
          "hoverlabel": {
           "align": "left"
          },
          "hovermode": "closest",
          "mapbox": {
           "style": "light"
          },
          "paper_bgcolor": "white",
          "plot_bgcolor": "#E5ECF6",
          "polar": {
           "angularaxis": {
            "gridcolor": "white",
            "linecolor": "white",
            "ticks": ""
           },
           "bgcolor": "#E5ECF6",
           "radialaxis": {
            "gridcolor": "white",
            "linecolor": "white",
            "ticks": ""
           }
          },
          "scene": {
           "xaxis": {
            "backgroundcolor": "#E5ECF6",
            "gridcolor": "white",
            "gridwidth": 2,
            "linecolor": "white",
            "showbackground": true,
            "ticks": "",
            "zerolinecolor": "white"
           },
           "yaxis": {
            "backgroundcolor": "#E5ECF6",
            "gridcolor": "white",
            "gridwidth": 2,
            "linecolor": "white",
            "showbackground": true,
            "ticks": "",
            "zerolinecolor": "white"
           },
           "zaxis": {
            "backgroundcolor": "#E5ECF6",
            "gridcolor": "white",
            "gridwidth": 2,
            "linecolor": "white",
            "showbackground": true,
            "ticks": "",
            "zerolinecolor": "white"
           }
          },
          "shapedefaults": {
           "line": {
            "color": "#2a3f5f"
           }
          },
          "ternary": {
           "aaxis": {
            "gridcolor": "white",
            "linecolor": "white",
            "ticks": ""
           },
           "baxis": {
            "gridcolor": "white",
            "linecolor": "white",
            "ticks": ""
           },
           "bgcolor": "#E5ECF6",
           "caxis": {
            "gridcolor": "white",
            "linecolor": "white",
            "ticks": ""
           }
          },
          "title": {
           "x": 0.05
          },
          "xaxis": {
           "automargin": true,
           "gridcolor": "white",
           "linecolor": "white",
           "ticks": "",
           "title": {
            "standoff": 15
           },
           "zerolinecolor": "white",
           "zerolinewidth": 2
          },
          "yaxis": {
           "automargin": true,
           "gridcolor": "white",
           "linecolor": "white",
           "ticks": "",
           "title": {
            "standoff": 15
           },
           "zerolinecolor": "white",
           "zerolinewidth": 2
          }
         }
        },
        "title": {
         "text": "Total cases in India"
        },
        "xaxis": {
         "anchor": "y",
         "domain": [
          0,
          1
         ],
         "title": {
          "text": "STATE NAME"
         }
        },
        "yaxis": {
         "anchor": "x",
         "domain": [
          0,
          1
         ],
         "title": {
          "text": "TOTAL CONFIRMED"
         }
        }
       }
      },
      "text/html": [
       "<div>\n",
       "        \n",
       "        \n",
       "            <div id=\"add11dd3-e45f-4dbe-9c27-4f6b4359f354\" class=\"plotly-graph-div\" style=\"height:525px; width:100%;\"></div>\n",
       "            <script type=\"text/javascript\">\n",
       "                require([\"plotly\"], function(Plotly) {\n",
       "                    window.PLOTLYENV=window.PLOTLYENV || {};\n",
       "                    \n",
       "                if (document.getElementById(\"add11dd3-e45f-4dbe-9c27-4f6b4359f354\")) {\n",
       "                    Plotly.newPlot(\n",
       "                        'add11dd3-e45f-4dbe-9c27-4f6b4359f354',\n",
       "                        [{\"alignmentgroup\": \"True\", \"hovertemplate\": \"STATE NAME=%{x}<br>TOTAL CONFIRMED=%{marker.color}<extra></extra>\", \"legendgroup\": \"\", \"marker\": {\"color\": [722, 16, 113, 26, 36, 2081, 7, 1939, 254, 39, 368, 408, 408, 18, 1485, 4666, 2, 1, 74, 7, 245, 1576, 1520, 873, 46, 1184, 392, 35, 46, 1, 2, 11], \"coloraxis\": \"coloraxis\"}, \"name\": \"\", \"offsetgroup\": \"\", \"orientation\": \"v\", \"showlegend\": false, \"textposition\": \"auto\", \"type\": \"bar\", \"x\": [\"AndhraPradesh\", \"AndamanNicobar\", \"Bihar\", \"Chandigarh\", \"Chhattisgarh\", \"Delhi\", \"Goa\", \"Gujarat\", \"Haryana\", \"HimachalPradesh\", \"J & K\", \"Karnataka\", \"Kerala\", \"Ladakh\", \"MP\", \"Maharashtra\", \"Manipur\", \"Mizoram\", \"Odisha\", \"Puducherry\", \"Punjab\", \"Rajasthan\", \"TamilNadu\", \"Telengana\", \"Uttarakhand\", \"UttarPradesh\", \"West Bengal\", \"Assam\", \"Jharkhand\", \"Arunachal Pradesh\", \"Tripura\", \"Meghalaya\"], \"xaxis\": \"x\", \"y\": [722, 16, 113, 26, 36, 2081, 7, 1939, 254, 39, 368, 408, 408, 18, 1485, 4666, 2, 1, 74, 7, 245, 1576, 1520, 873, 46, 1184, 392, 35, 46, 1, 2, 11], \"yaxis\": \"y\"}],\n",
       "                        {\"barmode\": \"relative\", \"coloraxis\": {\"colorbar\": {\"title\": {\"text\": \"TOTAL CONFIRMED\"}}, \"colorscale\": [[0.0, \"#0d0887\"], [0.1111111111111111, \"#46039f\"], [0.2222222222222222, \"#7201a8\"], [0.3333333333333333, \"#9c179e\"], [0.4444444444444444, \"#bd3786\"], [0.5555555555555556, \"#d8576b\"], [0.6666666666666666, \"#ed7953\"], [0.7777777777777778, \"#fb9f3a\"], [0.8888888888888888, \"#fdca26\"], [1.0, \"#f0f921\"]]}, \"legend\": {\"tracegroupgap\": 0}, \"template\": {\"data\": {\"bar\": [{\"error_x\": {\"color\": \"#2a3f5f\"}, \"error_y\": {\"color\": \"#2a3f5f\"}, \"marker\": {\"line\": {\"color\": \"#E5ECF6\", \"width\": 0.5}}, \"type\": \"bar\"}], \"barpolar\": [{\"marker\": {\"line\": {\"color\": \"#E5ECF6\", \"width\": 0.5}}, \"type\": \"barpolar\"}], \"carpet\": [{\"aaxis\": {\"endlinecolor\": \"#2a3f5f\", \"gridcolor\": \"white\", \"linecolor\": \"white\", \"minorgridcolor\": \"white\", \"startlinecolor\": \"#2a3f5f\"}, \"baxis\": {\"endlinecolor\": \"#2a3f5f\", \"gridcolor\": \"white\", \"linecolor\": \"white\", \"minorgridcolor\": \"white\", \"startlinecolor\": \"#2a3f5f\"}, \"type\": \"carpet\"}], \"choropleth\": [{\"colorbar\": {\"outlinewidth\": 0, \"ticks\": \"\"}, \"type\": \"choropleth\"}], \"contour\": [{\"colorbar\": {\"outlinewidth\": 0, \"ticks\": \"\"}, \"colorscale\": [[0.0, \"#0d0887\"], [0.1111111111111111, \"#46039f\"], [0.2222222222222222, \"#7201a8\"], [0.3333333333333333, \"#9c179e\"], [0.4444444444444444, \"#bd3786\"], [0.5555555555555556, \"#d8576b\"], [0.6666666666666666, \"#ed7953\"], [0.7777777777777778, \"#fb9f3a\"], [0.8888888888888888, \"#fdca26\"], [1.0, \"#f0f921\"]], \"type\": \"contour\"}], \"contourcarpet\": [{\"colorbar\": {\"outlinewidth\": 0, \"ticks\": \"\"}, \"type\": \"contourcarpet\"}], \"heatmap\": [{\"colorbar\": {\"outlinewidth\": 0, \"ticks\": \"\"}, \"colorscale\": [[0.0, \"#0d0887\"], [0.1111111111111111, \"#46039f\"], [0.2222222222222222, \"#7201a8\"], [0.3333333333333333, \"#9c179e\"], [0.4444444444444444, \"#bd3786\"], [0.5555555555555556, \"#d8576b\"], [0.6666666666666666, \"#ed7953\"], [0.7777777777777778, \"#fb9f3a\"], [0.8888888888888888, \"#fdca26\"], [1.0, \"#f0f921\"]], \"type\": \"heatmap\"}], \"heatmapgl\": [{\"colorbar\": {\"outlinewidth\": 0, \"ticks\": \"\"}, \"colorscale\": [[0.0, \"#0d0887\"], [0.1111111111111111, \"#46039f\"], [0.2222222222222222, \"#7201a8\"], [0.3333333333333333, \"#9c179e\"], [0.4444444444444444, \"#bd3786\"], [0.5555555555555556, \"#d8576b\"], [0.6666666666666666, \"#ed7953\"], [0.7777777777777778, \"#fb9f3a\"], [0.8888888888888888, \"#fdca26\"], [1.0, \"#f0f921\"]], \"type\": \"heatmapgl\"}], \"histogram\": [{\"marker\": {\"colorbar\": {\"outlinewidth\": 0, \"ticks\": \"\"}}, \"type\": \"histogram\"}], \"histogram2d\": [{\"colorbar\": {\"outlinewidth\": 0, \"ticks\": \"\"}, \"colorscale\": [[0.0, \"#0d0887\"], [0.1111111111111111, \"#46039f\"], [0.2222222222222222, \"#7201a8\"], [0.3333333333333333, \"#9c179e\"], [0.4444444444444444, \"#bd3786\"], [0.5555555555555556, \"#d8576b\"], [0.6666666666666666, \"#ed7953\"], [0.7777777777777778, \"#fb9f3a\"], [0.8888888888888888, \"#fdca26\"], [1.0, \"#f0f921\"]], \"type\": \"histogram2d\"}], \"histogram2dcontour\": [{\"colorbar\": {\"outlinewidth\": 0, \"ticks\": \"\"}, \"colorscale\": [[0.0, \"#0d0887\"], [0.1111111111111111, \"#46039f\"], [0.2222222222222222, \"#7201a8\"], [0.3333333333333333, \"#9c179e\"], [0.4444444444444444, \"#bd3786\"], [0.5555555555555556, \"#d8576b\"], [0.6666666666666666, \"#ed7953\"], [0.7777777777777778, \"#fb9f3a\"], [0.8888888888888888, \"#fdca26\"], [1.0, \"#f0f921\"]], \"type\": \"histogram2dcontour\"}], \"mesh3d\": [{\"colorbar\": {\"outlinewidth\": 0, \"ticks\": \"\"}, \"type\": \"mesh3d\"}], \"parcoords\": [{\"line\": {\"colorbar\": {\"outlinewidth\": 0, \"ticks\": \"\"}}, \"type\": \"parcoords\"}], \"pie\": [{\"automargin\": true, \"type\": \"pie\"}], \"scatter\": [{\"marker\": {\"colorbar\": {\"outlinewidth\": 0, \"ticks\": \"\"}}, \"type\": \"scatter\"}], \"scatter3d\": [{\"line\": {\"colorbar\": {\"outlinewidth\": 0, \"ticks\": \"\"}}, \"marker\": {\"colorbar\": {\"outlinewidth\": 0, \"ticks\": \"\"}}, \"type\": \"scatter3d\"}], \"scattercarpet\": [{\"marker\": {\"colorbar\": {\"outlinewidth\": 0, \"ticks\": \"\"}}, \"type\": \"scattercarpet\"}], \"scattergeo\": [{\"marker\": {\"colorbar\": {\"outlinewidth\": 0, \"ticks\": \"\"}}, \"type\": \"scattergeo\"}], \"scattergl\": [{\"marker\": {\"colorbar\": {\"outlinewidth\": 0, \"ticks\": \"\"}}, \"type\": \"scattergl\"}], \"scattermapbox\": [{\"marker\": {\"colorbar\": {\"outlinewidth\": 0, \"ticks\": \"\"}}, \"type\": \"scattermapbox\"}], \"scatterpolar\": [{\"marker\": {\"colorbar\": {\"outlinewidth\": 0, \"ticks\": \"\"}}, \"type\": \"scatterpolar\"}], \"scatterpolargl\": [{\"marker\": {\"colorbar\": {\"outlinewidth\": 0, \"ticks\": \"\"}}, \"type\": \"scatterpolargl\"}], \"scatterternary\": [{\"marker\": {\"colorbar\": {\"outlinewidth\": 0, \"ticks\": \"\"}}, \"type\": \"scatterternary\"}], \"surface\": [{\"colorbar\": {\"outlinewidth\": 0, \"ticks\": \"\"}, \"colorscale\": [[0.0, \"#0d0887\"], [0.1111111111111111, \"#46039f\"], [0.2222222222222222, \"#7201a8\"], [0.3333333333333333, \"#9c179e\"], [0.4444444444444444, \"#bd3786\"], [0.5555555555555556, \"#d8576b\"], [0.6666666666666666, \"#ed7953\"], [0.7777777777777778, \"#fb9f3a\"], [0.8888888888888888, \"#fdca26\"], [1.0, \"#f0f921\"]], \"type\": \"surface\"}], \"table\": [{\"cells\": {\"fill\": {\"color\": \"#EBF0F8\"}, \"line\": {\"color\": \"white\"}}, \"header\": {\"fill\": {\"color\": \"#C8D4E3\"}, \"line\": {\"color\": \"white\"}}, \"type\": \"table\"}]}, \"layout\": {\"annotationdefaults\": {\"arrowcolor\": \"#2a3f5f\", \"arrowhead\": 0, \"arrowwidth\": 1}, \"coloraxis\": {\"colorbar\": {\"outlinewidth\": 0, \"ticks\": \"\"}}, \"colorscale\": {\"diverging\": [[0, \"#8e0152\"], [0.1, \"#c51b7d\"], [0.2, \"#de77ae\"], [0.3, \"#f1b6da\"], [0.4, \"#fde0ef\"], [0.5, \"#f7f7f7\"], [0.6, \"#e6f5d0\"], [0.7, \"#b8e186\"], [0.8, \"#7fbc41\"], [0.9, \"#4d9221\"], [1, \"#276419\"]], \"sequential\": [[0.0, \"#0d0887\"], [0.1111111111111111, \"#46039f\"], [0.2222222222222222, \"#7201a8\"], [0.3333333333333333, \"#9c179e\"], [0.4444444444444444, \"#bd3786\"], [0.5555555555555556, \"#d8576b\"], [0.6666666666666666, \"#ed7953\"], [0.7777777777777778, \"#fb9f3a\"], [0.8888888888888888, \"#fdca26\"], [1.0, \"#f0f921\"]], \"sequentialminus\": [[0.0, \"#0d0887\"], [0.1111111111111111, \"#46039f\"], [0.2222222222222222, \"#7201a8\"], [0.3333333333333333, \"#9c179e\"], [0.4444444444444444, \"#bd3786\"], [0.5555555555555556, \"#d8576b\"], [0.6666666666666666, \"#ed7953\"], [0.7777777777777778, \"#fb9f3a\"], [0.8888888888888888, \"#fdca26\"], [1.0, \"#f0f921\"]]}, \"colorway\": [\"#636efa\", \"#EF553B\", \"#00cc96\", \"#ab63fa\", \"#FFA15A\", \"#19d3f3\", \"#FF6692\", \"#B6E880\", \"#FF97FF\", \"#FECB52\"], \"font\": {\"color\": \"#2a3f5f\"}, \"geo\": {\"bgcolor\": \"white\", \"lakecolor\": \"white\", \"landcolor\": \"#E5ECF6\", \"showlakes\": true, \"showland\": true, \"subunitcolor\": \"white\"}, \"hoverlabel\": {\"align\": \"left\"}, \"hovermode\": \"closest\", \"mapbox\": {\"style\": \"light\"}, \"paper_bgcolor\": \"white\", \"plot_bgcolor\": \"#E5ECF6\", \"polar\": {\"angularaxis\": {\"gridcolor\": \"white\", \"linecolor\": \"white\", \"ticks\": \"\"}, \"bgcolor\": \"#E5ECF6\", \"radialaxis\": {\"gridcolor\": \"white\", \"linecolor\": \"white\", \"ticks\": \"\"}}, \"scene\": {\"xaxis\": {\"backgroundcolor\": \"#E5ECF6\", \"gridcolor\": \"white\", \"gridwidth\": 2, \"linecolor\": \"white\", \"showbackground\": true, \"ticks\": \"\", \"zerolinecolor\": \"white\"}, \"yaxis\": {\"backgroundcolor\": \"#E5ECF6\", \"gridcolor\": \"white\", \"gridwidth\": 2, \"linecolor\": \"white\", \"showbackground\": true, \"ticks\": \"\", \"zerolinecolor\": \"white\"}, \"zaxis\": {\"backgroundcolor\": \"#E5ECF6\", \"gridcolor\": \"white\", \"gridwidth\": 2, \"linecolor\": \"white\", \"showbackground\": true, \"ticks\": \"\", \"zerolinecolor\": \"white\"}}, \"shapedefaults\": {\"line\": {\"color\": \"#2a3f5f\"}}, \"ternary\": {\"aaxis\": {\"gridcolor\": \"white\", \"linecolor\": \"white\", \"ticks\": \"\"}, \"baxis\": {\"gridcolor\": \"white\", \"linecolor\": \"white\", \"ticks\": \"\"}, \"bgcolor\": \"#E5ECF6\", \"caxis\": {\"gridcolor\": \"white\", \"linecolor\": \"white\", \"ticks\": \"\"}}, \"title\": {\"x\": 0.05}, \"xaxis\": {\"automargin\": true, \"gridcolor\": \"white\", \"linecolor\": \"white\", \"ticks\": \"\", \"title\": {\"standoff\": 15}, \"zerolinecolor\": \"white\", \"zerolinewidth\": 2}, \"yaxis\": {\"automargin\": true, \"gridcolor\": \"white\", \"linecolor\": \"white\", \"ticks\": \"\", \"title\": {\"standoff\": 15}, \"zerolinecolor\": \"white\", \"zerolinewidth\": 2}}}, \"title\": {\"text\": \"Total cases in India\"}, \"xaxis\": {\"anchor\": \"y\", \"domain\": [0.0, 1.0], \"title\": {\"text\": \"STATE NAME\"}}, \"yaxis\": {\"anchor\": \"x\", \"domain\": [0.0, 1.0], \"title\": {\"text\": \"TOTAL CONFIRMED\"}}},\n",
       "                        {\"responsive\": true}\n",
       "                    ).then(function(){\n",
       "                            \n",
       "var gd = document.getElementById('add11dd3-e45f-4dbe-9c27-4f6b4359f354');\n",
       "var x = new MutationObserver(function (mutations, observer) {{\n",
       "        var display = window.getComputedStyle(gd).display;\n",
       "        if (!display || display === 'none') {{\n",
       "            console.log([gd, 'removed!']);\n",
       "            Plotly.purge(gd);\n",
       "            observer.disconnect();\n",
       "        }}\n",
       "}});\n",
       "\n",
       "// Listen for the removal of the full notebook cells\n",
       "var notebookContainer = gd.closest('#notebook-container');\n",
       "if (notebookContainer) {{\n",
       "    x.observe(notebookContainer, {childList: true});\n",
       "}}\n",
       "\n",
       "// Listen for the clearing of the current output cell\n",
       "var outputEl = gd.closest('.output');\n",
       "if (outputEl) {{\n",
       "    x.observe(outputEl, {childList: true});\n",
       "}}\n",
       "\n",
       "                        })\n",
       "                };\n",
       "                });\n",
       "            </script>\n",
       "        </div>"
      ]
     },
     "metadata": {},
     "output_type": "display_data"
    }
   ],
   "source": [
    "fig=px.bar(covid_india,x=\"STATE NAME\",y=\"TOTAL CONFIRMED\",color='TOTAL CONFIRMED',title='Total cases in India')\n",
    "fig.show()"
   ]
  },
  {
   "cell_type": "code",
   "execution_count": 20,
   "metadata": {},
   "outputs": [
    {
     "data": {
      "application/vnd.plotly.v1+json": {
       "config": {
        "plotlyServerURL": "https://plot.ly"
       },
       "data": [
        {
         "alignmentgroup": "True",
         "hovertemplate": "STATE NAME=%{x}<br>DEATH=%{marker.color}<extra></extra>",
         "legendgroup": "",
         "marker": {
          "color": [
           20,
           0,
           2,
           0,
           0,
           47,
           0,
           71,
           3,
           1,
           5,
           16,
           3,
           0,
           74,
           232,
           0,
           0,
           1,
           0,
           16,
           25,
           17,
           23,
           0,
           18,
           12,
           1,
           2,
           0,
           0,
           1
          ],
          "coloraxis": "coloraxis"
         },
         "name": "",
         "offsetgroup": "",
         "orientation": "v",
         "showlegend": false,
         "textposition": "auto",
         "type": "bar",
         "x": [
          "AndhraPradesh",
          "AndamanNicobar",
          "Bihar",
          "Chandigarh",
          "Chhattisgarh",
          "Delhi",
          "Goa",
          "Gujarat",
          "Haryana",
          "HimachalPradesh",
          "J & K",
          "Karnataka",
          "Kerala",
          "Ladakh",
          "MP",
          "Maharashtra",
          "Manipur",
          "Mizoram",
          "Odisha",
          "Puducherry",
          "Punjab",
          "Rajasthan",
          "TamilNadu",
          "Telengana",
          "Uttarakhand",
          "UttarPradesh",
          "West Bengal",
          "Assam",
          "Jharkhand",
          "Arunachal Pradesh",
          "Tripura",
          "Meghalaya"
         ],
         "xaxis": "x",
         "y": [
          20,
          0,
          2,
          0,
          0,
          47,
          0,
          71,
          3,
          1,
          5,
          16,
          3,
          0,
          74,
          232,
          0,
          0,
          1,
          0,
          16,
          25,
          17,
          23,
          0,
          18,
          12,
          1,
          2,
          0,
          0,
          1
         ],
         "yaxis": "y"
        }
       ],
       "layout": {
        "barmode": "relative",
        "coloraxis": {
         "colorbar": {
          "title": {
           "text": "DEATH"
          }
         },
         "colorscale": [
          [
           0,
           "#0d0887"
          ],
          [
           0.1111111111111111,
           "#46039f"
          ],
          [
           0.2222222222222222,
           "#7201a8"
          ],
          [
           0.3333333333333333,
           "#9c179e"
          ],
          [
           0.4444444444444444,
           "#bd3786"
          ],
          [
           0.5555555555555556,
           "#d8576b"
          ],
          [
           0.6666666666666666,
           "#ed7953"
          ],
          [
           0.7777777777777778,
           "#fb9f3a"
          ],
          [
           0.8888888888888888,
           "#fdca26"
          ],
          [
           1,
           "#f0f921"
          ]
         ]
        },
        "legend": {
         "tracegroupgap": 0
        },
        "template": {
         "data": {
          "bar": [
           {
            "error_x": {
             "color": "#2a3f5f"
            },
            "error_y": {
             "color": "#2a3f5f"
            },
            "marker": {
             "line": {
              "color": "#E5ECF6",
              "width": 0.5
             }
            },
            "type": "bar"
           }
          ],
          "barpolar": [
           {
            "marker": {
             "line": {
              "color": "#E5ECF6",
              "width": 0.5
             }
            },
            "type": "barpolar"
           }
          ],
          "carpet": [
           {
            "aaxis": {
             "endlinecolor": "#2a3f5f",
             "gridcolor": "white",
             "linecolor": "white",
             "minorgridcolor": "white",
             "startlinecolor": "#2a3f5f"
            },
            "baxis": {
             "endlinecolor": "#2a3f5f",
             "gridcolor": "white",
             "linecolor": "white",
             "minorgridcolor": "white",
             "startlinecolor": "#2a3f5f"
            },
            "type": "carpet"
           }
          ],
          "choropleth": [
           {
            "colorbar": {
             "outlinewidth": 0,
             "ticks": ""
            },
            "type": "choropleth"
           }
          ],
          "contour": [
           {
            "colorbar": {
             "outlinewidth": 0,
             "ticks": ""
            },
            "colorscale": [
             [
              0,
              "#0d0887"
             ],
             [
              0.1111111111111111,
              "#46039f"
             ],
             [
              0.2222222222222222,
              "#7201a8"
             ],
             [
              0.3333333333333333,
              "#9c179e"
             ],
             [
              0.4444444444444444,
              "#bd3786"
             ],
             [
              0.5555555555555556,
              "#d8576b"
             ],
             [
              0.6666666666666666,
              "#ed7953"
             ],
             [
              0.7777777777777778,
              "#fb9f3a"
             ],
             [
              0.8888888888888888,
              "#fdca26"
             ],
             [
              1,
              "#f0f921"
             ]
            ],
            "type": "contour"
           }
          ],
          "contourcarpet": [
           {
            "colorbar": {
             "outlinewidth": 0,
             "ticks": ""
            },
            "type": "contourcarpet"
           }
          ],
          "heatmap": [
           {
            "colorbar": {
             "outlinewidth": 0,
             "ticks": ""
            },
            "colorscale": [
             [
              0,
              "#0d0887"
             ],
             [
              0.1111111111111111,
              "#46039f"
             ],
             [
              0.2222222222222222,
              "#7201a8"
             ],
             [
              0.3333333333333333,
              "#9c179e"
             ],
             [
              0.4444444444444444,
              "#bd3786"
             ],
             [
              0.5555555555555556,
              "#d8576b"
             ],
             [
              0.6666666666666666,
              "#ed7953"
             ],
             [
              0.7777777777777778,
              "#fb9f3a"
             ],
             [
              0.8888888888888888,
              "#fdca26"
             ],
             [
              1,
              "#f0f921"
             ]
            ],
            "type": "heatmap"
           }
          ],
          "heatmapgl": [
           {
            "colorbar": {
             "outlinewidth": 0,
             "ticks": ""
            },
            "colorscale": [
             [
              0,
              "#0d0887"
             ],
             [
              0.1111111111111111,
              "#46039f"
             ],
             [
              0.2222222222222222,
              "#7201a8"
             ],
             [
              0.3333333333333333,
              "#9c179e"
             ],
             [
              0.4444444444444444,
              "#bd3786"
             ],
             [
              0.5555555555555556,
              "#d8576b"
             ],
             [
              0.6666666666666666,
              "#ed7953"
             ],
             [
              0.7777777777777778,
              "#fb9f3a"
             ],
             [
              0.8888888888888888,
              "#fdca26"
             ],
             [
              1,
              "#f0f921"
             ]
            ],
            "type": "heatmapgl"
           }
          ],
          "histogram": [
           {
            "marker": {
             "colorbar": {
              "outlinewidth": 0,
              "ticks": ""
             }
            },
            "type": "histogram"
           }
          ],
          "histogram2d": [
           {
            "colorbar": {
             "outlinewidth": 0,
             "ticks": ""
            },
            "colorscale": [
             [
              0,
              "#0d0887"
             ],
             [
              0.1111111111111111,
              "#46039f"
             ],
             [
              0.2222222222222222,
              "#7201a8"
             ],
             [
              0.3333333333333333,
              "#9c179e"
             ],
             [
              0.4444444444444444,
              "#bd3786"
             ],
             [
              0.5555555555555556,
              "#d8576b"
             ],
             [
              0.6666666666666666,
              "#ed7953"
             ],
             [
              0.7777777777777778,
              "#fb9f3a"
             ],
             [
              0.8888888888888888,
              "#fdca26"
             ],
             [
              1,
              "#f0f921"
             ]
            ],
            "type": "histogram2d"
           }
          ],
          "histogram2dcontour": [
           {
            "colorbar": {
             "outlinewidth": 0,
             "ticks": ""
            },
            "colorscale": [
             [
              0,
              "#0d0887"
             ],
             [
              0.1111111111111111,
              "#46039f"
             ],
             [
              0.2222222222222222,
              "#7201a8"
             ],
             [
              0.3333333333333333,
              "#9c179e"
             ],
             [
              0.4444444444444444,
              "#bd3786"
             ],
             [
              0.5555555555555556,
              "#d8576b"
             ],
             [
              0.6666666666666666,
              "#ed7953"
             ],
             [
              0.7777777777777778,
              "#fb9f3a"
             ],
             [
              0.8888888888888888,
              "#fdca26"
             ],
             [
              1,
              "#f0f921"
             ]
            ],
            "type": "histogram2dcontour"
           }
          ],
          "mesh3d": [
           {
            "colorbar": {
             "outlinewidth": 0,
             "ticks": ""
            },
            "type": "mesh3d"
           }
          ],
          "parcoords": [
           {
            "line": {
             "colorbar": {
              "outlinewidth": 0,
              "ticks": ""
             }
            },
            "type": "parcoords"
           }
          ],
          "pie": [
           {
            "automargin": true,
            "type": "pie"
           }
          ],
          "scatter": [
           {
            "marker": {
             "colorbar": {
              "outlinewidth": 0,
              "ticks": ""
             }
            },
            "type": "scatter"
           }
          ],
          "scatter3d": [
           {
            "line": {
             "colorbar": {
              "outlinewidth": 0,
              "ticks": ""
             }
            },
            "marker": {
             "colorbar": {
              "outlinewidth": 0,
              "ticks": ""
             }
            },
            "type": "scatter3d"
           }
          ],
          "scattercarpet": [
           {
            "marker": {
             "colorbar": {
              "outlinewidth": 0,
              "ticks": ""
             }
            },
            "type": "scattercarpet"
           }
          ],
          "scattergeo": [
           {
            "marker": {
             "colorbar": {
              "outlinewidth": 0,
              "ticks": ""
             }
            },
            "type": "scattergeo"
           }
          ],
          "scattergl": [
           {
            "marker": {
             "colorbar": {
              "outlinewidth": 0,
              "ticks": ""
             }
            },
            "type": "scattergl"
           }
          ],
          "scattermapbox": [
           {
            "marker": {
             "colorbar": {
              "outlinewidth": 0,
              "ticks": ""
             }
            },
            "type": "scattermapbox"
           }
          ],
          "scatterpolar": [
           {
            "marker": {
             "colorbar": {
              "outlinewidth": 0,
              "ticks": ""
             }
            },
            "type": "scatterpolar"
           }
          ],
          "scatterpolargl": [
           {
            "marker": {
             "colorbar": {
              "outlinewidth": 0,
              "ticks": ""
             }
            },
            "type": "scatterpolargl"
           }
          ],
          "scatterternary": [
           {
            "marker": {
             "colorbar": {
              "outlinewidth": 0,
              "ticks": ""
             }
            },
            "type": "scatterternary"
           }
          ],
          "surface": [
           {
            "colorbar": {
             "outlinewidth": 0,
             "ticks": ""
            },
            "colorscale": [
             [
              0,
              "#0d0887"
             ],
             [
              0.1111111111111111,
              "#46039f"
             ],
             [
              0.2222222222222222,
              "#7201a8"
             ],
             [
              0.3333333333333333,
              "#9c179e"
             ],
             [
              0.4444444444444444,
              "#bd3786"
             ],
             [
              0.5555555555555556,
              "#d8576b"
             ],
             [
              0.6666666666666666,
              "#ed7953"
             ],
             [
              0.7777777777777778,
              "#fb9f3a"
             ],
             [
              0.8888888888888888,
              "#fdca26"
             ],
             [
              1,
              "#f0f921"
             ]
            ],
            "type": "surface"
           }
          ],
          "table": [
           {
            "cells": {
             "fill": {
              "color": "#EBF0F8"
             },
             "line": {
              "color": "white"
             }
            },
            "header": {
             "fill": {
              "color": "#C8D4E3"
             },
             "line": {
              "color": "white"
             }
            },
            "type": "table"
           }
          ]
         },
         "layout": {
          "annotationdefaults": {
           "arrowcolor": "#2a3f5f",
           "arrowhead": 0,
           "arrowwidth": 1
          },
          "coloraxis": {
           "colorbar": {
            "outlinewidth": 0,
            "ticks": ""
           }
          },
          "colorscale": {
           "diverging": [
            [
             0,
             "#8e0152"
            ],
            [
             0.1,
             "#c51b7d"
            ],
            [
             0.2,
             "#de77ae"
            ],
            [
             0.3,
             "#f1b6da"
            ],
            [
             0.4,
             "#fde0ef"
            ],
            [
             0.5,
             "#f7f7f7"
            ],
            [
             0.6,
             "#e6f5d0"
            ],
            [
             0.7,
             "#b8e186"
            ],
            [
             0.8,
             "#7fbc41"
            ],
            [
             0.9,
             "#4d9221"
            ],
            [
             1,
             "#276419"
            ]
           ],
           "sequential": [
            [
             0,
             "#0d0887"
            ],
            [
             0.1111111111111111,
             "#46039f"
            ],
            [
             0.2222222222222222,
             "#7201a8"
            ],
            [
             0.3333333333333333,
             "#9c179e"
            ],
            [
             0.4444444444444444,
             "#bd3786"
            ],
            [
             0.5555555555555556,
             "#d8576b"
            ],
            [
             0.6666666666666666,
             "#ed7953"
            ],
            [
             0.7777777777777778,
             "#fb9f3a"
            ],
            [
             0.8888888888888888,
             "#fdca26"
            ],
            [
             1,
             "#f0f921"
            ]
           ],
           "sequentialminus": [
            [
             0,
             "#0d0887"
            ],
            [
             0.1111111111111111,
             "#46039f"
            ],
            [
             0.2222222222222222,
             "#7201a8"
            ],
            [
             0.3333333333333333,
             "#9c179e"
            ],
            [
             0.4444444444444444,
             "#bd3786"
            ],
            [
             0.5555555555555556,
             "#d8576b"
            ],
            [
             0.6666666666666666,
             "#ed7953"
            ],
            [
             0.7777777777777778,
             "#fb9f3a"
            ],
            [
             0.8888888888888888,
             "#fdca26"
            ],
            [
             1,
             "#f0f921"
            ]
           ]
          },
          "colorway": [
           "#636efa",
           "#EF553B",
           "#00cc96",
           "#ab63fa",
           "#FFA15A",
           "#19d3f3",
           "#FF6692",
           "#B6E880",
           "#FF97FF",
           "#FECB52"
          ],
          "font": {
           "color": "#2a3f5f"
          },
          "geo": {
           "bgcolor": "white",
           "lakecolor": "white",
           "landcolor": "#E5ECF6",
           "showlakes": true,
           "showland": true,
           "subunitcolor": "white"
          },
          "hoverlabel": {
           "align": "left"
          },
          "hovermode": "closest",
          "mapbox": {
           "style": "light"
          },
          "paper_bgcolor": "white",
          "plot_bgcolor": "#E5ECF6",
          "polar": {
           "angularaxis": {
            "gridcolor": "white",
            "linecolor": "white",
            "ticks": ""
           },
           "bgcolor": "#E5ECF6",
           "radialaxis": {
            "gridcolor": "white",
            "linecolor": "white",
            "ticks": ""
           }
          },
          "scene": {
           "xaxis": {
            "backgroundcolor": "#E5ECF6",
            "gridcolor": "white",
            "gridwidth": 2,
            "linecolor": "white",
            "showbackground": true,
            "ticks": "",
            "zerolinecolor": "white"
           },
           "yaxis": {
            "backgroundcolor": "#E5ECF6",
            "gridcolor": "white",
            "gridwidth": 2,
            "linecolor": "white",
            "showbackground": true,
            "ticks": "",
            "zerolinecolor": "white"
           },
           "zaxis": {
            "backgroundcolor": "#E5ECF6",
            "gridcolor": "white",
            "gridwidth": 2,
            "linecolor": "white",
            "showbackground": true,
            "ticks": "",
            "zerolinecolor": "white"
           }
          },
          "shapedefaults": {
           "line": {
            "color": "#2a3f5f"
           }
          },
          "ternary": {
           "aaxis": {
            "gridcolor": "white",
            "linecolor": "white",
            "ticks": ""
           },
           "baxis": {
            "gridcolor": "white",
            "linecolor": "white",
            "ticks": ""
           },
           "bgcolor": "#E5ECF6",
           "caxis": {
            "gridcolor": "white",
            "linecolor": "white",
            "ticks": ""
           }
          },
          "title": {
           "x": 0.05
          },
          "xaxis": {
           "automargin": true,
           "gridcolor": "white",
           "linecolor": "white",
           "ticks": "",
           "title": {
            "standoff": 15
           },
           "zerolinecolor": "white",
           "zerolinewidth": 2
          },
          "yaxis": {
           "automargin": true,
           "gridcolor": "white",
           "linecolor": "white",
           "ticks": "",
           "title": {
            "standoff": 15
           },
           "zerolinecolor": "white",
           "zerolinewidth": 2
          }
         }
        },
        "title": {
         "text": "Total Death in India"
        },
        "xaxis": {
         "anchor": "y",
         "domain": [
          0,
          1
         ],
         "title": {
          "text": "STATE NAME"
         }
        },
        "yaxis": {
         "anchor": "x",
         "domain": [
          0,
          1
         ],
         "title": {
          "text": "DEATH"
         }
        }
       }
      },
      "text/html": [
       "<div>\n",
       "        \n",
       "        \n",
       "            <div id=\"20874587-aee8-47af-9a15-fb06fb22bd80\" class=\"plotly-graph-div\" style=\"height:525px; width:100%;\"></div>\n",
       "            <script type=\"text/javascript\">\n",
       "                require([\"plotly\"], function(Plotly) {\n",
       "                    window.PLOTLYENV=window.PLOTLYENV || {};\n",
       "                    \n",
       "                if (document.getElementById(\"20874587-aee8-47af-9a15-fb06fb22bd80\")) {\n",
       "                    Plotly.newPlot(\n",
       "                        '20874587-aee8-47af-9a15-fb06fb22bd80',\n",
       "                        [{\"alignmentgroup\": \"True\", \"hovertemplate\": \"STATE NAME=%{x}<br>DEATH=%{marker.color}<extra></extra>\", \"legendgroup\": \"\", \"marker\": {\"color\": [20, 0, 2, 0, 0, 47, 0, 71, 3, 1, 5, 16, 3, 0, 74, 232, 0, 0, 1, 0, 16, 25, 17, 23, 0, 18, 12, 1, 2, 0, 0, 1], \"coloraxis\": \"coloraxis\"}, \"name\": \"\", \"offsetgroup\": \"\", \"orientation\": \"v\", \"showlegend\": false, \"textposition\": \"auto\", \"type\": \"bar\", \"x\": [\"AndhraPradesh\", \"AndamanNicobar\", \"Bihar\", \"Chandigarh\", \"Chhattisgarh\", \"Delhi\", \"Goa\", \"Gujarat\", \"Haryana\", \"HimachalPradesh\", \"J & K\", \"Karnataka\", \"Kerala\", \"Ladakh\", \"MP\", \"Maharashtra\", \"Manipur\", \"Mizoram\", \"Odisha\", \"Puducherry\", \"Punjab\", \"Rajasthan\", \"TamilNadu\", \"Telengana\", \"Uttarakhand\", \"UttarPradesh\", \"West Bengal\", \"Assam\", \"Jharkhand\", \"Arunachal Pradesh\", \"Tripura\", \"Meghalaya\"], \"xaxis\": \"x\", \"y\": [20, 0, 2, 0, 0, 47, 0, 71, 3, 1, 5, 16, 3, 0, 74, 232, 0, 0, 1, 0, 16, 25, 17, 23, 0, 18, 12, 1, 2, 0, 0, 1], \"yaxis\": \"y\"}],\n",
       "                        {\"barmode\": \"relative\", \"coloraxis\": {\"colorbar\": {\"title\": {\"text\": \"DEATH\"}}, \"colorscale\": [[0.0, \"#0d0887\"], [0.1111111111111111, \"#46039f\"], [0.2222222222222222, \"#7201a8\"], [0.3333333333333333, \"#9c179e\"], [0.4444444444444444, \"#bd3786\"], [0.5555555555555556, \"#d8576b\"], [0.6666666666666666, \"#ed7953\"], [0.7777777777777778, \"#fb9f3a\"], [0.8888888888888888, \"#fdca26\"], [1.0, \"#f0f921\"]]}, \"legend\": {\"tracegroupgap\": 0}, \"template\": {\"data\": {\"bar\": [{\"error_x\": {\"color\": \"#2a3f5f\"}, \"error_y\": {\"color\": \"#2a3f5f\"}, \"marker\": {\"line\": {\"color\": \"#E5ECF6\", \"width\": 0.5}}, \"type\": \"bar\"}], \"barpolar\": [{\"marker\": {\"line\": {\"color\": \"#E5ECF6\", \"width\": 0.5}}, \"type\": \"barpolar\"}], \"carpet\": [{\"aaxis\": {\"endlinecolor\": \"#2a3f5f\", \"gridcolor\": \"white\", \"linecolor\": \"white\", \"minorgridcolor\": \"white\", \"startlinecolor\": \"#2a3f5f\"}, \"baxis\": {\"endlinecolor\": \"#2a3f5f\", \"gridcolor\": \"white\", \"linecolor\": \"white\", \"minorgridcolor\": \"white\", \"startlinecolor\": \"#2a3f5f\"}, \"type\": \"carpet\"}], \"choropleth\": [{\"colorbar\": {\"outlinewidth\": 0, \"ticks\": \"\"}, \"type\": \"choropleth\"}], \"contour\": [{\"colorbar\": {\"outlinewidth\": 0, \"ticks\": \"\"}, \"colorscale\": [[0.0, \"#0d0887\"], [0.1111111111111111, \"#46039f\"], [0.2222222222222222, \"#7201a8\"], [0.3333333333333333, \"#9c179e\"], [0.4444444444444444, \"#bd3786\"], [0.5555555555555556, \"#d8576b\"], [0.6666666666666666, \"#ed7953\"], [0.7777777777777778, \"#fb9f3a\"], [0.8888888888888888, \"#fdca26\"], [1.0, \"#f0f921\"]], \"type\": \"contour\"}], \"contourcarpet\": [{\"colorbar\": {\"outlinewidth\": 0, \"ticks\": \"\"}, \"type\": \"contourcarpet\"}], \"heatmap\": [{\"colorbar\": {\"outlinewidth\": 0, \"ticks\": \"\"}, \"colorscale\": [[0.0, \"#0d0887\"], [0.1111111111111111, \"#46039f\"], [0.2222222222222222, \"#7201a8\"], [0.3333333333333333, \"#9c179e\"], [0.4444444444444444, \"#bd3786\"], [0.5555555555555556, \"#d8576b\"], [0.6666666666666666, \"#ed7953\"], [0.7777777777777778, \"#fb9f3a\"], [0.8888888888888888, \"#fdca26\"], [1.0, \"#f0f921\"]], \"type\": \"heatmap\"}], \"heatmapgl\": [{\"colorbar\": {\"outlinewidth\": 0, \"ticks\": \"\"}, \"colorscale\": [[0.0, \"#0d0887\"], [0.1111111111111111, \"#46039f\"], [0.2222222222222222, \"#7201a8\"], [0.3333333333333333, \"#9c179e\"], [0.4444444444444444, \"#bd3786\"], [0.5555555555555556, \"#d8576b\"], [0.6666666666666666, \"#ed7953\"], [0.7777777777777778, \"#fb9f3a\"], [0.8888888888888888, \"#fdca26\"], [1.0, \"#f0f921\"]], \"type\": \"heatmapgl\"}], \"histogram\": [{\"marker\": {\"colorbar\": {\"outlinewidth\": 0, \"ticks\": \"\"}}, \"type\": \"histogram\"}], \"histogram2d\": [{\"colorbar\": {\"outlinewidth\": 0, \"ticks\": \"\"}, \"colorscale\": [[0.0, \"#0d0887\"], [0.1111111111111111, \"#46039f\"], [0.2222222222222222, \"#7201a8\"], [0.3333333333333333, \"#9c179e\"], [0.4444444444444444, \"#bd3786\"], [0.5555555555555556, \"#d8576b\"], [0.6666666666666666, \"#ed7953\"], [0.7777777777777778, \"#fb9f3a\"], [0.8888888888888888, \"#fdca26\"], [1.0, \"#f0f921\"]], \"type\": \"histogram2d\"}], \"histogram2dcontour\": [{\"colorbar\": {\"outlinewidth\": 0, \"ticks\": \"\"}, \"colorscale\": [[0.0, \"#0d0887\"], [0.1111111111111111, \"#46039f\"], [0.2222222222222222, \"#7201a8\"], [0.3333333333333333, \"#9c179e\"], [0.4444444444444444, \"#bd3786\"], [0.5555555555555556, \"#d8576b\"], [0.6666666666666666, \"#ed7953\"], [0.7777777777777778, \"#fb9f3a\"], [0.8888888888888888, \"#fdca26\"], [1.0, \"#f0f921\"]], \"type\": \"histogram2dcontour\"}], \"mesh3d\": [{\"colorbar\": {\"outlinewidth\": 0, \"ticks\": \"\"}, \"type\": \"mesh3d\"}], \"parcoords\": [{\"line\": {\"colorbar\": {\"outlinewidth\": 0, \"ticks\": \"\"}}, \"type\": \"parcoords\"}], \"pie\": [{\"automargin\": true, \"type\": \"pie\"}], \"scatter\": [{\"marker\": {\"colorbar\": {\"outlinewidth\": 0, \"ticks\": \"\"}}, \"type\": \"scatter\"}], \"scatter3d\": [{\"line\": {\"colorbar\": {\"outlinewidth\": 0, \"ticks\": \"\"}}, \"marker\": {\"colorbar\": {\"outlinewidth\": 0, \"ticks\": \"\"}}, \"type\": \"scatter3d\"}], \"scattercarpet\": [{\"marker\": {\"colorbar\": {\"outlinewidth\": 0, \"ticks\": \"\"}}, \"type\": \"scattercarpet\"}], \"scattergeo\": [{\"marker\": {\"colorbar\": {\"outlinewidth\": 0, \"ticks\": \"\"}}, \"type\": \"scattergeo\"}], \"scattergl\": [{\"marker\": {\"colorbar\": {\"outlinewidth\": 0, \"ticks\": \"\"}}, \"type\": \"scattergl\"}], \"scattermapbox\": [{\"marker\": {\"colorbar\": {\"outlinewidth\": 0, \"ticks\": \"\"}}, \"type\": \"scattermapbox\"}], \"scatterpolar\": [{\"marker\": {\"colorbar\": {\"outlinewidth\": 0, \"ticks\": \"\"}}, \"type\": \"scatterpolar\"}], \"scatterpolargl\": [{\"marker\": {\"colorbar\": {\"outlinewidth\": 0, \"ticks\": \"\"}}, \"type\": \"scatterpolargl\"}], \"scatterternary\": [{\"marker\": {\"colorbar\": {\"outlinewidth\": 0, \"ticks\": \"\"}}, \"type\": \"scatterternary\"}], \"surface\": [{\"colorbar\": {\"outlinewidth\": 0, \"ticks\": \"\"}, \"colorscale\": [[0.0, \"#0d0887\"], [0.1111111111111111, \"#46039f\"], [0.2222222222222222, \"#7201a8\"], [0.3333333333333333, \"#9c179e\"], [0.4444444444444444, \"#bd3786\"], [0.5555555555555556, \"#d8576b\"], [0.6666666666666666, \"#ed7953\"], [0.7777777777777778, \"#fb9f3a\"], [0.8888888888888888, \"#fdca26\"], [1.0, \"#f0f921\"]], \"type\": \"surface\"}], \"table\": [{\"cells\": {\"fill\": {\"color\": \"#EBF0F8\"}, \"line\": {\"color\": \"white\"}}, \"header\": {\"fill\": {\"color\": \"#C8D4E3\"}, \"line\": {\"color\": \"white\"}}, \"type\": \"table\"}]}, \"layout\": {\"annotationdefaults\": {\"arrowcolor\": \"#2a3f5f\", \"arrowhead\": 0, \"arrowwidth\": 1}, \"coloraxis\": {\"colorbar\": {\"outlinewidth\": 0, \"ticks\": \"\"}}, \"colorscale\": {\"diverging\": [[0, \"#8e0152\"], [0.1, \"#c51b7d\"], [0.2, \"#de77ae\"], [0.3, \"#f1b6da\"], [0.4, \"#fde0ef\"], [0.5, \"#f7f7f7\"], [0.6, \"#e6f5d0\"], [0.7, \"#b8e186\"], [0.8, \"#7fbc41\"], [0.9, \"#4d9221\"], [1, \"#276419\"]], \"sequential\": [[0.0, \"#0d0887\"], [0.1111111111111111, \"#46039f\"], [0.2222222222222222, \"#7201a8\"], [0.3333333333333333, \"#9c179e\"], [0.4444444444444444, \"#bd3786\"], [0.5555555555555556, \"#d8576b\"], [0.6666666666666666, \"#ed7953\"], [0.7777777777777778, \"#fb9f3a\"], [0.8888888888888888, \"#fdca26\"], [1.0, \"#f0f921\"]], \"sequentialminus\": [[0.0, \"#0d0887\"], [0.1111111111111111, \"#46039f\"], [0.2222222222222222, \"#7201a8\"], [0.3333333333333333, \"#9c179e\"], [0.4444444444444444, \"#bd3786\"], [0.5555555555555556, \"#d8576b\"], [0.6666666666666666, \"#ed7953\"], [0.7777777777777778, \"#fb9f3a\"], [0.8888888888888888, \"#fdca26\"], [1.0, \"#f0f921\"]]}, \"colorway\": [\"#636efa\", \"#EF553B\", \"#00cc96\", \"#ab63fa\", \"#FFA15A\", \"#19d3f3\", \"#FF6692\", \"#B6E880\", \"#FF97FF\", \"#FECB52\"], \"font\": {\"color\": \"#2a3f5f\"}, \"geo\": {\"bgcolor\": \"white\", \"lakecolor\": \"white\", \"landcolor\": \"#E5ECF6\", \"showlakes\": true, \"showland\": true, \"subunitcolor\": \"white\"}, \"hoverlabel\": {\"align\": \"left\"}, \"hovermode\": \"closest\", \"mapbox\": {\"style\": \"light\"}, \"paper_bgcolor\": \"white\", \"plot_bgcolor\": \"#E5ECF6\", \"polar\": {\"angularaxis\": {\"gridcolor\": \"white\", \"linecolor\": \"white\", \"ticks\": \"\"}, \"bgcolor\": \"#E5ECF6\", \"radialaxis\": {\"gridcolor\": \"white\", \"linecolor\": \"white\", \"ticks\": \"\"}}, \"scene\": {\"xaxis\": {\"backgroundcolor\": \"#E5ECF6\", \"gridcolor\": \"white\", \"gridwidth\": 2, \"linecolor\": \"white\", \"showbackground\": true, \"ticks\": \"\", \"zerolinecolor\": \"white\"}, \"yaxis\": {\"backgroundcolor\": \"#E5ECF6\", \"gridcolor\": \"white\", \"gridwidth\": 2, \"linecolor\": \"white\", \"showbackground\": true, \"ticks\": \"\", \"zerolinecolor\": \"white\"}, \"zaxis\": {\"backgroundcolor\": \"#E5ECF6\", \"gridcolor\": \"white\", \"gridwidth\": 2, \"linecolor\": \"white\", \"showbackground\": true, \"ticks\": \"\", \"zerolinecolor\": \"white\"}}, \"shapedefaults\": {\"line\": {\"color\": \"#2a3f5f\"}}, \"ternary\": {\"aaxis\": {\"gridcolor\": \"white\", \"linecolor\": \"white\", \"ticks\": \"\"}, \"baxis\": {\"gridcolor\": \"white\", \"linecolor\": \"white\", \"ticks\": \"\"}, \"bgcolor\": \"#E5ECF6\", \"caxis\": {\"gridcolor\": \"white\", \"linecolor\": \"white\", \"ticks\": \"\"}}, \"title\": {\"x\": 0.05}, \"xaxis\": {\"automargin\": true, \"gridcolor\": \"white\", \"linecolor\": \"white\", \"ticks\": \"\", \"title\": {\"standoff\": 15}, \"zerolinecolor\": \"white\", \"zerolinewidth\": 2}, \"yaxis\": {\"automargin\": true, \"gridcolor\": \"white\", \"linecolor\": \"white\", \"ticks\": \"\", \"title\": {\"standoff\": 15}, \"zerolinecolor\": \"white\", \"zerolinewidth\": 2}}}, \"title\": {\"text\": \"Total Death in India\"}, \"xaxis\": {\"anchor\": \"y\", \"domain\": [0.0, 1.0], \"title\": {\"text\": \"STATE NAME\"}}, \"yaxis\": {\"anchor\": \"x\", \"domain\": [0.0, 1.0], \"title\": {\"text\": \"DEATH\"}}},\n",
       "                        {\"responsive\": true}\n",
       "                    ).then(function(){\n",
       "                            \n",
       "var gd = document.getElementById('20874587-aee8-47af-9a15-fb06fb22bd80');\n",
       "var x = new MutationObserver(function (mutations, observer) {{\n",
       "        var display = window.getComputedStyle(gd).display;\n",
       "        if (!display || display === 'none') {{\n",
       "            console.log([gd, 'removed!']);\n",
       "            Plotly.purge(gd);\n",
       "            observer.disconnect();\n",
       "        }}\n",
       "}});\n",
       "\n",
       "// Listen for the removal of the full notebook cells\n",
       "var notebookContainer = gd.closest('#notebook-container');\n",
       "if (notebookContainer) {{\n",
       "    x.observe(notebookContainer, {childList: true});\n",
       "}}\n",
       "\n",
       "// Listen for the clearing of the current output cell\n",
       "var outputEl = gd.closest('.output');\n",
       "if (outputEl) {{\n",
       "    x.observe(outputEl, {childList: true});\n",
       "}}\n",
       "\n",
       "                        })\n",
       "                };\n",
       "                });\n",
       "            </script>\n",
       "        </div>"
      ]
     },
     "metadata": {},
     "output_type": "display_data"
    }
   ],
   "source": [
    "fig=px.bar(covid_india,x=\"STATE NAME\",y=\"DEATH\",color='DEATH',title='Total Death in India')\n",
    "fig.show()"
   ]
  },
  {
   "cell_type": "code",
   "execution_count": 21,
   "metadata": {},
   "outputs": [
    {
     "data": {
      "application/vnd.plotly.v1+json": {
       "config": {
        "plotlyServerURL": "https://plot.ly"
       },
       "data": [
        {
         "alignmentgroup": "True",
         "hovertemplate": "STATE NAME=%{x}<br>CURED/DISCHARGED/MIGRATED=%{marker.color}<extra></extra>",
         "legendgroup": "",
         "marker": {
          "color": [
           92,
           11,
           42,
           13,
           25,
           431,
           7,
           131,
           127,
           16,
           71,
           112,
           291,
           14,
           127,
           572,
           2,
           0,
           24,
           3,
           38,
           205,
           457,
           190,
           18,
           140,
           73,
           19,
           0,
           0,
           1,
           0
          ],
          "coloraxis": "coloraxis"
         },
         "name": "",
         "offsetgroup": "",
         "orientation": "v",
         "showlegend": false,
         "textposition": "auto",
         "type": "bar",
         "x": [
          "AndhraPradesh",
          "AndamanNicobar",
          "Bihar",
          "Chandigarh",
          "Chhattisgarh",
          "Delhi",
          "Goa",
          "Gujarat",
          "Haryana",
          "HimachalPradesh",
          "J & K",
          "Karnataka",
          "Kerala",
          "Ladakh",
          "MP",
          "Maharashtra",
          "Manipur",
          "Mizoram",
          "Odisha",
          "Puducherry",
          "Punjab",
          "Rajasthan",
          "TamilNadu",
          "Telengana",
          "Uttarakhand",
          "UttarPradesh",
          "West Bengal",
          "Assam",
          "Jharkhand",
          "Arunachal Pradesh",
          "Tripura",
          "Meghalaya"
         ],
         "xaxis": "x",
         "y": [
          92,
          11,
          42,
          13,
          25,
          431,
          7,
          131,
          127,
          16,
          71,
          112,
          291,
          14,
          127,
          572,
          2,
          0,
          24,
          3,
          38,
          205,
          457,
          190,
          18,
          140,
          73,
          19,
          0,
          0,
          1,
          0
         ],
         "yaxis": "y"
        }
       ],
       "layout": {
        "barmode": "relative",
        "coloraxis": {
         "colorbar": {
          "title": {
           "text": "CURED/DISCHARGED/MIGRATED"
          }
         },
         "colorscale": [
          [
           0,
           "#0d0887"
          ],
          [
           0.1111111111111111,
           "#46039f"
          ],
          [
           0.2222222222222222,
           "#7201a8"
          ],
          [
           0.3333333333333333,
           "#9c179e"
          ],
          [
           0.4444444444444444,
           "#bd3786"
          ],
          [
           0.5555555555555556,
           "#d8576b"
          ],
          [
           0.6666666666666666,
           "#ed7953"
          ],
          [
           0.7777777777777778,
           "#fb9f3a"
          ],
          [
           0.8888888888888888,
           "#fdca26"
          ],
          [
           1,
           "#f0f921"
          ]
         ]
        },
        "legend": {
         "tracegroupgap": 0
        },
        "template": {
         "data": {
          "bar": [
           {
            "error_x": {
             "color": "#2a3f5f"
            },
            "error_y": {
             "color": "#2a3f5f"
            },
            "marker": {
             "line": {
              "color": "#E5ECF6",
              "width": 0.5
             }
            },
            "type": "bar"
           }
          ],
          "barpolar": [
           {
            "marker": {
             "line": {
              "color": "#E5ECF6",
              "width": 0.5
             }
            },
            "type": "barpolar"
           }
          ],
          "carpet": [
           {
            "aaxis": {
             "endlinecolor": "#2a3f5f",
             "gridcolor": "white",
             "linecolor": "white",
             "minorgridcolor": "white",
             "startlinecolor": "#2a3f5f"
            },
            "baxis": {
             "endlinecolor": "#2a3f5f",
             "gridcolor": "white",
             "linecolor": "white",
             "minorgridcolor": "white",
             "startlinecolor": "#2a3f5f"
            },
            "type": "carpet"
           }
          ],
          "choropleth": [
           {
            "colorbar": {
             "outlinewidth": 0,
             "ticks": ""
            },
            "type": "choropleth"
           }
          ],
          "contour": [
           {
            "colorbar": {
             "outlinewidth": 0,
             "ticks": ""
            },
            "colorscale": [
             [
              0,
              "#0d0887"
             ],
             [
              0.1111111111111111,
              "#46039f"
             ],
             [
              0.2222222222222222,
              "#7201a8"
             ],
             [
              0.3333333333333333,
              "#9c179e"
             ],
             [
              0.4444444444444444,
              "#bd3786"
             ],
             [
              0.5555555555555556,
              "#d8576b"
             ],
             [
              0.6666666666666666,
              "#ed7953"
             ],
             [
              0.7777777777777778,
              "#fb9f3a"
             ],
             [
              0.8888888888888888,
              "#fdca26"
             ],
             [
              1,
              "#f0f921"
             ]
            ],
            "type": "contour"
           }
          ],
          "contourcarpet": [
           {
            "colorbar": {
             "outlinewidth": 0,
             "ticks": ""
            },
            "type": "contourcarpet"
           }
          ],
          "heatmap": [
           {
            "colorbar": {
             "outlinewidth": 0,
             "ticks": ""
            },
            "colorscale": [
             [
              0,
              "#0d0887"
             ],
             [
              0.1111111111111111,
              "#46039f"
             ],
             [
              0.2222222222222222,
              "#7201a8"
             ],
             [
              0.3333333333333333,
              "#9c179e"
             ],
             [
              0.4444444444444444,
              "#bd3786"
             ],
             [
              0.5555555555555556,
              "#d8576b"
             ],
             [
              0.6666666666666666,
              "#ed7953"
             ],
             [
              0.7777777777777778,
              "#fb9f3a"
             ],
             [
              0.8888888888888888,
              "#fdca26"
             ],
             [
              1,
              "#f0f921"
             ]
            ],
            "type": "heatmap"
           }
          ],
          "heatmapgl": [
           {
            "colorbar": {
             "outlinewidth": 0,
             "ticks": ""
            },
            "colorscale": [
             [
              0,
              "#0d0887"
             ],
             [
              0.1111111111111111,
              "#46039f"
             ],
             [
              0.2222222222222222,
              "#7201a8"
             ],
             [
              0.3333333333333333,
              "#9c179e"
             ],
             [
              0.4444444444444444,
              "#bd3786"
             ],
             [
              0.5555555555555556,
              "#d8576b"
             ],
             [
              0.6666666666666666,
              "#ed7953"
             ],
             [
              0.7777777777777778,
              "#fb9f3a"
             ],
             [
              0.8888888888888888,
              "#fdca26"
             ],
             [
              1,
              "#f0f921"
             ]
            ],
            "type": "heatmapgl"
           }
          ],
          "histogram": [
           {
            "marker": {
             "colorbar": {
              "outlinewidth": 0,
              "ticks": ""
             }
            },
            "type": "histogram"
           }
          ],
          "histogram2d": [
           {
            "colorbar": {
             "outlinewidth": 0,
             "ticks": ""
            },
            "colorscale": [
             [
              0,
              "#0d0887"
             ],
             [
              0.1111111111111111,
              "#46039f"
             ],
             [
              0.2222222222222222,
              "#7201a8"
             ],
             [
              0.3333333333333333,
              "#9c179e"
             ],
             [
              0.4444444444444444,
              "#bd3786"
             ],
             [
              0.5555555555555556,
              "#d8576b"
             ],
             [
              0.6666666666666666,
              "#ed7953"
             ],
             [
              0.7777777777777778,
              "#fb9f3a"
             ],
             [
              0.8888888888888888,
              "#fdca26"
             ],
             [
              1,
              "#f0f921"
             ]
            ],
            "type": "histogram2d"
           }
          ],
          "histogram2dcontour": [
           {
            "colorbar": {
             "outlinewidth": 0,
             "ticks": ""
            },
            "colorscale": [
             [
              0,
              "#0d0887"
             ],
             [
              0.1111111111111111,
              "#46039f"
             ],
             [
              0.2222222222222222,
              "#7201a8"
             ],
             [
              0.3333333333333333,
              "#9c179e"
             ],
             [
              0.4444444444444444,
              "#bd3786"
             ],
             [
              0.5555555555555556,
              "#d8576b"
             ],
             [
              0.6666666666666666,
              "#ed7953"
             ],
             [
              0.7777777777777778,
              "#fb9f3a"
             ],
             [
              0.8888888888888888,
              "#fdca26"
             ],
             [
              1,
              "#f0f921"
             ]
            ],
            "type": "histogram2dcontour"
           }
          ],
          "mesh3d": [
           {
            "colorbar": {
             "outlinewidth": 0,
             "ticks": ""
            },
            "type": "mesh3d"
           }
          ],
          "parcoords": [
           {
            "line": {
             "colorbar": {
              "outlinewidth": 0,
              "ticks": ""
             }
            },
            "type": "parcoords"
           }
          ],
          "pie": [
           {
            "automargin": true,
            "type": "pie"
           }
          ],
          "scatter": [
           {
            "marker": {
             "colorbar": {
              "outlinewidth": 0,
              "ticks": ""
             }
            },
            "type": "scatter"
           }
          ],
          "scatter3d": [
           {
            "line": {
             "colorbar": {
              "outlinewidth": 0,
              "ticks": ""
             }
            },
            "marker": {
             "colorbar": {
              "outlinewidth": 0,
              "ticks": ""
             }
            },
            "type": "scatter3d"
           }
          ],
          "scattercarpet": [
           {
            "marker": {
             "colorbar": {
              "outlinewidth": 0,
              "ticks": ""
             }
            },
            "type": "scattercarpet"
           }
          ],
          "scattergeo": [
           {
            "marker": {
             "colorbar": {
              "outlinewidth": 0,
              "ticks": ""
             }
            },
            "type": "scattergeo"
           }
          ],
          "scattergl": [
           {
            "marker": {
             "colorbar": {
              "outlinewidth": 0,
              "ticks": ""
             }
            },
            "type": "scattergl"
           }
          ],
          "scattermapbox": [
           {
            "marker": {
             "colorbar": {
              "outlinewidth": 0,
              "ticks": ""
             }
            },
            "type": "scattermapbox"
           }
          ],
          "scatterpolar": [
           {
            "marker": {
             "colorbar": {
              "outlinewidth": 0,
              "ticks": ""
             }
            },
            "type": "scatterpolar"
           }
          ],
          "scatterpolargl": [
           {
            "marker": {
             "colorbar": {
              "outlinewidth": 0,
              "ticks": ""
             }
            },
            "type": "scatterpolargl"
           }
          ],
          "scatterternary": [
           {
            "marker": {
             "colorbar": {
              "outlinewidth": 0,
              "ticks": ""
             }
            },
            "type": "scatterternary"
           }
          ],
          "surface": [
           {
            "colorbar": {
             "outlinewidth": 0,
             "ticks": ""
            },
            "colorscale": [
             [
              0,
              "#0d0887"
             ],
             [
              0.1111111111111111,
              "#46039f"
             ],
             [
              0.2222222222222222,
              "#7201a8"
             ],
             [
              0.3333333333333333,
              "#9c179e"
             ],
             [
              0.4444444444444444,
              "#bd3786"
             ],
             [
              0.5555555555555556,
              "#d8576b"
             ],
             [
              0.6666666666666666,
              "#ed7953"
             ],
             [
              0.7777777777777778,
              "#fb9f3a"
             ],
             [
              0.8888888888888888,
              "#fdca26"
             ],
             [
              1,
              "#f0f921"
             ]
            ],
            "type": "surface"
           }
          ],
          "table": [
           {
            "cells": {
             "fill": {
              "color": "#EBF0F8"
             },
             "line": {
              "color": "white"
             }
            },
            "header": {
             "fill": {
              "color": "#C8D4E3"
             },
             "line": {
              "color": "white"
             }
            },
            "type": "table"
           }
          ]
         },
         "layout": {
          "annotationdefaults": {
           "arrowcolor": "#2a3f5f",
           "arrowhead": 0,
           "arrowwidth": 1
          },
          "coloraxis": {
           "colorbar": {
            "outlinewidth": 0,
            "ticks": ""
           }
          },
          "colorscale": {
           "diverging": [
            [
             0,
             "#8e0152"
            ],
            [
             0.1,
             "#c51b7d"
            ],
            [
             0.2,
             "#de77ae"
            ],
            [
             0.3,
             "#f1b6da"
            ],
            [
             0.4,
             "#fde0ef"
            ],
            [
             0.5,
             "#f7f7f7"
            ],
            [
             0.6,
             "#e6f5d0"
            ],
            [
             0.7,
             "#b8e186"
            ],
            [
             0.8,
             "#7fbc41"
            ],
            [
             0.9,
             "#4d9221"
            ],
            [
             1,
             "#276419"
            ]
           ],
           "sequential": [
            [
             0,
             "#0d0887"
            ],
            [
             0.1111111111111111,
             "#46039f"
            ],
            [
             0.2222222222222222,
             "#7201a8"
            ],
            [
             0.3333333333333333,
             "#9c179e"
            ],
            [
             0.4444444444444444,
             "#bd3786"
            ],
            [
             0.5555555555555556,
             "#d8576b"
            ],
            [
             0.6666666666666666,
             "#ed7953"
            ],
            [
             0.7777777777777778,
             "#fb9f3a"
            ],
            [
             0.8888888888888888,
             "#fdca26"
            ],
            [
             1,
             "#f0f921"
            ]
           ],
           "sequentialminus": [
            [
             0,
             "#0d0887"
            ],
            [
             0.1111111111111111,
             "#46039f"
            ],
            [
             0.2222222222222222,
             "#7201a8"
            ],
            [
             0.3333333333333333,
             "#9c179e"
            ],
            [
             0.4444444444444444,
             "#bd3786"
            ],
            [
             0.5555555555555556,
             "#d8576b"
            ],
            [
             0.6666666666666666,
             "#ed7953"
            ],
            [
             0.7777777777777778,
             "#fb9f3a"
            ],
            [
             0.8888888888888888,
             "#fdca26"
            ],
            [
             1,
             "#f0f921"
            ]
           ]
          },
          "colorway": [
           "#636efa",
           "#EF553B",
           "#00cc96",
           "#ab63fa",
           "#FFA15A",
           "#19d3f3",
           "#FF6692",
           "#B6E880",
           "#FF97FF",
           "#FECB52"
          ],
          "font": {
           "color": "#2a3f5f"
          },
          "geo": {
           "bgcolor": "white",
           "lakecolor": "white",
           "landcolor": "#E5ECF6",
           "showlakes": true,
           "showland": true,
           "subunitcolor": "white"
          },
          "hoverlabel": {
           "align": "left"
          },
          "hovermode": "closest",
          "mapbox": {
           "style": "light"
          },
          "paper_bgcolor": "white",
          "plot_bgcolor": "#E5ECF6",
          "polar": {
           "angularaxis": {
            "gridcolor": "white",
            "linecolor": "white",
            "ticks": ""
           },
           "bgcolor": "#E5ECF6",
           "radialaxis": {
            "gridcolor": "white",
            "linecolor": "white",
            "ticks": ""
           }
          },
          "scene": {
           "xaxis": {
            "backgroundcolor": "#E5ECF6",
            "gridcolor": "white",
            "gridwidth": 2,
            "linecolor": "white",
            "showbackground": true,
            "ticks": "",
            "zerolinecolor": "white"
           },
           "yaxis": {
            "backgroundcolor": "#E5ECF6",
            "gridcolor": "white",
            "gridwidth": 2,
            "linecolor": "white",
            "showbackground": true,
            "ticks": "",
            "zerolinecolor": "white"
           },
           "zaxis": {
            "backgroundcolor": "#E5ECF6",
            "gridcolor": "white",
            "gridwidth": 2,
            "linecolor": "white",
            "showbackground": true,
            "ticks": "",
            "zerolinecolor": "white"
           }
          },
          "shapedefaults": {
           "line": {
            "color": "#2a3f5f"
           }
          },
          "ternary": {
           "aaxis": {
            "gridcolor": "white",
            "linecolor": "white",
            "ticks": ""
           },
           "baxis": {
            "gridcolor": "white",
            "linecolor": "white",
            "ticks": ""
           },
           "bgcolor": "#E5ECF6",
           "caxis": {
            "gridcolor": "white",
            "linecolor": "white",
            "ticks": ""
           }
          },
          "title": {
           "x": 0.05
          },
          "xaxis": {
           "automargin": true,
           "gridcolor": "white",
           "linecolor": "white",
           "ticks": "",
           "title": {
            "standoff": 15
           },
           "zerolinecolor": "white",
           "zerolinewidth": 2
          },
          "yaxis": {
           "automargin": true,
           "gridcolor": "white",
           "linecolor": "white",
           "ticks": "",
           "title": {
            "standoff": 15
           },
           "zerolinecolor": "white",
           "zerolinewidth": 2
          }
         }
        },
        "title": {
         "text": "Total Cases Close in India"
        },
        "xaxis": {
         "anchor": "y",
         "domain": [
          0,
          1
         ],
         "title": {
          "text": "STATE NAME"
         }
        },
        "yaxis": {
         "anchor": "x",
         "domain": [
          0,
          1
         ],
         "title": {
          "text": "CURED/DISCHARGED/MIGRATED"
         }
        }
       }
      },
      "text/html": [
       "<div>\n",
       "        \n",
       "        \n",
       "            <div id=\"d32c4761-bd2c-4a53-9799-cbecaafff2bb\" class=\"plotly-graph-div\" style=\"height:525px; width:100%;\"></div>\n",
       "            <script type=\"text/javascript\">\n",
       "                require([\"plotly\"], function(Plotly) {\n",
       "                    window.PLOTLYENV=window.PLOTLYENV || {};\n",
       "                    \n",
       "                if (document.getElementById(\"d32c4761-bd2c-4a53-9799-cbecaafff2bb\")) {\n",
       "                    Plotly.newPlot(\n",
       "                        'd32c4761-bd2c-4a53-9799-cbecaafff2bb',\n",
       "                        [{\"alignmentgroup\": \"True\", \"hovertemplate\": \"STATE NAME=%{x}<br>CURED/DISCHARGED/MIGRATED=%{marker.color}<extra></extra>\", \"legendgroup\": \"\", \"marker\": {\"color\": [92, 11, 42, 13, 25, 431, 7, 131, 127, 16, 71, 112, 291, 14, 127, 572, 2, 0, 24, 3, 38, 205, 457, 190, 18, 140, 73, 19, 0, 0, 1, 0], \"coloraxis\": \"coloraxis\"}, \"name\": \"\", \"offsetgroup\": \"\", \"orientation\": \"v\", \"showlegend\": false, \"textposition\": \"auto\", \"type\": \"bar\", \"x\": [\"AndhraPradesh\", \"AndamanNicobar\", \"Bihar\", \"Chandigarh\", \"Chhattisgarh\", \"Delhi\", \"Goa\", \"Gujarat\", \"Haryana\", \"HimachalPradesh\", \"J & K\", \"Karnataka\", \"Kerala\", \"Ladakh\", \"MP\", \"Maharashtra\", \"Manipur\", \"Mizoram\", \"Odisha\", \"Puducherry\", \"Punjab\", \"Rajasthan\", \"TamilNadu\", \"Telengana\", \"Uttarakhand\", \"UttarPradesh\", \"West Bengal\", \"Assam\", \"Jharkhand\", \"Arunachal Pradesh\", \"Tripura\", \"Meghalaya\"], \"xaxis\": \"x\", \"y\": [92, 11, 42, 13, 25, 431, 7, 131, 127, 16, 71, 112, 291, 14, 127, 572, 2, 0, 24, 3, 38, 205, 457, 190, 18, 140, 73, 19, 0, 0, 1, 0], \"yaxis\": \"y\"}],\n",
       "                        {\"barmode\": \"relative\", \"coloraxis\": {\"colorbar\": {\"title\": {\"text\": \"CURED/DISCHARGED/MIGRATED\"}}, \"colorscale\": [[0.0, \"#0d0887\"], [0.1111111111111111, \"#46039f\"], [0.2222222222222222, \"#7201a8\"], [0.3333333333333333, \"#9c179e\"], [0.4444444444444444, \"#bd3786\"], [0.5555555555555556, \"#d8576b\"], [0.6666666666666666, \"#ed7953\"], [0.7777777777777778, \"#fb9f3a\"], [0.8888888888888888, \"#fdca26\"], [1.0, \"#f0f921\"]]}, \"legend\": {\"tracegroupgap\": 0}, \"template\": {\"data\": {\"bar\": [{\"error_x\": {\"color\": \"#2a3f5f\"}, \"error_y\": {\"color\": \"#2a3f5f\"}, \"marker\": {\"line\": {\"color\": \"#E5ECF6\", \"width\": 0.5}}, \"type\": \"bar\"}], \"barpolar\": [{\"marker\": {\"line\": {\"color\": \"#E5ECF6\", \"width\": 0.5}}, \"type\": \"barpolar\"}], \"carpet\": [{\"aaxis\": {\"endlinecolor\": \"#2a3f5f\", \"gridcolor\": \"white\", \"linecolor\": \"white\", \"minorgridcolor\": \"white\", \"startlinecolor\": \"#2a3f5f\"}, \"baxis\": {\"endlinecolor\": \"#2a3f5f\", \"gridcolor\": \"white\", \"linecolor\": \"white\", \"minorgridcolor\": \"white\", \"startlinecolor\": \"#2a3f5f\"}, \"type\": \"carpet\"}], \"choropleth\": [{\"colorbar\": {\"outlinewidth\": 0, \"ticks\": \"\"}, \"type\": \"choropleth\"}], \"contour\": [{\"colorbar\": {\"outlinewidth\": 0, \"ticks\": \"\"}, \"colorscale\": [[0.0, \"#0d0887\"], [0.1111111111111111, \"#46039f\"], [0.2222222222222222, \"#7201a8\"], [0.3333333333333333, \"#9c179e\"], [0.4444444444444444, \"#bd3786\"], [0.5555555555555556, \"#d8576b\"], [0.6666666666666666, \"#ed7953\"], [0.7777777777777778, \"#fb9f3a\"], [0.8888888888888888, \"#fdca26\"], [1.0, \"#f0f921\"]], \"type\": \"contour\"}], \"contourcarpet\": [{\"colorbar\": {\"outlinewidth\": 0, \"ticks\": \"\"}, \"type\": \"contourcarpet\"}], \"heatmap\": [{\"colorbar\": {\"outlinewidth\": 0, \"ticks\": \"\"}, \"colorscale\": [[0.0, \"#0d0887\"], [0.1111111111111111, \"#46039f\"], [0.2222222222222222, \"#7201a8\"], [0.3333333333333333, \"#9c179e\"], [0.4444444444444444, \"#bd3786\"], [0.5555555555555556, \"#d8576b\"], [0.6666666666666666, \"#ed7953\"], [0.7777777777777778, \"#fb9f3a\"], [0.8888888888888888, \"#fdca26\"], [1.0, \"#f0f921\"]], \"type\": \"heatmap\"}], \"heatmapgl\": [{\"colorbar\": {\"outlinewidth\": 0, \"ticks\": \"\"}, \"colorscale\": [[0.0, \"#0d0887\"], [0.1111111111111111, \"#46039f\"], [0.2222222222222222, \"#7201a8\"], [0.3333333333333333, \"#9c179e\"], [0.4444444444444444, \"#bd3786\"], [0.5555555555555556, \"#d8576b\"], [0.6666666666666666, \"#ed7953\"], [0.7777777777777778, \"#fb9f3a\"], [0.8888888888888888, \"#fdca26\"], [1.0, \"#f0f921\"]], \"type\": \"heatmapgl\"}], \"histogram\": [{\"marker\": {\"colorbar\": {\"outlinewidth\": 0, \"ticks\": \"\"}}, \"type\": \"histogram\"}], \"histogram2d\": [{\"colorbar\": {\"outlinewidth\": 0, \"ticks\": \"\"}, \"colorscale\": [[0.0, \"#0d0887\"], [0.1111111111111111, \"#46039f\"], [0.2222222222222222, \"#7201a8\"], [0.3333333333333333, \"#9c179e\"], [0.4444444444444444, \"#bd3786\"], [0.5555555555555556, \"#d8576b\"], [0.6666666666666666, \"#ed7953\"], [0.7777777777777778, \"#fb9f3a\"], [0.8888888888888888, \"#fdca26\"], [1.0, \"#f0f921\"]], \"type\": \"histogram2d\"}], \"histogram2dcontour\": [{\"colorbar\": {\"outlinewidth\": 0, \"ticks\": \"\"}, \"colorscale\": [[0.0, \"#0d0887\"], [0.1111111111111111, \"#46039f\"], [0.2222222222222222, \"#7201a8\"], [0.3333333333333333, \"#9c179e\"], [0.4444444444444444, \"#bd3786\"], [0.5555555555555556, \"#d8576b\"], [0.6666666666666666, \"#ed7953\"], [0.7777777777777778, \"#fb9f3a\"], [0.8888888888888888, \"#fdca26\"], [1.0, \"#f0f921\"]], \"type\": \"histogram2dcontour\"}], \"mesh3d\": [{\"colorbar\": {\"outlinewidth\": 0, \"ticks\": \"\"}, \"type\": \"mesh3d\"}], \"parcoords\": [{\"line\": {\"colorbar\": {\"outlinewidth\": 0, \"ticks\": \"\"}}, \"type\": \"parcoords\"}], \"pie\": [{\"automargin\": true, \"type\": \"pie\"}], \"scatter\": [{\"marker\": {\"colorbar\": {\"outlinewidth\": 0, \"ticks\": \"\"}}, \"type\": \"scatter\"}], \"scatter3d\": [{\"line\": {\"colorbar\": {\"outlinewidth\": 0, \"ticks\": \"\"}}, \"marker\": {\"colorbar\": {\"outlinewidth\": 0, \"ticks\": \"\"}}, \"type\": \"scatter3d\"}], \"scattercarpet\": [{\"marker\": {\"colorbar\": {\"outlinewidth\": 0, \"ticks\": \"\"}}, \"type\": \"scattercarpet\"}], \"scattergeo\": [{\"marker\": {\"colorbar\": {\"outlinewidth\": 0, \"ticks\": \"\"}}, \"type\": \"scattergeo\"}], \"scattergl\": [{\"marker\": {\"colorbar\": {\"outlinewidth\": 0, \"ticks\": \"\"}}, \"type\": \"scattergl\"}], \"scattermapbox\": [{\"marker\": {\"colorbar\": {\"outlinewidth\": 0, \"ticks\": \"\"}}, \"type\": \"scattermapbox\"}], \"scatterpolar\": [{\"marker\": {\"colorbar\": {\"outlinewidth\": 0, \"ticks\": \"\"}}, \"type\": \"scatterpolar\"}], \"scatterpolargl\": [{\"marker\": {\"colorbar\": {\"outlinewidth\": 0, \"ticks\": \"\"}}, \"type\": \"scatterpolargl\"}], \"scatterternary\": [{\"marker\": {\"colorbar\": {\"outlinewidth\": 0, \"ticks\": \"\"}}, \"type\": \"scatterternary\"}], \"surface\": [{\"colorbar\": {\"outlinewidth\": 0, \"ticks\": \"\"}, \"colorscale\": [[0.0, \"#0d0887\"], [0.1111111111111111, \"#46039f\"], [0.2222222222222222, \"#7201a8\"], [0.3333333333333333, \"#9c179e\"], [0.4444444444444444, \"#bd3786\"], [0.5555555555555556, \"#d8576b\"], [0.6666666666666666, \"#ed7953\"], [0.7777777777777778, \"#fb9f3a\"], [0.8888888888888888, \"#fdca26\"], [1.0, \"#f0f921\"]], \"type\": \"surface\"}], \"table\": [{\"cells\": {\"fill\": {\"color\": \"#EBF0F8\"}, \"line\": {\"color\": \"white\"}}, \"header\": {\"fill\": {\"color\": \"#C8D4E3\"}, \"line\": {\"color\": \"white\"}}, \"type\": \"table\"}]}, \"layout\": {\"annotationdefaults\": {\"arrowcolor\": \"#2a3f5f\", \"arrowhead\": 0, \"arrowwidth\": 1}, \"coloraxis\": {\"colorbar\": {\"outlinewidth\": 0, \"ticks\": \"\"}}, \"colorscale\": {\"diverging\": [[0, \"#8e0152\"], [0.1, \"#c51b7d\"], [0.2, \"#de77ae\"], [0.3, \"#f1b6da\"], [0.4, \"#fde0ef\"], [0.5, \"#f7f7f7\"], [0.6, \"#e6f5d0\"], [0.7, \"#b8e186\"], [0.8, \"#7fbc41\"], [0.9, \"#4d9221\"], [1, \"#276419\"]], \"sequential\": [[0.0, \"#0d0887\"], [0.1111111111111111, \"#46039f\"], [0.2222222222222222, \"#7201a8\"], [0.3333333333333333, \"#9c179e\"], [0.4444444444444444, \"#bd3786\"], [0.5555555555555556, \"#d8576b\"], [0.6666666666666666, \"#ed7953\"], [0.7777777777777778, \"#fb9f3a\"], [0.8888888888888888, \"#fdca26\"], [1.0, \"#f0f921\"]], \"sequentialminus\": [[0.0, \"#0d0887\"], [0.1111111111111111, \"#46039f\"], [0.2222222222222222, \"#7201a8\"], [0.3333333333333333, \"#9c179e\"], [0.4444444444444444, \"#bd3786\"], [0.5555555555555556, \"#d8576b\"], [0.6666666666666666, \"#ed7953\"], [0.7777777777777778, \"#fb9f3a\"], [0.8888888888888888, \"#fdca26\"], [1.0, \"#f0f921\"]]}, \"colorway\": [\"#636efa\", \"#EF553B\", \"#00cc96\", \"#ab63fa\", \"#FFA15A\", \"#19d3f3\", \"#FF6692\", \"#B6E880\", \"#FF97FF\", \"#FECB52\"], \"font\": {\"color\": \"#2a3f5f\"}, \"geo\": {\"bgcolor\": \"white\", \"lakecolor\": \"white\", \"landcolor\": \"#E5ECF6\", \"showlakes\": true, \"showland\": true, \"subunitcolor\": \"white\"}, \"hoverlabel\": {\"align\": \"left\"}, \"hovermode\": \"closest\", \"mapbox\": {\"style\": \"light\"}, \"paper_bgcolor\": \"white\", \"plot_bgcolor\": \"#E5ECF6\", \"polar\": {\"angularaxis\": {\"gridcolor\": \"white\", \"linecolor\": \"white\", \"ticks\": \"\"}, \"bgcolor\": \"#E5ECF6\", \"radialaxis\": {\"gridcolor\": \"white\", \"linecolor\": \"white\", \"ticks\": \"\"}}, \"scene\": {\"xaxis\": {\"backgroundcolor\": \"#E5ECF6\", \"gridcolor\": \"white\", \"gridwidth\": 2, \"linecolor\": \"white\", \"showbackground\": true, \"ticks\": \"\", \"zerolinecolor\": \"white\"}, \"yaxis\": {\"backgroundcolor\": \"#E5ECF6\", \"gridcolor\": \"white\", \"gridwidth\": 2, \"linecolor\": \"white\", \"showbackground\": true, \"ticks\": \"\", \"zerolinecolor\": \"white\"}, \"zaxis\": {\"backgroundcolor\": \"#E5ECF6\", \"gridcolor\": \"white\", \"gridwidth\": 2, \"linecolor\": \"white\", \"showbackground\": true, \"ticks\": \"\", \"zerolinecolor\": \"white\"}}, \"shapedefaults\": {\"line\": {\"color\": \"#2a3f5f\"}}, \"ternary\": {\"aaxis\": {\"gridcolor\": \"white\", \"linecolor\": \"white\", \"ticks\": \"\"}, \"baxis\": {\"gridcolor\": \"white\", \"linecolor\": \"white\", \"ticks\": \"\"}, \"bgcolor\": \"#E5ECF6\", \"caxis\": {\"gridcolor\": \"white\", \"linecolor\": \"white\", \"ticks\": \"\"}}, \"title\": {\"x\": 0.05}, \"xaxis\": {\"automargin\": true, \"gridcolor\": \"white\", \"linecolor\": \"white\", \"ticks\": \"\", \"title\": {\"standoff\": 15}, \"zerolinecolor\": \"white\", \"zerolinewidth\": 2}, \"yaxis\": {\"automargin\": true, \"gridcolor\": \"white\", \"linecolor\": \"white\", \"ticks\": \"\", \"title\": {\"standoff\": 15}, \"zerolinecolor\": \"white\", \"zerolinewidth\": 2}}}, \"title\": {\"text\": \"Total Cases Close in India\"}, \"xaxis\": {\"anchor\": \"y\", \"domain\": [0.0, 1.0], \"title\": {\"text\": \"STATE NAME\"}}, \"yaxis\": {\"anchor\": \"x\", \"domain\": [0.0, 1.0], \"title\": {\"text\": \"CURED/DISCHARGED/MIGRATED\"}}},\n",
       "                        {\"responsive\": true}\n",
       "                    ).then(function(){\n",
       "                            \n",
       "var gd = document.getElementById('d32c4761-bd2c-4a53-9799-cbecaafff2bb');\n",
       "var x = new MutationObserver(function (mutations, observer) {{\n",
       "        var display = window.getComputedStyle(gd).display;\n",
       "        if (!display || display === 'none') {{\n",
       "            console.log([gd, 'removed!']);\n",
       "            Plotly.purge(gd);\n",
       "            observer.disconnect();\n",
       "        }}\n",
       "}});\n",
       "\n",
       "// Listen for the removal of the full notebook cells\n",
       "var notebookContainer = gd.closest('#notebook-container');\n",
       "if (notebookContainer) {{\n",
       "    x.observe(notebookContainer, {childList: true});\n",
       "}}\n",
       "\n",
       "// Listen for the clearing of the current output cell\n",
       "var outputEl = gd.closest('.output');\n",
       "if (outputEl) {{\n",
       "    x.observe(outputEl, {childList: true});\n",
       "}}\n",
       "\n",
       "                        })\n",
       "                };\n",
       "                });\n",
       "            </script>\n",
       "        </div>"
      ]
     },
     "metadata": {},
     "output_type": "display_data"
    }
   ],
   "source": [
    "fig=px.bar(covid_india,x=\"STATE NAME\",y=\"CURED/DISCHARGED/MIGRATED\",color='CURED/DISCHARGED/MIGRATED',\n",
    "           title='Total Cases Close in India')\n",
    "fig.show()"
   ]
  },
  {
   "cell_type": "code",
   "execution_count": 22,
   "metadata": {},
   "outputs": [
    {
     "data": {
      "image/png": "[encoded data removed]",
      "text/plain": [
       "<Figure size 2000x1000 with 1 Axes>"
      ]
     },
     "metadata": {},
     "output_type": "display_data"
    }
   ],
   "source": [
    "plt.figure(figsize=(10,5),dpi=200)\n",
    "\n",
    "#plt.plot(covid_india['STATE NAME'], covid_india['TOTAL CONFIRMED'], label='Math marks', color='r')\n",
    "plt.plot(covid_india['STATE NAME'], covid_india['CURED/DISCHARGED/MIGRATED'], label='CURED/DISCHARGED',marker='*', color='m')\n",
    "plt.plot(covid_india['STATE NAME'], covid_india['DEATH'],marker='*', label='DEATH', color='r')\n",
    "plt.plot(covid_india['STATE NAME'], covid_india['ACTIVE CASES'],marker='*', label='ACTIVE CASES', color='g')\n",
    "\n",
    "plt.xticks(covid_india['STATE NAME'], rotation=90)\n",
    "plt.xlabel('States')\n",
    "plt.ylabel('No of Cases')\n",
    "plt.title('State wise Cases')\n",
    "\n",
    "plt.legend()\n",
    "plt.show()\n",
    "\n"
   ]
  },
  {
   "attachments": {},
   "cell_type": "markdown",
   "metadata": {},
   "source": [
    "### Insert a Latitude and Longitude in main DataFrame"
   ]
  },
  {
   "cell_type": "code",
   "execution_count": 23,
   "metadata": {},
   "outputs": [
    {
     "data": {
      "text/html": [
       "<div>\n",
       "<style scoped>\n",
       "    .dataframe tbody tr th:only-of-type {\n",
       "        vertical-align: middle;\n",
       "    }\n",
       "\n",
       "    .dataframe tbody tr th {\n",
       "        vertical-align: top;\n",
       "    }\n",
       "\n",
       "    .dataframe thead th {\n",
       "        text-align: right;\n",
       "    }\n",
       "</style>\n",
       "<table border=\"1\" class=\"dataframe\">\n",
       "  <thead>\n",
       "    <tr style=\"text-align: right;\">\n",
       "      <th></th>\n",
       "      <th>STATE NAME</th>\n",
       "      <th>TOTAL CONFIRMED</th>\n",
       "      <th>CURED/DISCHARGED/MIGRATED</th>\n",
       "      <th>DEATH</th>\n",
       "      <th>ACTIVE CASES</th>\n",
       "    </tr>\n",
       "  </thead>\n",
       "  <tbody>\n",
       "    <tr>\n",
       "      <th>0</th>\n",
       "      <td>AndhraPradesh</td>\n",
       "      <td>722</td>\n",
       "      <td>92</td>\n",
       "      <td>20</td>\n",
       "      <td>610</td>\n",
       "    </tr>\n",
       "    <tr>\n",
       "      <th>1</th>\n",
       "      <td>AndamanNicobar</td>\n",
       "      <td>16</td>\n",
       "      <td>11</td>\n",
       "      <td>0</td>\n",
       "      <td>5</td>\n",
       "    </tr>\n",
       "    <tr>\n",
       "      <th>2</th>\n",
       "      <td>Bihar</td>\n",
       "      <td>113</td>\n",
       "      <td>42</td>\n",
       "      <td>2</td>\n",
       "      <td>69</td>\n",
       "    </tr>\n",
       "    <tr>\n",
       "      <th>3</th>\n",
       "      <td>Chandigarh</td>\n",
       "      <td>26</td>\n",
       "      <td>13</td>\n",
       "      <td>0</td>\n",
       "      <td>13</td>\n",
       "    </tr>\n",
       "    <tr>\n",
       "      <th>4</th>\n",
       "      <td>Chhattisgarh</td>\n",
       "      <td>36</td>\n",
       "      <td>25</td>\n",
       "      <td>0</td>\n",
       "      <td>11</td>\n",
       "    </tr>\n",
       "  </tbody>\n",
       "</table>\n",
       "</div>"
      ],
      "text/plain": [
       "       STATE NAME  TOTAL CONFIRMED  CURED/DISCHARGED/MIGRATED  DEATH  \\\n",
       "0   AndhraPradesh              722                         92     20   \n",
       "1  AndamanNicobar               16                         11      0   \n",
       "2           Bihar              113                         42      2   \n",
       "3      Chandigarh               26                         13      0   \n",
       "4    Chhattisgarh               36                         25      0   \n",
       "\n",
       "   ACTIVE CASES  \n",
       "0           610  \n",
       "1             5  \n",
       "2            69  \n",
       "3            13  \n",
       "4            11  "
      ]
     },
     "execution_count": 23,
     "metadata": {},
     "output_type": "execute_result"
    }
   ],
   "source": [
    "covid_india.head()"
   ]
  },
  {
   "cell_type": "code",
   "execution_count": 24,
   "metadata": {},
   "outputs": [],
   "source": [
    "map_data = pd.read_csv('Indian Coordinates.csv')"
   ]
  },
  {
   "cell_type": "code",
   "execution_count": 25,
   "metadata": {},
   "outputs": [
    {
     "data": {
      "text/html": [
       "<div>\n",
       "<style scoped>\n",
       "    .dataframe tbody tr th:only-of-type {\n",
       "        vertical-align: middle;\n",
       "    }\n",
       "\n",
       "    .dataframe tbody tr th {\n",
       "        vertical-align: top;\n",
       "    }\n",
       "\n",
       "    .dataframe thead th {\n",
       "        text-align: right;\n",
       "    }\n",
       "</style>\n",
       "<table border=\"1\" class=\"dataframe\">\n",
       "  <thead>\n",
       "    <tr style=\"text-align: right;\">\n",
       "      <th></th>\n",
       "      <th>STATE NAME</th>\n",
       "      <th>Latitude</th>\n",
       "      <th>Longitude</th>\n",
       "    </tr>\n",
       "  </thead>\n",
       "  <tbody>\n",
       "    <tr>\n",
       "      <th>0</th>\n",
       "      <td>AndamanNicobar</td>\n",
       "      <td>11.667026</td>\n",
       "      <td>92.735983</td>\n",
       "    </tr>\n",
       "    <tr>\n",
       "      <th>1</th>\n",
       "      <td>AndhraPradesh</td>\n",
       "      <td>14.750429</td>\n",
       "      <td>78.570026</td>\n",
       "    </tr>\n",
       "    <tr>\n",
       "      <th>2</th>\n",
       "      <td>Arunachal Pradesh</td>\n",
       "      <td>27.100399</td>\n",
       "      <td>93.616601</td>\n",
       "    </tr>\n",
       "    <tr>\n",
       "      <th>3</th>\n",
       "      <td>Assam</td>\n",
       "      <td>26.749981</td>\n",
       "      <td>94.216667</td>\n",
       "    </tr>\n",
       "    <tr>\n",
       "      <th>4</th>\n",
       "      <td>Bihar</td>\n",
       "      <td>25.785414</td>\n",
       "      <td>87.479973</td>\n",
       "    </tr>\n",
       "  </tbody>\n",
       "</table>\n",
       "</div>"
      ],
      "text/plain": [
       "          STATE NAME   Latitude  Longitude\n",
       "0     AndamanNicobar  11.667026  92.735983\n",
       "1      AndhraPradesh  14.750429  78.570026\n",
       "2  Arunachal Pradesh  27.100399  93.616601\n",
       "3              Assam  26.749981  94.216667\n",
       "4              Bihar  25.785414  87.479973"
      ]
     },
     "execution_count": 25,
     "metadata": {},
     "output_type": "execute_result"
    }
   ],
   "source": [
    "map_data.head()"
   ]
  },
  {
   "cell_type": "code",
   "execution_count": 26,
   "metadata": {},
   "outputs": [],
   "source": [
    "covid_india = pd.merge(covid_india, map_data, on='STATE NAME')"
   ]
  },
  {
   "cell_type": "code",
   "execution_count": 27,
   "metadata": {},
   "outputs": [
    {
     "data": {
      "text/html": [
       "<div>\n",
       "<style scoped>\n",
       "    .dataframe tbody tr th:only-of-type {\n",
       "        vertical-align: middle;\n",
       "    }\n",
       "\n",
       "    .dataframe tbody tr th {\n",
       "        vertical-align: top;\n",
       "    }\n",
       "\n",
       "    .dataframe thead th {\n",
       "        text-align: right;\n",
       "    }\n",
       "</style>\n",
       "<table border=\"1\" class=\"dataframe\">\n",
       "  <thead>\n",
       "    <tr style=\"text-align: right;\">\n",
       "      <th></th>\n",
       "      <th>STATE NAME</th>\n",
       "      <th>TOTAL CONFIRMED</th>\n",
       "      <th>CURED/DISCHARGED/MIGRATED</th>\n",
       "      <th>DEATH</th>\n",
       "      <th>ACTIVE CASES</th>\n",
       "      <th>Latitude</th>\n",
       "      <th>Longitude</th>\n",
       "    </tr>\n",
       "  </thead>\n",
       "  <tbody>\n",
       "    <tr>\n",
       "      <th>0</th>\n",
       "      <td>AndhraPradesh</td>\n",
       "      <td>722</td>\n",
       "      <td>92</td>\n",
       "      <td>20</td>\n",
       "      <td>610</td>\n",
       "      <td>14.750429</td>\n",
       "      <td>78.570026</td>\n",
       "    </tr>\n",
       "    <tr>\n",
       "      <th>1</th>\n",
       "      <td>AndamanNicobar</td>\n",
       "      <td>16</td>\n",
       "      <td>11</td>\n",
       "      <td>0</td>\n",
       "      <td>5</td>\n",
       "      <td>11.667026</td>\n",
       "      <td>92.735983</td>\n",
       "    </tr>\n",
       "    <tr>\n",
       "      <th>2</th>\n",
       "      <td>Bihar</td>\n",
       "      <td>113</td>\n",
       "      <td>42</td>\n",
       "      <td>2</td>\n",
       "      <td>69</td>\n",
       "      <td>25.785414</td>\n",
       "      <td>87.479973</td>\n",
       "    </tr>\n",
       "    <tr>\n",
       "      <th>3</th>\n",
       "      <td>Chandigarh</td>\n",
       "      <td>26</td>\n",
       "      <td>13</td>\n",
       "      <td>0</td>\n",
       "      <td>13</td>\n",
       "      <td>30.719997</td>\n",
       "      <td>76.780006</td>\n",
       "    </tr>\n",
       "    <tr>\n",
       "      <th>4</th>\n",
       "      <td>Chhattisgarh</td>\n",
       "      <td>36</td>\n",
       "      <td>25</td>\n",
       "      <td>0</td>\n",
       "      <td>11</td>\n",
       "      <td>22.090420</td>\n",
       "      <td>82.159987</td>\n",
       "    </tr>\n",
       "  </tbody>\n",
       "</table>\n",
       "</div>"
      ],
      "text/plain": [
       "       STATE NAME  TOTAL CONFIRMED  CURED/DISCHARGED/MIGRATED  DEATH  \\\n",
       "0   AndhraPradesh              722                         92     20   \n",
       "1  AndamanNicobar               16                         11      0   \n",
       "2           Bihar              113                         42      2   \n",
       "3      Chandigarh               26                         13      0   \n",
       "4    Chhattisgarh               36                         25      0   \n",
       "\n",
       "   ACTIVE CASES   Latitude  Longitude  \n",
       "0           610  14.750429  78.570026  \n",
       "1             5  11.667026  92.735983  \n",
       "2            69  25.785414  87.479973  \n",
       "3            13  30.719997  76.780006  \n",
       "4            11  22.090420  82.159987  "
      ]
     },
     "execution_count": 27,
     "metadata": {},
     "output_type": "execute_result"
    }
   ],
   "source": [
    "covid_india.head()"
   ]
  },
  {
   "cell_type": "code",
   "execution_count": null,
   "metadata": {},
   "outputs": [],
   "source": []
  },
  {
   "cell_type": "markdown",
   "metadata": {},
   "source": [
    "## Analysis Data in Map Format"
   ]
  },
  {
   "cell_type": "code",
   "execution_count": 28,
   "metadata": {},
   "outputs": [],
   "source": [
    "#folium.Map()"
   ]
  },
  {
   "cell_type": "code",
   "execution_count": 33,
   "metadata": {},
   "outputs": [],
   "source": [
    "map1 = folium.Map(location=[25,80],zoom_start=4.5,tiles='openstreetmap')\n",
    "\n",
    "for lat,long,value,name in zip(covid_india['Latitude'],covid_india['Longitude'],\n",
    "                                covid_india['TOTAL CONFIRMED'],covid_india['STATE NAME']):\n",
    "   \n",
    "    folium.CircleMarker([lat,long],radius=value*0.01,popup=('<strong>State</strong>: '+str(name).capitalize()+'<br>''<strong>Total Cases</strong>: '+ str(value)+ '<br>'),\n",
    "                        color='red',fill_color='red',fill_opacity=0.1).add_to(map1)\n",
    "    "
   ]
  },
  {
   "cell_type": "code",
   "execution_count": 34,
   "metadata": {},
   "outputs": [
    {
     "data": {
      "text/html": [
       "<div style=\"width:100%;\"><div style=\"position:relative;width:100%;height:0;padding-bottom:60%;\"><iframe src=\"about:blank\" style=\"position:absolute;width:100%;height:100%;left:0;top:0;border:none !important;\" data-html=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 onload=\"this.contentDocument.open();this.contentDocument.write(atob(this.getAttribute('data-html')));this.contentDocument.close();\" allowfullscreen webkitallowfullscreen mozallowfullscreen></iframe></div></div>"
      ],
      "text/plain": [
       "<folium.folium.Map at 0x12371888>"
      ]
     },
     "execution_count": 34,
     "metadata": {},
     "output_type": "execute_result"
    }
   ],
   "source": [
    "map1"
   ]
  }
 ],
 "metadata": {
  "kernelspec": {
   "display_name": "Python 3",
   "language": "python",
   "name": "python3"
  },
  "language_info": {
   "codemirror_mode": {
    "name": "ipython",
    "version": 3
   },
   "file_extension": ".py",
   "mimetype": "text/x-python",
   "name": "python",
   "nbconvert_exporter": "python",
   "pygments_lexer": "ipython3",
   "version": "3.7.7"
  }
 },
 "nbformat": 4,
 "nbformat_minor": 2
}
